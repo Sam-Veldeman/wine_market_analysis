{
 "cells": [
  {
   "cell_type": "markdown",
   "metadata": {},
   "source": [
    "We would like to give awards to the best wineries. Come up with 3 relevant ones. Which wineries should we choose and why? Be creative ;)"
   ]
  },
  {
   "cell_type": "code",
   "execution_count": 61,
   "metadata": {},
   "outputs": [],
   "source": [
    "# Import required libraries\n",
    "import sqlite3\n",
    "  \n",
    "# Connect to SQLite database\n",
    "conn = sqlite3.connect(r'../data/vivino.db')\n",
    "\n",
    "# Create a cursor object\n",
    "cur = conn.cursor()"
   ]
  },
  {
   "cell_type": "code",
   "execution_count": 126,
   "metadata": {},
   "outputs": [
    {
     "data": {
      "text/plain": [
       "[]"
      ]
     },
     "execution_count": 126,
     "metadata": {},
     "output_type": "execute_result"
    }
   ],
   "source": [
    "cur.execute(\"\"\"\n",
    "            SELECT *\n",
    "            FROM wineries \n",
    "            WHERE wineries.id = 1574\n",
    "            ;\n",
    "            \"\"\")\n",
    "cur.fetchall()"
   ]
  },
  {
   "cell_type": "code",
   "execution_count": 128,
   "metadata": {},
   "outputs": [
    {
     "data": {
      "text/plain": [
       "[('The Armagh Shiraz', 1651, 1651, \"Tenuta Tignanello 'Solaia'\"),\n",
       " ('Colheita Porto', 1652, 1652, 'Tignanello'),\n",
       " ('Lion Tamer Napa Valley Red Blend', 1471, 1471, 'Siepi'),\n",
       " ('Raut Lagrein', 75712, 75712, 'Corte di Cama Sforzato di Valtellina')]"
      ]
     },
     "execution_count": 128,
     "metadata": {},
     "output_type": "execute_result"
    }
   ],
   "source": [
    "\n",
    "cur.execute(\"\"\"\n",
    "            SELECT wines.name, wines.winery_id, wineries.id, wineries.name\n",
    "            FROM wines\n",
    "                join wineries on wines.winery_id = wineries.id\n",
    "            LIMIT 15;\n",
    "            \"\"\")\n",
    "cur.fetchall()"
   ]
  },
  {
   "cell_type": "code",
   "execution_count": 77,
   "metadata": {},
   "outputs": [
    {
     "data": {
      "text/plain": [
       "[(\"'Giulio Ferrari' Riserva del Fondatore\", 10),\n",
       " (\"'Giulio Ferrari' Riserva del Fondatore Rosé\", 1),\n",
       " ('110 e Lode Merlot', 1),\n",
       " ('123 Brunello di Montalcino Riserva', 1),\n",
       " ('1694 Classification Red', 1),\n",
       " ('25 anni Montefalco Sagrantino', 1),\n",
       " ('30 Year Old Tawny Port', 1),\n",
       " ('40 Anos Tawny Port', 1),\n",
       " ('40 Years Old Port', 1),\n",
       " ('40 Years Old Tawny Port', 1)]"
      ]
     },
     "execution_count": 77,
     "metadata": {},
     "output_type": "execute_result"
    }
   ],
   "source": [
    "\n",
    "cur.execute(\"\"\"\n",
    "            SELECT  w.name, count(v.id)\n",
    "            FROM wines w\n",
    "            JOIN vintages v ON v.wine_id = w.id\n",
    "            GROUP BY w.name\n",
    "            LIMIT 10;\n",
    "            \"\"\")\n",
    "cur.fetchall()\n"
   ]
  },
  {
   "cell_type": "code",
   "execution_count": 139,
   "metadata": {},
   "outputs": [
    {
     "data": {
      "text/plain": [
       "[('global', \"Vivino's 2016 Wine Style Awards: French Champagne\", 7),\n",
       " ('global', \"Vivino's 2018 Wine Style Awards: French Champagne\", 3),\n",
       " ('global', \"Vivino's 2019 Wine Style Awards: French Champagne Vintage\", 3),\n",
       " ('global', \"Vivino's 2020 Wine Style Awards: French Champagne Vintage\", 1),\n",
       " ('global', \"Vivino's 2019 Wine Style Awards: Bordeaux Pauillac\", 2),\n",
       " ('global', \"Vivino's 2020 Wine Style Awards: Bordeaux Pauillac\", 2),\n",
       " ('global', \"Vivino's 2018 Wine Style Awards: Bordeaux Pauillac\", 2),\n",
       " ('global', \"Vivino's 2020 Wine Style Awards: Tuscan Red\", 1),\n",
       " ('global', \"Vivino's 2016 Wine Style Awards: Central Italy Red\", 1),\n",
       " ('global', \"Vivino's 2019 Wine Style Awards: Tuscan Red\", 2),\n",
       " ('global', \"Vivino's 2016 Wine Style Awards: French Champagne\", 6),\n",
       " ('global',\n",
       "  \"Vivino's 2019 Wine Style Awards: Napa Valley Cabernet Sauvignon\",\n",
       "  1),\n",
       " ('global', \"Vivino's 2018 Wine Style Awards: Bordeaux Pauillac\", 5),\n",
       " ('global', \"Vivino's 2019 Wine Style Awards: Bordeaux Pauillac\", 6),\n",
       " ('global', \"Vivino's 2016 Wine Style Awards: Central Italy Red\", 5)]"
      ]
     },
     "execution_count": 139,
     "metadata": {},
     "output_type": "execute_result"
    }
   ],
   "source": [
    "cur.execute(\"\"\"\n",
    "            SELECT tl.country_code, tl.name,vtr.rank \n",
    "            FROM toplists tl\n",
    "            JOIN vintage_toplists_rankings vtr ON tl.id = vtr.top_list_id\n",
    "            LIMIT 15;\n",
    "            \"\"\")\n",
    "cur.fetchall()"
   ]
  },
  {
   "cell_type": "code",
   "execution_count": null,
   "metadata": {},
   "outputs": [],
   "source": [
    "cur.execute(\"\"\"\n",
    "            SELECT  DISTINCT country_code\n",
    "            FROM toplists\n",
    "            LIMIT 15;\n",
    "            \"\"\")\n",
    "cur.fetchall()"
   ]
  }
 ],
 "metadata": {
  "kernelspec": {
   "display_name": "immo-eliza-data-analysis-env",
   "language": "python",
   "name": "python3"
  },
  "language_info": {
   "codemirror_mode": {
    "name": "ipython",
    "version": 3
   },
   "file_extension": ".py",
   "mimetype": "text/x-python",
   "name": "python",
   "nbconvert_exporter": "python",
   "pygments_lexer": "ipython3",
   "version": "3.11.5"
  },
  "orig_nbformat": 4
 },
 "nbformat": 4,
 "nbformat_minor": 2
}
