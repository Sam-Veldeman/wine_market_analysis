{
 "cells": [
  {
   "cell_type": "markdown",
   "metadata": {},
   "source": [
    "We would like to give awards to the best wineries. Come up with 3 relevant ones. Which wineries should we choose and why? Be creative ;)"
   ]
  },
  {
   "cell_type": "code",
   "execution_count": 72,
   "metadata": {},
   "outputs": [],
   "source": [
    "# Import required libraries\n",
    "import sqlite3\n",
    "  \n",
    "# Connect to SQLite database\n",
    "conn = sqlite3.connect(r'../data/vivino.db')\n",
    "\n",
    "# Create a cursor object\n",
    "cur = conn.cursor()"
   ]
  },
  {
   "cell_type": "code",
   "execution_count": 126,
   "metadata": {},
   "outputs": [
    {
     "data": {
      "text/plain": [
       "[]"
      ]
     },
     "execution_count": 126,
     "metadata": {},
     "output_type": "execute_result"
    }
   ],
   "source": [
    "cur.execute(\"\"\"\n",
    "            SELECT *\n",
    "            FROM wineries \n",
    "            WHERE wineries.id = 1574\n",
    "            ;\n",
    "            \"\"\")\n",
    "cur.fetchall()"
   ]
  },
  {
   "cell_type": "code",
   "execution_count": 128,
   "metadata": {},
   "outputs": [
    {
     "data": {
      "text/plain": [
       "[('The Armagh Shiraz', 1651, 1651, \"Tenuta Tignanello 'Solaia'\"),\n",
       " ('Colheita Porto', 1652, 1652, 'Tignanello'),\n",
       " ('Lion Tamer Napa Valley Red Blend', 1471, 1471, 'Siepi'),\n",
       " ('Raut Lagrein', 75712, 75712, 'Corte di Cama Sforzato di Valtellina')]"
      ]
     },
     "execution_count": 128,
     "metadata": {},
     "output_type": "execute_result"
    }
   ],
   "source": [
    "\n",
    "cur.execute(\"\"\"\n",
    "            SELECT wines.name, wines.winery_id, wineries.id, wineries.name\n",
    "            FROM wines\n",
    "                join wineries on wines.winery_id = wineries.id\n",
    "            LIMIT 15;\n",
    "            \"\"\")\n",
    "cur.fetchall()"
   ]
  },
  {
   "cell_type": "code",
   "execution_count": 77,
   "metadata": {},
   "outputs": [
    {
     "data": {
      "text/plain": [
       "[(\"'Giulio Ferrari' Riserva del Fondatore\", 10),\n",
       " (\"'Giulio Ferrari' Riserva del Fondatore Rosé\", 1),\n",
       " ('110 e Lode Merlot', 1),\n",
       " ('123 Brunello di Montalcino Riserva', 1),\n",
       " ('1694 Classification Red', 1),\n",
       " ('25 anni Montefalco Sagrantino', 1),\n",
       " ('30 Year Old Tawny Port', 1),\n",
       " ('40 Anos Tawny Port', 1),\n",
       " ('40 Years Old Port', 1),\n",
       " ('40 Years Old Tawny Port', 1)]"
      ]
     },
     "execution_count": 77,
     "metadata": {},
     "output_type": "execute_result"
    }
   ],
   "source": [
    "\n",
    "cur.execute(\"\"\"\n",
    "            SELECT  w.name, count(v.id)\n",
    "            FROM wines w\n",
    "            JOIN vintages v ON v.wine_id = w.id\n",
    "            GROUP BY w.name\n",
    "            LIMIT 10;\n",
    "            \"\"\")\n",
    "cur.fetchall()\n"
   ]
  },
  {
   "cell_type": "code",
   "execution_count": 4,
   "metadata": {},
   "outputs": [
    {
     "data": {
      "text/plain": [
       "[('global', \"Vivino's 2020 Wine Style Awards: Tuscan Red\", 1),\n",
       " ('global', \"Vivino's 2020 Wine Style Awards: Tuscan Red\", 2),\n",
       " ('global',\n",
       "  \"Vivino's 2020 Wine Style Awards: Southern Rhône Châteauneuf-du-Pape Red\",\n",
       "  1),\n",
       " ('global', \"Vivino's 2020 Wine Style Awards: Northern Italy Red\", 3),\n",
       " ('global',\n",
       "  \"Vivino's 2020 Wine Style Awards: Spanish Ribera Del Duero Red\",\n",
       "  3),\n",
       " ('global', \"Vivino's 2020 Wine Style Awards: Tuscan Red\", 10),\n",
       " ('global', \"Vivino's 2020 Wine Style Awards: Tuscan Red\", 5),\n",
       " ('global', \"Vivino's 2020 Wine Style Awards: Tuscan Red\", 8),\n",
       " ('global', \"Vivino's 2020 Wine Style Awards: Languedoc-Roussillon Red\", 1),\n",
       " ('global', \"Vivino's 2020 Wine Style Awards: Southern Rhône Red\", 1),\n",
       " ('global', \"Vivino's 2020 Wine Style Awards: Australian Rhône Blend Red\", 1)]"
      ]
     },
     "execution_count": 4,
     "metadata": {},
     "output_type": "execute_result"
    }
   ],
   "source": [
    "cur.execute(\"\"\"\n",
    "            SELECT tl.country_code, tl.name,vtr.rank \n",
    "            FROM toplists tl\n",
    "            JOIN vintage_toplists_rankings vtr ON tl.id = vtr.top_list_id\n",
    "            WHERE tl.name LIKE '%2020%' and tl.name LIKE '%Red%'\n",
    "            LIMIT 15;\n",
    "            \"\"\")\n",
    "cur.fetchall()"
   ]
  },
  {
   "cell_type": "code",
   "execution_count": null,
   "metadata": {},
   "outputs": [],
   "source": [
    "cur.execute(\"\"\"\n",
    "            SELECT  DISTINCT country_code\n",
    "            FROM toplists\n",
    "            LIMIT 15;\n",
    "            \"\"\")\n",
    "cur.fetchall()"
   ]
  },
  {
   "cell_type": "markdown",
   "metadata": {},
   "source": [
    "We have detected that a big cluster of customers like a specific combination of tastes. We have identified a few primary keywords that match this. We would like you to find all the wines that have those keywords. To ensure the accuracy of our selection, ensure that more than 10 users confirmed those keywords. Also, identify the group_name related to those keywords.\n",
    "- coffee\n",
    "- toast\n",
    "- green apple\n",
    "- cream\n",
    "- citrus"
   ]
  },
  {
   "cell_type": "code",
   "execution_count": 60,
   "metadata": {},
   "outputs": [],
   "source": [
    "cur.execute(\"\"\"\n",
    "            SELECT w.id, w.name, k.name, kw.group_name, sum(kw.count) \n",
    "            FROM wines w\n",
    "            JOIN keywords_wine kw ON kw.wine_id = w.id\n",
    "            JOIN keywords k ON k.id = kw.keyword_id\n",
    "            WHERE k.name in ('coffee','toast','green apple','cream','citrus')\n",
    "                and kw.count > 10\n",
    "                and kw.keyword_type = 'primary'\n",
    "            GROUP BY w.id, w.name, k.name, kw.group_name\n",
    "            ;\n",
    "            \"\"\")\n",
    "\n",
    "import csv\n",
    "\n",
    "result = cur.fetchall()\n",
    "\n",
    "c = csv.writer(open(\"../data/temp.csv\",\"w\"))\n",
    "c.writerows(result)\n",
    "\n",
    "\n"
   ]
  },
  {
   "cell_type": "code",
   "execution_count": 76,
   "metadata": {},
   "outputs": [
    {
     "data": {
      "text/html": [
       "<div>\n",
       "<style scoped>\n",
       "    .dataframe tbody tr th:only-of-type {\n",
       "        vertical-align: middle;\n",
       "    }\n",
       "\n",
       "    .dataframe tbody tr th {\n",
       "        vertical-align: top;\n",
       "    }\n",
       "\n",
       "    .dataframe thead th {\n",
       "        text-align: right;\n",
       "    }\n",
       "</style>\n",
       "<table border=\"1\" class=\"dataframe\">\n",
       "  <thead>\n",
       "    <tr style=\"text-align: right;\">\n",
       "      <th></th>\n",
       "      <th>name_wine</th>\n",
       "      <th>name_keywords</th>\n",
       "      <th>group_name</th>\n",
       "      <th>count</th>\n",
       "    </tr>\n",
       "  </thead>\n",
       "  <tbody>\n",
       "    <tr>\n",
       "      <th>0</th>\n",
       "      <td>'Giulio Ferrari' Riserva del Fondatore</td>\n",
       "      <td>citrus</td>\n",
       "      <td>citrus_fruit</td>\n",
       "      <td>66</td>\n",
       "    </tr>\n",
       "    <tr>\n",
       "      <th>1</th>\n",
       "      <td>'Giulio Ferrari' Riserva del Fondatore</td>\n",
       "      <td>cream</td>\n",
       "      <td>microbio</td>\n",
       "      <td>72</td>\n",
       "    </tr>\n",
       "    <tr>\n",
       "      <th>2</th>\n",
       "      <td>'Giulio Ferrari' Riserva del Fondatore</td>\n",
       "      <td>green apple</td>\n",
       "      <td>tree_fruit</td>\n",
       "      <td>15</td>\n",
       "    </tr>\n",
       "    <tr>\n",
       "      <th>3</th>\n",
       "      <td>'Giulio Ferrari' Riserva del Fondatore</td>\n",
       "      <td>toast</td>\n",
       "      <td>non_oak</td>\n",
       "      <td>48</td>\n",
       "    </tr>\n",
       "    <tr>\n",
       "      <th>4</th>\n",
       "      <td>25 anni Montefalco Sagrantino</td>\n",
       "      <td>coffee</td>\n",
       "      <td>oak</td>\n",
       "      <td>23</td>\n",
       "    </tr>\n",
       "    <tr>\n",
       "      <th>...</th>\n",
       "      <td>...</td>\n",
       "      <td>...</td>\n",
       "      <td>...</td>\n",
       "      <td>...</td>\n",
       "    </tr>\n",
       "    <tr>\n",
       "      <th>796</th>\n",
       "      <td>Vénus Blanc de Blancs Brut Nature Champagne Gr...</td>\n",
       "      <td>green apple</td>\n",
       "      <td>tree_fruit</td>\n",
       "      <td>13</td>\n",
       "    </tr>\n",
       "    <tr>\n",
       "      <th>797</th>\n",
       "      <td>Vürsù Barbaresco Starderi</td>\n",
       "      <td>coffee</td>\n",
       "      <td>oak</td>\n",
       "      <td>16</td>\n",
       "    </tr>\n",
       "    <tr>\n",
       "      <th>798</th>\n",
       "      <td>Vürsù Barolo Campè</td>\n",
       "      <td>coffee</td>\n",
       "      <td>oak</td>\n",
       "      <td>13</td>\n",
       "    </tr>\n",
       "    <tr>\n",
       "      <th>799</th>\n",
       "      <td>Yarden Katzrin</td>\n",
       "      <td>coffee</td>\n",
       "      <td>oak</td>\n",
       "      <td>17</td>\n",
       "    </tr>\n",
       "    <tr>\n",
       "      <th>800</th>\n",
       "      <td>d'Alceo</td>\n",
       "      <td>coffee</td>\n",
       "      <td>oak</td>\n",
       "      <td>12</td>\n",
       "    </tr>\n",
       "  </tbody>\n",
       "</table>\n",
       "<p>801 rows × 4 columns</p>\n",
       "</div>"
      ],
      "text/plain": [
       "                                             name_wine name_keywords  \\\n",
       "0               'Giulio Ferrari' Riserva del Fondatore        citrus   \n",
       "1               'Giulio Ferrari' Riserva del Fondatore         cream   \n",
       "2               'Giulio Ferrari' Riserva del Fondatore   green apple   \n",
       "3               'Giulio Ferrari' Riserva del Fondatore         toast   \n",
       "4                        25 anni Montefalco Sagrantino        coffee   \n",
       "..                                                 ...           ...   \n",
       "796  Vénus Blanc de Blancs Brut Nature Champagne Gr...   green apple   \n",
       "797                          Vürsù Barbaresco Starderi        coffee   \n",
       "798                                 Vürsù Barolo Campè        coffee   \n",
       "799                                     Yarden Katzrin        coffee   \n",
       "800                                            d'Alceo        coffee   \n",
       "\n",
       "       group_name  count  \n",
       "0    citrus_fruit     66  \n",
       "1        microbio     72  \n",
       "2      tree_fruit     15  \n",
       "3         non_oak     48  \n",
       "4             oak     23  \n",
       "..            ...    ...  \n",
       "796    tree_fruit     13  \n",
       "797           oak     16  \n",
       "798           oak     13  \n",
       "799           oak     17  \n",
       "800           oak     12  \n",
       "\n",
       "[801 rows x 4 columns]"
      ]
     },
     "metadata": {},
     "output_type": "display_data"
    }
   ],
   "source": [
    "import pandas as pd\n",
    "\n",
    "cur.execute(\"\"\"\n",
    "            SELECT w.name, k.name, kw.group_name, sum(kw.count) \n",
    "            FROM wines w\n",
    "            JOIN keywords_wine kw ON kw.wine_id = w.id\n",
    "            JOIN keywords k ON k.id = kw.keyword_id\n",
    "            WHERE k.name in ('coffee','toast','green apple','cream','citrus')\n",
    "                and kw.count > 10\n",
    "                and kw.keyword_type = 'primary'\n",
    "            GROUP BY w.name, k.name, kw.group_name\n",
    "            ;\n",
    "            \"\"\")\n",
    "\n",
    "# Put it all to a data frame\n",
    "sql_data = pd.DataFrame(cur.fetchall(), columns=['name_wine', 'name_keywords', 'group_name', 'count'])\n",
    "\n",
    "display(sql_data)\n"
   ]
  },
  {
   "cell_type": "code",
   "execution_count": 71,
   "metadata": {},
   "outputs": [],
   "source": [
    "import plotly.express as px\n",
    "\n"
   ]
  }
 ],
 "metadata": {
  "kernelspec": {
   "display_name": "immo-eliza-data-analysis-env",
   "language": "python",
   "name": "python3"
  },
  "language_info": {
   "codemirror_mode": {
    "name": "ipython",
    "version": 3
   },
   "file_extension": ".py",
   "mimetype": "text/x-python",
   "name": "python",
   "nbconvert_exporter": "python",
   "pygments_lexer": "ipython3",
   "version": "3.11.5"
  },
  "orig_nbformat": 4
 },
 "nbformat": 4,
 "nbformat_minor": 2
}
