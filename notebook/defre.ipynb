{
 "cells": [
  {
   "cell_type": "code",
   "execution_count": 12,
   "metadata": {},
   "outputs": [
    {
     "name": "stdout",
     "output_type": "stream",
     "text": [
      "The sql extension is already loaded. To reload it, use:\n",
      "  %reload_ext sql\n"
     ]
    },
    {
     "data": {
      "text/html": [
       "<span style=\"None\">displaylimit: Value None will be treated as 0 (no limit)</span>"
      ],
      "text/plain": [
       "displaylimit: Value None will be treated as 0 (no limit)"
      ]
     },
     "metadata": {},
     "output_type": "display_data"
    }
   ],
   "source": [
    "%load_ext sql"
   ]
  },
  {
   "cell_type": "code",
   "execution_count": 13,
   "metadata": {},
   "outputs": [
    {
     "data": {
      "text/html": [
       "<span style=\"None\">displaylimit: Value None will be treated as 0 (no limit)</span>"
      ],
      "text/plain": [
       "displaylimit: Value None will be treated as 0 (no limit)"
      ]
     },
     "metadata": {},
     "output_type": "display_data"
    }
   ],
   "source": [
    "%config SqlMagic.displaylimit = None"
   ]
  },
  {
   "cell_type": "code",
   "execution_count": 2,
   "metadata": {},
   "outputs": [],
   "source": [
    "import sqlite3\n",
    "\n",
    "connexion = sqlite3.connect(\"../data/vivino.db\")\n",
    "cursor = connexion.cursor()"
   ]
  },
  {
   "cell_type": "code",
   "execution_count": 3,
   "metadata": {},
   "outputs": [],
   "source": [
    "from sqlalchemy import Column, Integer, String, ForeignKey\n",
    "from sqlalchemy.orm import declarative_base\n",
    "from sqlalchemy import create_engine\n",
    "from sqlalchemy.orm import sessionmaker\n",
    "\n",
    "# declarative base class\n",
    "Base = declarative_base()\n",
    "\n",
    "# an example mapping using the base\n",
    "class User(Base):\n",
    "    __tablename__ = 'user'\n",
    "\n",
    "    id = Column(Integer, primary_key=True)\n",
    "    name = Column(String)\n",
    "    fullname = Column(String)\n",
    "    nickname = Column(String)"
   ]
  },
  {
   "cell_type": "code",
   "execution_count": 4,
   "metadata": {},
   "outputs": [],
   "source": [
    "engine = create_engine('sqlite:///../data/vivino.db')"
   ]
  },
  {
   "cell_type": "code",
   "execution_count": 5,
   "metadata": {},
   "outputs": [
    {
     "name": "stdout",
     "output_type": "stream",
     "text": [
      "<class 'sqlalchemy.engine.base.Engine'>\n"
     ]
    }
   ],
   "source": [
    "print(type(engine))"
   ]
  },
  {
   "cell_type": "code",
   "execution_count": 6,
   "metadata": {},
   "outputs": [],
   "source": [
    "Base.metadata.create_all(engine)"
   ]
  },
  {
   "cell_type": "code",
   "execution_count": 7,
   "metadata": {},
   "outputs": [
    {
     "name": "stdout",
     "output_type": "stream",
     "text": [
      "['countries', 'flavor_groups', 'grapes', 'keywords', 'keywords_wine', 'most_used_grapes_per_country', 'regions', 'toplists', 'user', 'vintage_toplists_rankings', 'vintages', 'wineries', 'wines']\n"
     ]
    }
   ],
   "source": [
    "from sqlalchemy import inspect\n",
    "inspector = inspect(engine)\n",
    "\n",
    "# Get table information\n",
    "print(inspector.get_table_names())"
   ]
  },
  {
   "cell_type": "code",
   "execution_count": 8,
   "metadata": {},
   "outputs": [],
   "source": [
    "%sql sqlite:///../data/vivino.db"
   ]
  },
  {
   "cell_type": "code",
   "execution_count": 9,
   "metadata": {},
   "outputs": [
    {
     "data": {
      "text/html": [
       "<span style=\"None\">Running query in &#x27;sqlite:///../data/vivino.db&#x27;</span>"
      ],
      "text/plain": [
       "Running query in 'sqlite:///../data/vivino.db'"
      ]
     },
     "metadata": {},
     "output_type": "display_data"
    },
    {
     "data": {
      "text/html": [
       "<table>\n",
       "    <thead>\n",
       "        <tr>\n",
       "            <th>sqlite_version()</th>\n",
       "        </tr>\n",
       "    </thead>\n",
       "    <tbody>\n",
       "        <tr>\n",
       "            <td>3.42.0</td>\n",
       "        </tr>\n",
       "    </tbody>\n",
       "</table>"
      ],
      "text/plain": [
       "+------------------+\n",
       "| sqlite_version() |\n",
       "+------------------+\n",
       "|      3.42.0      |\n",
       "+------------------+"
      ]
     },
     "execution_count": 9,
     "metadata": {},
     "output_type": "execute_result"
    }
   ],
   "source": [
    "%%sql\n",
    "SELECT sqlite_version();"
   ]
  },
  {
   "cell_type": "code",
   "execution_count": 14,
   "metadata": {},
   "outputs": [
    {
     "data": {
      "text/html": [
       "<span style=\"None\">Running query in &#x27;sqlite:///../data/vivino.db&#x27;</span>"
      ],
      "text/plain": [
       "Running query in 'sqlite:///../data/vivino.db'"
      ]
     },
     "metadata": {},
     "output_type": "display_data"
    },
    {
     "data": {
      "text/html": [
       "<table>\n",
       "    <thead>\n",
       "        <tr>\n",
       "            <th>code</th>\n",
       "            <th>name</th>\n",
       "            <th>regions_count</th>\n",
       "            <th>users_count</th>\n",
       "            <th>wines_count</th>\n",
       "            <th>wineries_count</th>\n",
       "        </tr>\n",
       "    </thead>\n",
       "    <tbody>\n",
       "        <tr>\n",
       "            <td>it</td>\n",
       "            <td>Italie</td>\n",
       "            <td>563</td>\n",
       "            <td>4270717</td>\n",
       "            <td>274658</td>\n",
       "            <td>42399</td>\n",
       "        </tr>\n",
       "        <tr>\n",
       "            <td>fr</td>\n",
       "            <td>France</td>\n",
       "            <td>1306</td>\n",
       "            <td>5973301</td>\n",
       "            <td>422503</td>\n",
       "            <td>67553</td>\n",
       "        </tr>\n",
       "        <tr>\n",
       "            <td>us</td>\n",
       "            <td>États-Unis</td>\n",
       "            <td>362</td>\n",
       "            <td>12273684</td>\n",
       "            <td>204060</td>\n",
       "            <td>28145</td>\n",
       "        </tr>\n",
       "        <tr>\n",
       "            <td>es</td>\n",
       "            <td>Espagne</td>\n",
       "            <td>152</td>\n",
       "            <td>2264396</td>\n",
       "            <td>102662</td>\n",
       "            <td>18026</td>\n",
       "        </tr>\n",
       "        <tr>\n",
       "            <td>pt</td>\n",
       "            <td>Portugal</td>\n",
       "            <td>93</td>\n",
       "            <td>1123535</td>\n",
       "            <td>39847</td>\n",
       "            <td>5834</td>\n",
       "        </tr>\n",
       "        <tr>\n",
       "            <td>au</td>\n",
       "            <td>Australie</td>\n",
       "            <td>120</td>\n",
       "            <td>1022965</td>\n",
       "            <td>90954</td>\n",
       "            <td>13946</td>\n",
       "        </tr>\n",
       "        <tr>\n",
       "            <td>hu</td>\n",
       "            <td>Hongrie</td>\n",
       "            <td>29</td>\n",
       "            <td>102235</td>\n",
       "            <td>16605</td>\n",
       "            <td>1923</td>\n",
       "        </tr>\n",
       "        <tr>\n",
       "            <td>za</td>\n",
       "            <td>Afrique du Sud</td>\n",
       "            <td>112</td>\n",
       "            <td>269649</td>\n",
       "            <td>30857</td>\n",
       "            <td>4227</td>\n",
       "        </tr>\n",
       "        <tr>\n",
       "            <td>de</td>\n",
       "            <td>Allemagne</td>\n",
       "            <td>236</td>\n",
       "            <td>2549989</td>\n",
       "            <td>164533</td>\n",
       "            <td>13643</td>\n",
       "        </tr>\n",
       "        <tr>\n",
       "            <td>cl</td>\n",
       "            <td>Chili</td>\n",
       "            <td>41</td>\n",
       "            <td>326757</td>\n",
       "            <td>41191</td>\n",
       "            <td>5785</td>\n",
       "        </tr>\n",
       "        <tr>\n",
       "            <td>md</td>\n",
       "            <td>Moldavie</td>\n",
       "            <td>9</td>\n",
       "            <td>13583</td>\n",
       "            <td>5055</td>\n",
       "            <td>418</td>\n",
       "        </tr>\n",
       "        <tr>\n",
       "            <td>ar</td>\n",
       "            <td>Argentine</td>\n",
       "            <td>41</td>\n",
       "            <td>629532</td>\n",
       "            <td>36121</td>\n",
       "            <td>5339</td>\n",
       "        </tr>\n",
       "        <tr>\n",
       "            <td>gr</td>\n",
       "            <td>Grèce</td>\n",
       "            <td>140</td>\n",
       "            <td>95693</td>\n",
       "            <td>9581</td>\n",
       "            <td>1294</td>\n",
       "        </tr>\n",
       "        <tr>\n",
       "            <td>il</td>\n",
       "            <td>Israël</td>\n",
       "            <td>20</td>\n",
       "            <td>150549</td>\n",
       "            <td>5435</td>\n",
       "            <td>529</td>\n",
       "        </tr>\n",
       "        <tr>\n",
       "            <td>ro</td>\n",
       "            <td>Roumanie</td>\n",
       "            <td>27</td>\n",
       "            <td>228185</td>\n",
       "            <td>6841</td>\n",
       "            <td>686</td>\n",
       "        </tr>\n",
       "        <tr>\n",
       "            <td>hr</td>\n",
       "            <td>Croatie</td>\n",
       "            <td>22</td>\n",
       "            <td>64223</td>\n",
       "            <td>5880</td>\n",
       "            <td>980</td>\n",
       "        </tr>\n",
       "        <tr>\n",
       "            <td>ch</td>\n",
       "            <td>Suisse</td>\n",
       "            <td>73</td>\n",
       "            <td>1601799</td>\n",
       "            <td>33656</td>\n",
       "            <td>3849</td>\n",
       "        </tr>\n",
       "    </tbody>\n",
       "</table>"
      ],
      "text/plain": [
       "+------+----------------+---------------+-------------+-------------+----------------+\n",
       "| code |      name      | regions_count | users_count | wines_count | wineries_count |\n",
       "+------+----------------+---------------+-------------+-------------+----------------+\n",
       "|  it  |     Italie     |      563      |   4270717   |    274658   |     42399      |\n",
       "|  fr  |     France     |      1306     |   5973301   |    422503   |     67553      |\n",
       "|  us  |   États-Unis   |      362      |   12273684  |    204060   |     28145      |\n",
       "|  es  |    Espagne     |      152      |   2264396   |    102662   |     18026      |\n",
       "|  pt  |    Portugal    |       93      |   1123535   |    39847    |      5834      |\n",
       "|  au  |   Australie    |      120      |   1022965   |    90954    |     13946      |\n",
       "|  hu  |    Hongrie     |       29      |    102235   |    16605    |      1923      |\n",
       "|  za  | Afrique du Sud |      112      |    269649   |    30857    |      4227      |\n",
       "|  de  |   Allemagne    |      236      |   2549989   |    164533   |     13643      |\n",
       "|  cl  |     Chili      |       41      |    326757   |    41191    |      5785      |\n",
       "|  md  |    Moldavie    |       9       |    13583    |     5055    |      418       |\n",
       "|  ar  |   Argentine    |       41      |    629532   |    36121    |      5339      |\n",
       "|  gr  |     Grèce      |      140      |    95693    |     9581    |      1294      |\n",
       "|  il  |     Israël     |       20      |    150549   |     5435    |      529       |\n",
       "|  ro  |    Roumanie    |       27      |    228185   |     6841    |      686       |\n",
       "|  hr  |    Croatie     |       22      |    64223    |     5880    |      980       |\n",
       "|  ch  |     Suisse     |       73      |   1601799   |    33656    |      3849      |\n",
       "+------+----------------+---------------+-------------+-------------+----------------+"
      ]
     },
     "execution_count": 14,
     "metadata": {},
     "output_type": "execute_result"
    }
   ],
   "source": [
    "%%sql\n",
    "SELECT * FROM countries;"
   ]
  },
  {
   "cell_type": "code",
   "execution_count": 15,
   "metadata": {},
   "outputs": [
    {
     "data": {
      "text/html": [
       "<span style=\"None\">Running query in &#x27;sqlite:///../data/vivino.db&#x27;</span>"
      ],
      "text/plain": [
       "Running query in 'sqlite:///../data/vivino.db'"
      ]
     },
     "metadata": {},
     "output_type": "display_data"
    },
    {
     "data": {
      "text/html": [
       "<table>\n",
       "    <thead>\n",
       "        <tr>\n",
       "            <th>code</th>\n",
       "            <th>name</th>\n",
       "            <th>users_count</th>\n",
       "        </tr>\n",
       "    </thead>\n",
       "    <tbody>\n",
       "        <tr>\n",
       "            <td>md</td>\n",
       "            <td>Moldavie</td>\n",
       "            <td>13583</td>\n",
       "        </tr>\n",
       "        <tr>\n",
       "            <td>hr</td>\n",
       "            <td>Croatie</td>\n",
       "            <td>64223</td>\n",
       "        </tr>\n",
       "        <tr>\n",
       "            <td>gr</td>\n",
       "            <td>Grèce</td>\n",
       "            <td>95693</td>\n",
       "        </tr>\n",
       "        <tr>\n",
       "            <td>hu</td>\n",
       "            <td>Hongrie</td>\n",
       "            <td>102235</td>\n",
       "        </tr>\n",
       "        <tr>\n",
       "            <td>il</td>\n",
       "            <td>Israël</td>\n",
       "            <td>150549</td>\n",
       "        </tr>\n",
       "        <tr>\n",
       "            <td>ro</td>\n",
       "            <td>Roumanie</td>\n",
       "            <td>228185</td>\n",
       "        </tr>\n",
       "        <tr>\n",
       "            <td>za</td>\n",
       "            <td>Afrique du Sud</td>\n",
       "            <td>269649</td>\n",
       "        </tr>\n",
       "        <tr>\n",
       "            <td>cl</td>\n",
       "            <td>Chili</td>\n",
       "            <td>326757</td>\n",
       "        </tr>\n",
       "        <tr>\n",
       "            <td>ar</td>\n",
       "            <td>Argentine</td>\n",
       "            <td>629532</td>\n",
       "        </tr>\n",
       "        <tr>\n",
       "            <td>au</td>\n",
       "            <td>Australie</td>\n",
       "            <td>1022965</td>\n",
       "        </tr>\n",
       "        <tr>\n",
       "            <td>pt</td>\n",
       "            <td>Portugal</td>\n",
       "            <td>1123535</td>\n",
       "        </tr>\n",
       "        <tr>\n",
       "            <td>ch</td>\n",
       "            <td>Suisse</td>\n",
       "            <td>1601799</td>\n",
       "        </tr>\n",
       "        <tr>\n",
       "            <td>es</td>\n",
       "            <td>Espagne</td>\n",
       "            <td>2264396</td>\n",
       "        </tr>\n",
       "        <tr>\n",
       "            <td>de</td>\n",
       "            <td>Allemagne</td>\n",
       "            <td>2549989</td>\n",
       "        </tr>\n",
       "        <tr>\n",
       "            <td>it</td>\n",
       "            <td>Italie</td>\n",
       "            <td>4270717</td>\n",
       "        </tr>\n",
       "        <tr>\n",
       "            <td>fr</td>\n",
       "            <td>France</td>\n",
       "            <td>5973301</td>\n",
       "        </tr>\n",
       "        <tr>\n",
       "            <td>us</td>\n",
       "            <td>États-Unis</td>\n",
       "            <td>12273684</td>\n",
       "        </tr>\n",
       "    </tbody>\n",
       "</table>"
      ],
      "text/plain": [
       "+------+----------------+-------------+\n",
       "| code |      name      | users_count |\n",
       "+------+----------------+-------------+\n",
       "|  md  |    Moldavie    |    13583    |\n",
       "|  hr  |    Croatie     |    64223    |\n",
       "|  gr  |     Grèce      |    95693    |\n",
       "|  hu  |    Hongrie     |    102235   |\n",
       "|  il  |     Israël     |    150549   |\n",
       "|  ro  |    Roumanie    |    228185   |\n",
       "|  za  | Afrique du Sud |    269649   |\n",
       "|  cl  |     Chili      |    326757   |\n",
       "|  ar  |   Argentine    |    629532   |\n",
       "|  au  |   Australie    |   1022965   |\n",
       "|  pt  |    Portugal    |   1123535   |\n",
       "|  ch  |     Suisse     |   1601799   |\n",
       "|  es  |    Espagne     |   2264396   |\n",
       "|  de  |   Allemagne    |   2549989   |\n",
       "|  it  |     Italie     |   4270717   |\n",
       "|  fr  |     France     |   5973301   |\n",
       "|  us  |   États-Unis   |   12273684  |\n",
       "+------+----------------+-------------+"
      ]
     },
     "execution_count": 15,
     "metadata": {},
     "output_type": "execute_result"
    }
   ],
   "source": [
    "%%sql\n",
    "SELECT code, name, users_count\n",
    "FROM countries\n",
    "ORDER BY users_count ASC\n",
    ";"
   ]
  },
  {
   "cell_type": "code",
   "execution_count": 22,
   "metadata": {},
   "outputs": [
    {
     "data": {
      "text/plain": [
       "tuple"
      ]
     },
     "metadata": {},
     "output_type": "display_data"
    }
   ],
   "source": [
    "query1 = \"\"\"\n",
    "\n",
    "SELECT code, name, users_count\n",
    "FROM countries\n",
    "ORDER BY name ASC\n",
    ";\n",
    "\n",
    "\"\"\"\n",
    "cursor.execute(query1)\n",
    "countrylist = cursor.fetchall()\n",
    "display(type(countrylist))\n"
   ]
  },
  {
   "cell_type": "code",
   "execution_count": null,
   "metadata": {},
   "outputs": [],
   "source": [
    "import csv\n",
    "with open('countrylist.csv', 'w', newline='') as f:\n",
    "    writer = csv.writer(f)\n",
    "    writer.writerows(countrylist)"
   ]
  },
  {
   "cell_type": "code",
   "execution_count": 17,
   "metadata": {},
   "outputs": [
    {
     "data": {
      "text/plain": [
       "[('ar',),\n",
       " ('au',),\n",
       " ('ch',),\n",
       " ('cl',),\n",
       " ('de',),\n",
       " ('es',),\n",
       " ('fr',),\n",
       " ('gr',),\n",
       " ('hr',),\n",
       " ('hu',),\n",
       " ('il',),\n",
       " ('it',),\n",
       " ('md',),\n",
       " ('pt',),\n",
       " ('ro',),\n",
       " ('us',),\n",
       " ('za',)]"
      ]
     },
     "execution_count": 17,
     "metadata": {},
     "output_type": "execute_result"
    }
   ],
   "source": [
    "query1 = \"\"\"\n",
    "\n",
    "SELECT code\n",
    "FROM countries\n",
    ";\n",
    "\n",
    "\"\"\"\n",
    "cursor.execute(query1)\n",
    "cursor.fetchall()"
   ]
  },
  {
   "cell_type": "code",
   "execution_count": null,
   "metadata": {},
   "outputs": [],
   "source": [
    "import sqlite3\n",
    "\n",
    "# Define the SQLite database file path\n",
    "db_file_path = \"../data/vivino.db\"\n",
    "\n",
    "# Create a connection to the SQLite database\n",
    "conn = sqlite3.connect(db_file_path)\n",
    "cursor = conn.cursor()\n",
    "\n",
    "# Get a list of all tables in the database\n",
    "cursor.execute(\"SELECT name FROM sqlite_master WHERE type='table';\")\n",
    "tables = cursor.fetchall()\n",
    "\n",
    "# Loop through each table and list primary keys and foreign keys\n",
    "for table in tables:\n",
    "    table_name = table[0]\n",
    "    \n",
    "    # List primary keys\n",
    "    cursor.execute(f\"PRAGMA table_info({table_name});\")\n",
    "    columns = cursor.fetchall()\n",
    "    primary_keys = [col[1] for col in columns if col[5] == 1]\n",
    "    \n",
    "    print(f\"Table: {table_name}\")\n",
    "    print(\"Primary Key(s):\", ', '.join(primary_keys))\n",
    "    \n",
    "    # List foreign keys\n",
    "    cursor.execute(f\"PRAGMA foreign_key_list({table_name});\")\n",
    "    foreign_keys = cursor.fetchall()\n",
    "    \n",
    "    for fk in foreign_keys:\n",
    "        print(f\"Foreign Key: {fk[3]} references {fk[2]}({fk[4]})\")\n",
    "    \n",
    "    print()\n",
    "\n",
    "# Close the database connection\n",
    "conn.close()"
   ]
  },
  {
   "cell_type": "code",
   "execution_count": 1,
   "metadata": {},
   "outputs": [
    {
     "name": "stdout",
     "output_type": "stream",
     "text": [
      "CSV export complete!\n"
     ]
    }
   ],
   "source": [
    "import sqlite3\n",
    "import csv\n",
    "import os\n",
    "\n",
    "# Define the SQLite database file path\n",
    "db_file_path = \"../data/vivino.db\"\n",
    "\n",
    "# Create a connection to the SQLite database\n",
    "conn = sqlite3.connect(db_file_path)\n",
    "cursor = conn.cursor()\n",
    "\n",
    "# Get a list of all tables in the database\n",
    "cursor.execute(\"SELECT name FROM sqlite_master WHERE type='table';\")\n",
    "tables = cursor.fetchall()\n",
    "\n",
    "# Create a directory to store CSV files\n",
    "output_dir = 'output_csv'\n",
    "os.makedirs(output_dir, exist_ok=True)\n",
    "\n",
    "# Loop through each table and export to a CSV file\n",
    "for table in tables:\n",
    "    table_name = table[0]\n",
    "    csv_file_path = os.path.join(output_dir, f'{table_name}.csv')\n",
    "    \n",
    "    # Fetch all rows from the table\n",
    "    cursor.execute(f'SELECT * FROM {table_name};')\n",
    "    rows = cursor.fetchall()\n",
    "    \n",
    "    # Get the column names\n",
    "    col_names = [col[0] for col in cursor.description]\n",
    "    \n",
    "    # Write data to CSV file\n",
    "    with open(csv_file_path, 'w', newline='', encoding='utf-8') as csv_file:\n",
    "        csv_writer = csv.writer(csv_file)\n",
    "        csv_writer.writerow(col_names)\n",
    "        csv_writer.writerows(rows)\n",
    "\n",
    "# Close the database connection\n",
    "conn.close()\n",
    "\n",
    "print(\"CSV export complete!\")"
   ]
  }
 ],
 "metadata": {
  "kernelspec": {
   "display_name": ".venv",
   "language": "python",
   "name": "python3"
  },
  "language_info": {
   "codemirror_mode": {
    "name": "ipython",
    "version": 3
   },
   "file_extension": ".py",
   "mimetype": "text/x-python",
   "name": "python",
   "nbconvert_exporter": "python",
   "pygments_lexer": "ipython3",
   "version": "3.11.4"
  },
  "orig_nbformat": 4
 },
 "nbformat": 4,
 "nbformat_minor": 2
}
