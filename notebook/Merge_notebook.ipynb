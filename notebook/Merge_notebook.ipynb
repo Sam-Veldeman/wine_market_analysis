{
 "cells": [
  {
   "cell_type": "markdown",
   "metadata": {},
   "source": [
    "This query is for selecting the vintages priced < 20 €    \n",
    "They seem insteresting to highlight just because they got good rating and are cheap"
   ]
  },
  {
   "cell_type": "code",
   "execution_count": null,
   "metadata": {},
   "outputs": [],
   "source": [
    "import sqlite3\n",
    "import pandas as pd\n",
    "import plotly.express as px\n",
    "import streamlit as st\n",
    "# Connect to SQLite database\n",
    "conn = sqlite3.connect('../data/vivino.db')\n",
    "# Create a cursor object\n",
    "cur = conn.cursor()\n",
    "cur.execute(\"\"\"\n",
    "    SELECT\n",
    "        v.id,\n",
    "        v.ratings_average,\n",
    "        v.ratings_count,\n",
    "        v.name,\n",
    "        v.price_euros\n",
    "        \n",
    "    FROM\n",
    "        vintages v\n",
    "    WHERE\n",
    "        v.price_euros < 20\n",
    "    ORDER BY\n",
    "        v.ratings_average DESC,\n",
    "        v.ratings_count DESC\n",
    "    LIMIT 2;\n",
    "\"\"\")\n",
    "# Fetch the query result\n",
    "query_result = cur.fetchall()\n",
    "\n",
    "# Create a DataFrame from the query result\n",
    "df = pd.DataFrame(query_result, columns=['id','ratings_average', 'ratings_count', 'name', 'price_euros'])\n",
    "print(df)\n",
    "# Close the database connection\n",
    "conn.close()"
   ]
  },
  {
   "cell_type": "code",
   "execution_count": null,
   "metadata": {},
   "outputs": [],
   "source": [
    "    SELECT\n",
    "        v.id,\n",
    "        v.ratings_average,\n",
    "        v.ratings_count,\n",
    "        v.name,\n",
    "        v.price_euros\n",
    "        \n",
    "    FROM\n",
    "        vintages v\n",
    "    WHERE\n",
    "        v.price_euros < 20\n",
    "    ORDER BY\n",
    "        v.ratings_average DESC,\n",
    "        v.ratings_count DESC\n",
    "    LIMIT 2;"
   ]
  },
  {
   "cell_type": "markdown",
   "metadata": {},
   "source": [
    "This query is for selecting wines with price between 20 and 30 euros, avg rating >= 4.4, rating_count > 1000.     \n",
    "The wines are not N.V. (non-vintage: blend of multiple years)"
   ]
  },
  {
   "cell_type": "code",
   "execution_count": 54,
   "metadata": {},
   "outputs": [
    {
     "name": "stdout",
     "output_type": "stream",
     "text": [
      "          id                                       vintage_name  \\\n",
      "0  162964134                     Pago de Carraovejas Tinto 2020   \n",
      "1  159319855                                 Rutini Malbec 2019   \n",
      "2  160549459               Guerrieri Guerriero della Terra 2019   \n",
      "3  156098276  San Marzano 60 Sessantanni Old Vines Primitivo...   \n",
      "4  156113777          Matarromera Ribera del Duero Reserva 2018   \n",
      "5  156132702   Tommasi Amarone della Valpolicella Classico 2018   \n",
      "6  150450962          Matarromera Ribera del Duero Reserva 2017   \n",
      "7  152069724                           Gitana Lupi Rezerva 2017   \n",
      "8   14794438             Bodegas Roda Roda I Reserva Rioja 2015   \n",
      "9    2667186  Château Suduiraut Sauternes (Premier Grand Cru...   \n",
      "\n",
      "   ratings_average  year  price_euros  ratings_count  \n",
      "0              4.5  2020        42.95           2129  \n",
      "1              4.4  2019        25.99           2567  \n",
      "2              4.4  2019        27.40           1803  \n",
      "3              4.4  2018        24.75           1748  \n",
      "4              4.4  2018        39.95           5650  \n",
      "5              4.4  2018        49.80           1570  \n",
      "6              4.4  2017        49.95           4616  \n",
      "7              4.6  2017        36.55           1155  \n",
      "8              4.4  2015        40.98           1732  \n",
      "9              4.4  2007        49.90           1244  \n"
     ]
    }
   ],
   "source": [
    "import sqlite3\n",
    "import pandas as pd\n",
    "import plotly.express as px\n",
    "\n",
    "# Connect to the SQLite database\n",
    "conn = sqlite3.connect(r'C:\\Users\\samve\\OneDrive\\0BeCode\\repos\\wine_market_analysis\\data\\vivino.db')\n",
    "\n",
    "# Execute the query and fetch data\n",
    "query = \"\"\"\n",
    "SELECT v.id, v.name AS vintage_name, v.ratings_average, v.year, v.price_euros, v.ratings_count\n",
    "FROM vintages AS v\n",
    "JOIN wines AS w ON v.wine_id = w.id\n",
    "JOIN regions AS r ON w.region_id = r.id\n",
    "WHERE v.ratings_average >= 4.4 AND v.price_euros BETWEEN 20 AND 50 AND v.ratings_count > 1000 AND v.year != 'N.V.'\n",
    "ORDER BY v.year DESC\n",
    "LIMIT 8;\n",
    "\"\"\"\n",
    "result = conn.execute(query).fetchall()\n",
    "\n",
    "# Close the database connection\n",
    "conn.close()\n",
    "\n",
    "# Convert the result to a Pandas DataFrame\n",
    "columns = ['id', 'vintage_name', 'ratings_average', 'year', 'price_euros', 'ratings_count']\n",
    "df = pd.DataFrame(result, columns=columns)\n",
    "\n",
    "print(df)"
   ]
  },
  {
   "cell_type": "markdown",
   "metadata": {},
   "source": [
    "Merged queries and output df and csv    \n",
    "The query returns 10 vintages to highlight to increase sales."
   ]
  },
  {
   "cell_type": "code",
   "execution_count": 4,
   "metadata": {},
   "outputs": [
    {
     "name": "stdout",
     "output_type": "stream",
     "text": [
      "<class 'pandas.core.frame.DataFrame'>\n",
      "RangeIndex: 10 entries, 0 to 9\n",
      "Data columns (total 7 columns):\n",
      " #   Column           Non-Null Count  Dtype  \n",
      "---  ------           --------------  -----  \n",
      " 0   id               10 non-null     int64  \n",
      " 1   vintage_name     10 non-null     object \n",
      " 2   ratings_average  10 non-null     float64\n",
      " 3   year             10 non-null     int64  \n",
      " 4   price_euros      10 non-null     float64\n",
      " 5   ratings_count    10 non-null     int64  \n",
      " 6   url              10 non-null     object \n",
      "dtypes: float64(2), int64(3), object(2)\n",
      "memory usage: 692.0+ bytes\n",
      "None\n",
      "          id                                       vintage_name  \\\n",
      "0  167945269               Cignomoro Primitivo di Manduria 2021   \n",
      "1  162964134                     Pago de Carraovejas Tinto 2020   \n",
      "2  159319855                                 Rutini Malbec 2019   \n",
      "3  160549459               Guerrieri Guerriero della Terra 2019   \n",
      "4  161857655                      Château Voigny Sauternes 2019   \n",
      "5  156098276  San Marzano 60 Sessantanni Old Vines Primitivo...   \n",
      "6  156113777          Matarromera Ribera del Duero Reserva 2018   \n",
      "7  156132702   Tommasi Amarone della Valpolicella Classico 2018   \n",
      "8  150450962          Matarromera Ribera del Duero Reserva 2017   \n",
      "9  152069724                           Gitana Lupi Rezerva 2017   \n",
      "\n",
      "   ratings_average  year  price_euros  ratings_count  \\\n",
      "0              4.5  2021        18.75             32   \n",
      "1              4.5  2020        42.95           2129   \n",
      "2              4.4  2019        25.99           2567   \n",
      "3              4.4  2019        27.40           1803   \n",
      "4              4.4  2019        13.95            143   \n",
      "5              4.4  2018        24.75           1748   \n",
      "6              4.4  2018        39.95           5650   \n",
      "7              4.4  2018        49.80           1570   \n",
      "8              4.4  2017        49.95           4616   \n",
      "9              4.6  2017        36.55           1155   \n",
      "\n",
      "                                                 url  \n",
      "0  https://www.grandcruwijnen.nl/2021-cignomoro-p...  \n",
      "1  https://www.grandcruwijnen.nl/2020-pago-de-car...  \n",
      "2  https://www.wereldwijnonline.be/malbec-2014-me...  \n",
      "3              http://www.vivino.com/wines/165224957  \n",
      "4  https://www.colaris.com/catalog/product/view/i...  \n",
      "5  https://www.wijnig.nl/san-marzano-60-sessantan...  \n",
      "6  https://www.vanoudsdezwaan.nl/ribera-del-duero...  \n",
      "7  https://www.seulementproduitsitaliens.be/vino/...  \n",
      "8  https://www.vanoudsdezwaan.nl/ribera-del-duero...  \n",
      "9  https://tezauro.myshopify.com/products/lupi-ma...  \n"
     ]
    }
   ],
   "source": [
    "import sqlite3\n",
    "import pandas as pd\n",
    "\n",
    "# Connect to the SQLite database\n",
    "conn = sqlite3.connect(r'C:\\Users\\samve\\OneDrive\\0BeCode\\repos\\wine_market_analysis\\data\\vivino.db')\n",
    "\n",
    "# Execute the combined query and fetch data\n",
    "combined_query = \"\"\"\n",
    "SELECT v.id, v.name AS vintage_name, v.ratings_average, v.year, v.price_euros, v.ratings_count, w.url\n",
    "FROM vintages AS v\n",
    "JOIN wines AS w ON v.wine_id = w.id\n",
    "JOIN regions AS r ON w.region_id = r.id\n",
    "WHERE (v.ratings_average >= 4.4 AND v.price_euros < 20) OR (v.ratings_average >= 4.4 AND v.price_euros BETWEEN 20 AND 50 AND v.ratings_count > 1000 AND v.year != 'N.V.')\n",
    "ORDER BY v.year DESC\n",
    "LIMIT 10;\n",
    "\"\"\"\n",
    "result = conn.execute(combined_query).fetchall()\n",
    "\n",
    "# Close the database connection\n",
    "conn.close()\n",
    "\n",
    "# Convert the result to a Pandas DataFrame\n",
    "columns = ['id', 'vintage_name', 'ratings_average', 'year', 'price_euros', 'ratings_count', 'url']\n",
    "df = pd.DataFrame(result, columns=columns)\n",
    "print(df.info())\n",
    "# Save the DataFrame to a CSV file in the \"data\" directory\n",
    "csv_file_path = r'C:\\Users\\samve\\OneDrive\\0BeCode\\repos\\wine_market_analysis\\data\\wines_to_highlight.csv'\n",
    "df.to_csv(csv_file_path, index=False)\n",
    "\n",
    "# Print the DataFrame\n",
    "print(df)"
   ]
  },
  {
   "cell_type": "markdown",
   "metadata": {},
   "source": [
    "This query selects 10 wines from the toplists ranking based on rank and price < 40 euros     \n",
    "These wines should be good to promote and raise sales."
   ]
  },
  {
   "cell_type": "code",
   "execution_count": 1,
   "metadata": {},
   "outputs": [
    {
     "name": "stdout",
     "output_type": "stream",
     "text": [
      "                                         vintage_name  vintage_rank  \\\n",
      "0               Arzuaga Reserva Ribera del Duero 2018             1   \n",
      "1                      Pago de Carraovejas Tinto 2020             1   \n",
      "2    Tommasi Amarone della Valpolicella Classico 2018             1   \n",
      "3   Buena Vista Chateau Buena Vista Cabernet Sauvi...             1   \n",
      "4                                Masseto Toscana 2005             1   \n",
      "..                                                ...           ...   \n",
      "95  Salon Le Mesnil Blanc de Blancs (Cuvée S) Brut...             7   \n",
      "96  Château Pavie Macquin Saint-Émilion Grand Cru ...             7   \n",
      "97                            Vilafonté Series M 2014             7   \n",
      "98                           Vallone Graticciaia 2012             7   \n",
      "99  Casa Ermelinda Freitas Dona Ermelinda Grande R...             8   \n",
      "\n",
      "                                        toplists_name  vintages.price_euros  \n",
      "0                              Bestsellers in Córdoba                 39.55  \n",
      "1                               Bestsellers in Málaga                 42.95  \n",
      "2                            Bestsellers in Salamanca                 49.80  \n",
      "3                                 Bestsellers in Utah                 61.95  \n",
      "4   Vivino's 2016 Wine Style Awards: Central Italy...               4697.50  \n",
      "..                                                ...                   ...  \n",
      "95  Vivino's 2016 Wine Style Awards: French Champagne               2882.50  \n",
      "96  Vivino's 2018 Wine Style Awards: Bordeaux Sain...                287.50  \n",
      "97  Vivino's 2019 Wine Style Awards: South African...                 48.00  \n",
      "98  Vivino's 2019 Wine Style Awards: Southern Ital...                111.25  \n",
      "99                            Bestsellers in Portugal                 29.95  \n",
      "\n",
      "[100 rows x 4 columns]\n"
     ]
    },
    {
     "data": {
      "application/vnd.plotly.v1+json": {
       "config": {
        "plotlyServerURL": "https://plot.ly"
       },
       "data": [
        {
         "hovertemplate": "<b>%{hovertext}</b><br><br>toplists_name=%{x}<br>vintage_rank=%{marker.color}<extra></extra>",
         "hovertext": [
          "Arzuaga Reserva Ribera del Duero 2018",
          "Pago de Carraovejas Tinto 2020",
          "Tommasi Amarone della Valpolicella Classico 2018",
          "Buena Vista Chateau Buena Vista Cabernet Sauvignon Napa Valley 2018",
          "Masseto Toscana 2005",
          "Gaja Barbaresco 1997",
          "Dal Forno Romano Valpolicella Superiore Monte Lodoletta 2004",
          "La Grange des Pères Vin de Pays de l'Hérault 2011",
          "Gaja Gaia & Rey Langhe 2006",
          "Château Rayas Châteauneuf-du-Pape 2001",
          "Château Rayas Châteauneuf-du-Pape 2001",
          "Gaja Barbaresco 1998",
          "Gaja Sperss Barolo 2004",
          "Château Rayas Châteauneuf-du-Pape 2005",
          "Bodegas Tradición Palo Cortado Tradición Vors 30 Years Sherry",
          "Masseto Toscana 2004",
          "Trimbach Clos Sainte Hune Riesling Alsace 2012",
          "Charles Melton Nine Popes 2015",
          "Château Margaux Château Margaux (Premier Grand Cru Classé) 2010",
          "Bonneau du Martray Corton-Charlemagne Grand Cru 2015",
          "Ornellaia Bolgheri Superiore 2005",
          "Scarecrow Cabernet Sauvignon 2015",
          "Charles Melton Nine Popes 2015",
          "Château Ducru-Beaucaillou Saint-Julien (Grand Cru Classé) 2010",
          "Salon Le Mesnil Blanc de Blancs (Cuvée S) Brut Champagne 1996",
          "La Grange des Pères Vin de Pays de l'Hérault 2012",
          "La Grange des Pères Vin de Pays de l'Hérault Blanc 2015",
          "Burmester Tordiz 40 Year Old Tawny Port",
          "Château Rayas Châteauneuf-du-Pape 2006",
          "Château des Tours Vacqueyras 2011",
          "Masseto Toscana 2006",
          "Gitana Lupi Rezerva 2017",
          "Château Pape Clément Pessac-Léognan (Grand Cru Classé de Graves) 2018",
          "Mascarello Giuseppe e Figlio Barolo Monprivato 2010",
          "Ornellaia Bolgheri Superiore 2007",
          "Dal Forno Romano Amarone della Valpolicella Monte Lodoletta 2006",
          "Il Marroneto Madonna delle Grazie Brunello di Montalcino 2010",
          "Emidio Pepe Montepulciano d'Abruzzo 2001",
          "Dal Forno Romano Valpolicella Superiore Monte Lodoletta 2004",
          "Château Latour Grand Vin Pauillac (Premier Grand Cru Classé) 2003",
          "Tenuta San Guido Sassicaia 1988",
          "Château Lafite Rothschild Pauillac (Premier Grand Cru Classé) 2003",
          "Château Ducru-Beaucaillou Saint-Julien (Grand Cru Classé) 2010",
          "Borgogno Barolo Riserva 1982",
          "Emidio Pepe Montepulciano d'Abruzzo 2001",
          "Masseto Toscana 2005",
          "Chateau Palmer Grand Vin de Château Palmer (Grand Cru Classé) 2010",
          "Château Lafite Rothschild Pauillac (Premier Grand Cru Classé) 2003",
          "Dal Forno Romano Amarone della Valpolicella Monte Lodoletta 2008",
          "Ornellaia Bolgheri Superiore 2005",
          "Bodegas Tradición Palo Cortado Tradición Vors 30 Years Sherry",
          "Dom Pérignon Brut Champagne 2013",
          "Zenato Amarone della Valpolicella Classico 2017",
          "Château Mouton Rothschild Pauillac (Premier Grand Cru Classé) 2010",
          "Antinori Tenuta Tignanello 'Solaia' 1997",
          "Krug Vintage 1996",
          "Vilafonté Series M 2012",
          "Salon Le Mesnil Blanc de Blancs (Cuvée S) Brut Champagne 1996",
          "Il Marroneto Madonna delle Grazie Brunello di Montalcino 2010",
          "Dal Forno Romano Valpolicella Superiore Monte Lodoletta 2007",
          "Salon Le Mesnil Blanc de Blancs (Cuvée S) Brut Champagne 1996",
          "Château Rayas Châteauneuf-du-Pape 2006",
          "Château La Fleur-Pétrus Pomerol 2010",
          "Borgogno Barolo Riserva 1982",
          "Quintarelli Giuseppe Veneto Alzero Cabernet 2007",
          "Dominio de Pingus Pingus 2015",
          "Tommasi Amarone della Valpolicella Classico 2018",
          "Château Latour Grand Vin Pauillac (Premier Grand Cru Classé) 1999",
          "Casanova di Neri Tenuta Nuova Brunello di Montalcino 2001",
          "La Spinetta Vürsù Barolo Campè 2004",
          "Château La Fleur-Pétrus Pomerol 1998",
          "Mascarello Giuseppe e Figlio Barolo Monprivato 2010",
          "Ornellaia Bolgheri Superiore 2010",
          "Château Suduiraut Sauternes (Premier Grand Cru Classé) 2007",
          "Dal Forno Romano Amarone della Valpolicella Monte Lodoletta 2003",
          "Borgogno Barolo Riserva 1982",
          "Château La Fleur-Pétrus Pomerol 2010",
          "Quintarelli Giuseppe Veneto Alzero Cabernet 2007",
          "Château des Tours Vacqueyras 2011",
          "Roagna Pajè Barbaresco 2013",
          "Alión Ribera del Duero 2019",
          "San Marzano 60 Sessantanni Old Vines Primitivo di Manduria 2017",
          "Tenuta Ulisse Limited Edition 10 Vendemmie",
          "Catena Zapata Malbec Argentino 2020",
          "Domaine des Lambrays Clos des Lambrays Grand Cru 2009",
          "Krug Rosé",
          "Pago de Carraovejas Tinto 2020",
          "San Marzano 60 Sessantanni Old Vines Primitivo di Manduria 2017",
          "Laurent-Perrier Brut Cuvée Champagne Rosé",
          "Vilafonté Series M 2012",
          "Achaval-Ferrer Finca Altamira Malbec 2015",
          "Krug Grande Cuvée",
          "Hartenberg The Stork 2015",
          "Krug Rosé",
          "Casa Ermelinda Freitas Dona Ermelinda Grande Reserva 2017",
          "Salon Le Mesnil Blanc de Blancs (Cuvée S) Brut Champagne 1996",
          "Château Pavie Macquin Saint-Émilion Grand Cru (Premier Grand Cru Classé) 2000",
          "Vilafonté Series M 2014",
          "Vallone Graticciaia 2012",
          "Casa Ermelinda Freitas Dona Ermelinda Grande Reserva 2017"
         ],
         "legendgroup": "",
         "marker": {
          "color": [
           1,
           1,
           1,
           1,
           1,
           1,
           1,
           1,
           1,
           1,
           1,
           1,
           1,
           1,
           1,
           1,
           1,
           1,
           1,
           1,
           1,
           1,
           1,
           1,
           1,
           1,
           1,
           1,
           1,
           1,
           1,
           2,
           2,
           2,
           2,
           2,
           2,
           2,
           2,
           2,
           2,
           2,
           2,
           2,
           2,
           2,
           2,
           2,
           2,
           2,
           2,
           3,
           3,
           3,
           3,
           3,
           3,
           3,
           3,
           3,
           3,
           3,
           3,
           3,
           3,
           3,
           4,
           4,
           4,
           4,
           4,
           4,
           4,
           4,
           4,
           4,
           4,
           4,
           4,
           4,
           5,
           5,
           5,
           5,
           5,
           5,
           6,
           6,
           6,
           6,
           6,
           6,
           6,
           6,
           7,
           7,
           7,
           7,
           7,
           8
          ],
          "coloraxis": "coloraxis",
          "size": [
           1,
           1,
           1,
           1,
           1,
           1,
           1,
           1,
           1,
           1,
           1,
           1,
           1,
           1,
           1,
           1,
           1,
           1,
           1,
           1,
           1,
           1,
           1,
           1,
           1,
           1,
           1,
           1,
           1,
           1,
           1,
           2,
           2,
           2,
           2,
           2,
           2,
           2,
           2,
           2,
           2,
           2,
           2,
           2,
           2,
           2,
           2,
           2,
           2,
           2,
           2,
           3,
           3,
           3,
           3,
           3,
           3,
           3,
           3,
           3,
           3,
           3,
           3,
           3,
           3,
           3,
           4,
           4,
           4,
           4,
           4,
           4,
           4,
           4,
           4,
           4,
           4,
           4,
           4,
           4,
           5,
           5,
           5,
           5,
           5,
           5,
           6,
           6,
           6,
           6,
           6,
           6,
           6,
           6,
           7,
           7,
           7,
           7,
           7,
           8
          ],
          "sizemode": "area",
          "sizeref": 0.02,
          "symbol": "circle"
         },
         "mode": "markers",
         "name": "",
         "orientation": "v",
         "showlegend": false,
         "type": "scatter",
         "x": [
          "Bestsellers in Córdoba",
          "Bestsellers in Málaga",
          "Bestsellers in Salamanca",
          "Bestsellers in Utah",
          "Vivino's 2016 Wine Style Awards: Central Italy Red",
          "Vivino's 2016 Wine Style Awards: Italian Barbaresco",
          "Vivino's 2016 Wine Style Awards: Italian Valpolicella Red",
          "Vivino's 2016 Wine Style Awards: Languedoc-Roussillon White",
          "Vivino's 2016 Wine Style Awards: Northern Italy White",
          "Vivino's 2016 Wine Style Awards: Southern Rhône Red",
          "Vivino's 2017 Wine Style Awards: Southern Rhône Red",
          "Vivino's 2018 Wine Style Awards: Italian Barbaresco",
          "Vivino's 2018 Wine Style Awards: Italian Nebbiolo",
          "Vivino's 2018 Wine Style Awards: Southern Rhône Châteauneuf-du-Pape Red",
          "Vivino's 2018 Wine Style Awards: Spanish Sherry",
          "Vivino's 2018 Wine Style Awards: Tuscan Red",
          "Vivino's 2019 Wine Style Awards: Alsace Riesling",
          "Vivino's 2019 Wine Style Awards: Australian Rhône Blend Red",
          "Vivino's 2019 Wine Style Awards: Bordeaux Margaux",
          "Vivino's 2019 Wine Style Awards: Burgundy Côte de Beaune White",
          "Vivino's 2019 Wine Style Awards: Italian Bolgheri",
          "Vivino's 2019 Wine Style Awards: Napa Valley Cabernet Sauvignon",
          "Vivino's 2020 Wine Style Awards: Australian Rhône Blend Red",
          "Vivino's 2020 Wine Style Awards: Bordeaux Saint-Julien",
          "Vivino's 2020 Wine Style Awards: French Champagne Vintage",
          "Vivino's 2020 Wine Style Awards: Languedoc-Roussillon Red",
          "Vivino's 2020 Wine Style Awards: Languedoc-Roussillon White",
          "Vivino's 2020 Wine Style Awards: Portuguese Tawny Port",
          "Vivino's 2020 Wine Style Awards: Southern Rhône Châteauneuf-du-Pape Red",
          "Vivino's 2020 Wine Style Awards: Southern Rhône Red",
          "Vivino's 2020 Wine Style Awards: Tuscan Red",
          "Bestsellers in Ireland",
          "Bestsellers in New Mexico",
          "Vivino's 2016 Wine Style Awards: Italian Barolo",
          "Vivino's 2016 Wine Style Awards: Italian Bolgheri",
          "Vivino's 2017 Wine Style Awards: Italian Amarone",
          "Vivino's 2017 Wine Style Awards: Italian Brunello",
          "Vivino's 2017 Wine Style Awards: Italian Montepulciano d'Abruzzo",
          "Vivino's 2017 Wine Style Awards: Italian Valpolicella Red",
          "Vivino's 2018 Wine Style Awards: Bordeaux Pauillac",
          "Vivino's 2018 Wine Style Awards: Italian Bolgheri",
          "Vivino's 2019 Wine Style Awards: Bordeaux Pauillac",
          "Vivino's 2019 Wine Style Awards: Bordeaux Saint-Julien",
          "Vivino's 2019 Wine Style Awards: Italian Barolo",
          "Vivino's 2019 Wine Style Awards: Italian Montepulciano d'Abruzzo",
          "Vivino's 2019 Wine Style Awards: Tuscan Red",
          "Vivino's 2020 Wine Style Awards: Bordeaux Margaux",
          "Vivino's 2020 Wine Style Awards: Bordeaux Pauillac",
          "Vivino's 2020 Wine Style Awards: Italian Amarone",
          "Vivino's 2020 Wine Style Awards: Italian Bolgheri",
          "top_lists.EditorialTopList.2020206.name",
          "Bestsellers in Tennessee",
          "Bestsellers in Yukon",
          "Vivino's 2017 Wine Style Awards: Bordeaux Pauillac",
          "Vivino's 2017 Wine Style Awards: Central Italy Red",
          "Vivino's 2017 Wine Style Awards: French Champagne",
          "Vivino's 2017 Wine Style Awards: South African Bordeaux Blend",
          "Vivino's 2018 Wine Style Awards: French Champagne",
          "Vivino's 2018 Wine Style Awards: Italian Brunello",
          "Vivino's 2018 Wine Style Awards: Italian Valpolicella Red",
          "Vivino's 2019 Wine Style Awards: French Champagne Vintage",
          "Vivino's 2019 Wine Style Awards: Southern Rhône Châteauneuf-du-Pape Red",
          "Vivino's 2020 Wine Style Awards: Bordeaux Pomerol",
          "Vivino's 2020 Wine Style Awards: Italian Barolo",
          "Vivino's 2020 Wine Style Awards: Northern Italy Red",
          "Vivino's 2020 Wine Style Awards: Spanish Ribera Del Duero Red",
          "Bestsellers in British Columbia",
          "Vivino's 2016 Wine Style Awards: Bordeaux Médoc",
          "Vivino's 2016 Wine Style Awards: Italian Brunello",
          "Vivino's 2016 Wine Style Awards: Northern Italy Red",
          "Vivino's 2017 Wine Style Awards: Bordeaux Pomerol",
          "Vivino's 2017 Wine Style Awards: Italian Barolo",
          "Vivino's 2017 Wine Style Awards: Italian Bolgheri",
          "Vivino's 2018 Wine Style Awards: Bordeaux Sauternes",
          "Vivino's 2018 Wine Style Awards: Italian Amarone",
          "Vivino's 2018 Wine Style Awards: Italian Barolo",
          "Vivino's 2019 Wine Style Awards: Bordeaux Pomerol",
          "Vivino's 2019 Wine Style Awards: Northern Italy Red",
          "Vivino's 2019 Wine Style Awards: Southern Rhône Red",
          "Vivino's 2020 Wine Style Awards: Italian Barbaresco",
          "Bestsellers in Asturias (Oviedo)",
          "Bestsellers in Germany",
          "Bestsellers in Italy",
          "Bestsellers in New Brunswick",
          "Vivino's 2017 Wine Style Awards: Burgundy Red",
          "Vivino's 2019 Wine Style Awards: French Champagne N.V.",
          "Bestsellers in Burgos",
          "Bestsellers in Japan",
          "Bestsellers in Setúbal",
          "Vivino's 2018 Wine Style Awards: South African Bordeaux Blend",
          "Vivino's 2020 Wine Style Awards: Argentinian Malbec",
          "Vivino's 2020 Wine Style Awards: French Champagne N.V.",
          "Vivino's 2020 Wine Style Awards: South African Syrah",
          "top_lists.EditorialTopList.2017999.name",
          "Bestsellers in Lisboa",
          "Vivino's 2016 Wine Style Awards: French Champagne",
          "Vivino's 2018 Wine Style Awards: Bordeaux Saint-Émilion",
          "Vivino's 2019 Wine Style Awards: South African Bordeaux Blend",
          "Vivino's 2019 Wine Style Awards: Southern Italy Red",
          "Bestsellers in Portugal"
         ],
         "xaxis": "x",
         "y": [
          1,
          1,
          1,
          1,
          1,
          1,
          1,
          1,
          1,
          1,
          1,
          1,
          1,
          1,
          1,
          1,
          1,
          1,
          1,
          1,
          1,
          1,
          1,
          1,
          1,
          1,
          1,
          1,
          1,
          1,
          1,
          2,
          2,
          2,
          2,
          2,
          2,
          2,
          2,
          2,
          2,
          2,
          2,
          2,
          2,
          2,
          2,
          2,
          2,
          2,
          2,
          3,
          3,
          3,
          3,
          3,
          3,
          3,
          3,
          3,
          3,
          3,
          3,
          3,
          3,
          3,
          4,
          4,
          4,
          4,
          4,
          4,
          4,
          4,
          4,
          4,
          4,
          4,
          4,
          4,
          5,
          5,
          5,
          5,
          5,
          5,
          6,
          6,
          6,
          6,
          6,
          6,
          6,
          6,
          7,
          7,
          7,
          7,
          7,
          8
         ],
         "yaxis": "y"
        }
       ],
       "layout": {
        "coloraxis": {
         "colorbar": {
          "title": {
           "text": "vintage_rank"
          }
         },
         "colorscale": [
          [
           0,
           "#440154"
          ],
          [
           0.1111111111111111,
           "#482878"
          ],
          [
           0.2222222222222222,
           "#3e4989"
          ],
          [
           0.3333333333333333,
           "#31688e"
          ],
          [
           0.4444444444444444,
           "#26828e"
          ],
          [
           0.5555555555555556,
           "#1f9e89"
          ],
          [
           0.6666666666666666,
           "#35b779"
          ],
          [
           0.7777777777777778,
           "#6ece58"
          ],
          [
           0.8888888888888888,
           "#b5de2b"
          ],
          [
           1,
           "#fde725"
          ]
         ]
        },
        "legend": {
         "itemsizing": "constant",
         "tracegroupgap": 0
        },
        "template": {
         "data": {
          "candlestick": [
           {
            "decreasing": {
             "line": {
              "color": "#000033"
             }
            },
            "increasing": {
             "line": {
              "color": "#000032"
             }
            },
            "type": "candlestick"
           }
          ],
          "contour": [
           {
            "colorscale": [
             [
              0,
              "#000011"
             ],
             [
              0.1111111111111111,
              "#000012"
             ],
             [
              0.2222222222222222,
              "#000013"
             ],
             [
              0.3333333333333333,
              "#000014"
             ],
             [
              0.4444444444444444,
              "#000015"
             ],
             [
              0.5555555555555556,
              "#000016"
             ],
             [
              0.6666666666666666,
              "#000017"
             ],
             [
              0.7777777777777778,
              "#000018"
             ],
             [
              0.8888888888888888,
              "#000019"
             ],
             [
              1,
              "#000020"
             ]
            ],
            "type": "contour"
           }
          ],
          "contourcarpet": [
           {
            "colorscale": [
             [
              0,
              "#000011"
             ],
             [
              0.1111111111111111,
              "#000012"
             ],
             [
              0.2222222222222222,
              "#000013"
             ],
             [
              0.3333333333333333,
              "#000014"
             ],
             [
              0.4444444444444444,
              "#000015"
             ],
             [
              0.5555555555555556,
              "#000016"
             ],
             [
              0.6666666666666666,
              "#000017"
             ],
             [
              0.7777777777777778,
              "#000018"
             ],
             [
              0.8888888888888888,
              "#000019"
             ],
             [
              1,
              "#000020"
             ]
            ],
            "type": "contourcarpet"
           }
          ],
          "heatmap": [
           {
            "colorscale": [
             [
              0,
              "#000011"
             ],
             [
              0.1111111111111111,
              "#000012"
             ],
             [
              0.2222222222222222,
              "#000013"
             ],
             [
              0.3333333333333333,
              "#000014"
             ],
             [
              0.4444444444444444,
              "#000015"
             ],
             [
              0.5555555555555556,
              "#000016"
             ],
             [
              0.6666666666666666,
              "#000017"
             ],
             [
              0.7777777777777778,
              "#000018"
             ],
             [
              0.8888888888888888,
              "#000019"
             ],
             [
              1,
              "#000020"
             ]
            ],
            "type": "heatmap"
           }
          ],
          "histogram2d": [
           {
            "colorscale": [
             [
              0,
              "#000011"
             ],
             [
              0.1111111111111111,
              "#000012"
             ],
             [
              0.2222222222222222,
              "#000013"
             ],
             [
              0.3333333333333333,
              "#000014"
             ],
             [
              0.4444444444444444,
              "#000015"
             ],
             [
              0.5555555555555556,
              "#000016"
             ],
             [
              0.6666666666666666,
              "#000017"
             ],
             [
              0.7777777777777778,
              "#000018"
             ],
             [
              0.8888888888888888,
              "#000019"
             ],
             [
              1,
              "#000020"
             ]
            ],
            "type": "histogram2d"
           }
          ],
          "icicle": [
           {
            "textfont": {
             "color": "white"
            },
            "type": "icicle"
           }
          ],
          "sankey": [
           {
            "textfont": {
             "color": "#000036"
            },
            "type": "sankey"
           }
          ],
          "scatter": [
           {
            "marker": {
             "line": {
              "width": 0
             }
            },
            "type": "scatter"
           }
          ],
          "table": [
           {
            "cells": {
             "fill": {
              "color": "#000038"
             },
             "font": {
              "color": "#000037"
             },
             "line": {
              "color": "#000039"
             }
            },
            "header": {
             "fill": {
              "color": "#000040"
             },
             "font": {
              "color": "#000036"
             },
             "line": {
              "color": "#000039"
             }
            },
            "type": "table"
           }
          ],
          "waterfall": [
           {
            "connector": {
             "line": {
              "color": "#000036",
              "width": 2
             }
            },
            "decreasing": {
             "marker": {
              "color": "#000033"
             }
            },
            "increasing": {
             "marker": {
              "color": "#000032"
             }
            },
            "totals": {
             "marker": {
              "color": "#000034"
             }
            },
            "type": "waterfall"
           }
          ]
         },
         "layout": {
          "coloraxis": {
           "colorscale": [
            [
             0,
             "#000011"
            ],
            [
             0.1111111111111111,
             "#000012"
            ],
            [
             0.2222222222222222,
             "#000013"
            ],
            [
             0.3333333333333333,
             "#000014"
            ],
            [
             0.4444444444444444,
             "#000015"
            ],
            [
             0.5555555555555556,
             "#000016"
            ],
            [
             0.6666666666666666,
             "#000017"
            ],
            [
             0.7777777777777778,
             "#000018"
            ],
            [
             0.8888888888888888,
             "#000019"
            ],
            [
             1,
             "#000020"
            ]
           ]
          },
          "colorscale": {
           "diverging": [
            [
             0,
             "#000021"
            ],
            [
             0.1,
             "#000022"
            ],
            [
             0.2,
             "#000023"
            ],
            [
             0.3,
             "#000024"
            ],
            [
             0.4,
             "#000025"
            ],
            [
             0.5,
             "#000026"
            ],
            [
             0.6,
             "#000027"
            ],
            [
             0.7,
             "#000028"
            ],
            [
             0.8,
             "#000029"
            ],
            [
             0.9,
             "#000030"
            ],
            [
             1,
             "#000031"
            ]
           ],
           "sequential": [
            [
             0,
             "#000011"
            ],
            [
             0.1111111111111111,
             "#000012"
            ],
            [
             0.2222222222222222,
             "#000013"
            ],
            [
             0.3333333333333333,
             "#000014"
            ],
            [
             0.4444444444444444,
             "#000015"
            ],
            [
             0.5555555555555556,
             "#000016"
            ],
            [
             0.6666666666666666,
             "#000017"
            ],
            [
             0.7777777777777778,
             "#000018"
            ],
            [
             0.8888888888888888,
             "#000019"
            ],
            [
             1,
             "#000020"
            ]
           ],
           "sequentialminus": [
            [
             0,
             "#000011"
            ],
            [
             0.1111111111111111,
             "#000012"
            ],
            [
             0.2222222222222222,
             "#000013"
            ],
            [
             0.3333333333333333,
             "#000014"
            ],
            [
             0.4444444444444444,
             "#000015"
            ],
            [
             0.5555555555555556,
             "#000016"
            ],
            [
             0.6666666666666666,
             "#000017"
            ],
            [
             0.7777777777777778,
             "#000018"
            ],
            [
             0.8888888888888888,
             "#000019"
            ],
            [
             1,
             "#000020"
            ]
           ]
          },
          "colorway": [
           "#000001",
           "#000002",
           "#000003",
           "#000004",
           "#000005",
           "#000006",
           "#000007",
           "#000008",
           "#000009",
           "#000010"
          ]
         }
        },
        "title": {
         "text": "wine ratings"
        },
        "xaxis": {
         "anchor": "y",
         "domain": [
          0,
          1
         ],
         "title": {
          "text": "toplists_name"
         }
        },
        "yaxis": {
         "anchor": "x",
         "domain": [
          0,
          1
         ],
         "title": {
          "text": "vintage_rank"
         }
        }
       }
      }
     },
     "metadata": {},
     "output_type": "display_data"
    },
    {
     "name": "stderr",
     "output_type": "stream",
     "text": [
      "2023-09-01 09:22:52.327 \n",
      "  \u001b[33m\u001b[1mWarning:\u001b[0m to view this Streamlit app on a browser, run it with the following\n",
      "  command:\n",
      "\n",
      "    streamlit run c:\\Users\\samve\\OneDrive\\0BeCode\\repos\\wine_market_analysis\\.venv\\Lib\\site-packages\\ipykernel_launcher.py [ARGUMENTS]\n"
     ]
    },
    {
     "data": {
      "text/plain": [
       "DeltaGenerator()"
      ]
     },
     "execution_count": 1,
     "metadata": {},
     "output_type": "execute_result"
    }
   ],
   "source": [
    "import sqlite3\n",
    "import pandas as pd\n",
    "import plotly.express as px\n",
    "import streamlit as st\n",
    "# Connect to SQLite database\n",
    "conn = sqlite3.connect(r'C:\\Users\\samve\\OneDrive\\0BeCode\\repos\\wine_market_analysis\\data\\vivino.db')\n",
    "\n",
    "# Create a cursor object\n",
    "cur = conn.cursor()\n",
    "\n",
    "cur.execute(\"\"\"\n",
    "    SELECT\n",
    "        v.name,\n",
    "        vintage_toplists_rankings.rank,\n",
    "        toplists.name,\n",
    "        v.price_euros\n",
    "    FROM\n",
    "        vintages v\n",
    "        JOIN vintage_toplists_rankings ON v.id = vintage_toplists_rankings.vintage_id\n",
    "        JOIN toplists ON vintage_toplists_rankings.top_list_id = toplists.id\n",
    "    WHERE v.price_euros < 20000\n",
    "    GROUP BY\n",
    "        toplists.name\n",
    "    ORDER BY\n",
    "        vintage_toplists_rankings.rank\n",
    "    LIMIT 100;\n",
    "\"\"\")\n",
    "# fetch the query result\n",
    "query_result = cur.fetchall()\n",
    "\n",
    "# create a dataframe from the query result\n",
    "df = pd.DataFrame(query_result, columns=['vintage_name', 'vintage_rank', 'toplists_name', 'vintages.price_euros'])\n",
    "print(df.info)\n",
    "# close the database connection\n",
    "conn.close()\n",
    "\n",
    "# create a scatter plot using plotly express\n",
    "scatter_plot = px.scatter(df, x='toplists_name', y='vintage_rank', \n",
    "                          color='vintage_rank', color_continuous_scale='viridis',\n",
    "                          size='vintage_rank', hover_name='vintage_name', title='wine ratings')\n",
    "scatter_plot.show()\n",
    "# Save the DataFrame to a CSV file in the \"data\" directory\n",
    "csv_file_path = r'C:\\Users\\samve\\OneDrive\\0BeCode\\repos\\wine_market_analysis\\data\\wines_to_highlight_by_toplists.csv'\n",
    "df.to_csv(csv_file_path, index=False)\n",
    "#add streamlit code\n",
    "st.plotly_chart(scatter_plot)"
   ]
  },
  {
   "cell_type": "code",
   "execution_count": null,
   "metadata": {},
   "outputs": [],
   "source": []
  },
  {
   "cell_type": "markdown",
   "metadata": {},
   "source": []
  }
 ],
 "metadata": {
  "kernelspec": {
   "display_name": ".venv",
   "language": "python",
   "name": "python3"
  },
  "language_info": {
   "codemirror_mode": {
    "name": "ipython",
    "version": 3
   },
   "file_extension": ".py",
   "mimetype": "text/x-python",
   "name": "python",
   "nbconvert_exporter": "python",
   "pygments_lexer": "ipython3",
   "version": "3.11.4"
  },
  "orig_nbformat": 4
 },
 "nbformat": 4,
 "nbformat_minor": 2
}
