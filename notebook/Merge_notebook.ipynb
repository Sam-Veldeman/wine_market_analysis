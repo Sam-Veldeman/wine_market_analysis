{
 "cells": [
  {
   "cell_type": "markdown",
   "metadata": {},
   "source": [
    "This query is for selecting the vintages priced < 20 €    \n",
    "They seem insteresting to highlight just because they got good rating and are cheap"
   ]
  },
  {
   "cell_type": "code",
   "execution_count": null,
   "metadata": {},
   "outputs": [],
   "source": [
    "import sqlite3\n",
    "import pandas as pd\n",
    "import plotly.express as px\n",
    "import streamlit as st\n",
    "# Connect to SQLite database\n",
    "conn = sqlite3.connect('../data/vivino.db')\n",
    "# Create a cursor object\n",
    "cur = conn.cursor()\n",
    "cur.execute(\"\"\"\n",
    "    SELECT\n",
    "        v.id,\n",
    "        v.ratings_average,\n",
    "        v.ratings_count,\n",
    "        v.name,\n",
    "        v.price_euros\n",
    "        \n",
    "    FROM\n",
    "        vintages v\n",
    "    WHERE\n",
    "        v.price_euros < 20\n",
    "    ORDER BY\n",
    "        v.ratings_average DESC,\n",
    "        v.ratings_count DESC\n",
    "    LIMIT 2;\n",
    "\"\"\")\n",
    "# Fetch the query result\n",
    "query_result = cur.fetchall()\n",
    "\n",
    "# Create a DataFrame from the query result\n",
    "df = pd.DataFrame(query_result, columns=['id','ratings_average', 'ratings_count', 'name', 'price_euros'])\n",
    "print(df)\n",
    "# Close the database connection\n",
    "conn.close()"
   ]
  },
  {
   "cell_type": "code",
   "execution_count": null,
   "metadata": {},
   "outputs": [],
   "source": [
    "    SELECT\n",
    "        v.id,\n",
    "        v.ratings_average,\n",
    "        v.ratings_count,\n",
    "        v.name,\n",
    "        v.price_euros\n",
    "        \n",
    "    FROM\n",
    "        vintages v\n",
    "    WHERE\n",
    "        v.price_euros < 20\n",
    "    ORDER BY\n",
    "        v.ratings_average DESC,\n",
    "        v.ratings_count DESC\n",
    "    LIMIT 2;"
   ]
  },
  {
   "cell_type": "markdown",
   "metadata": {},
   "source": [
    "This query is for selecting wines with price between 20 and 30 euros, avg rating >= 4.4, rating_count > 1000.     \n",
    "The wines are not N.V. (non-vintage: blend of multiple years)"
   ]
  },
  {
   "cell_type": "code",
   "execution_count": 54,
   "metadata": {},
   "outputs": [
    {
     "name": "stdout",
     "output_type": "stream",
     "text": [
      "          id                                       vintage_name  \\\n",
      "0  162964134                     Pago de Carraovejas Tinto 2020   \n",
      "1  159319855                                 Rutini Malbec 2019   \n",
      "2  160549459               Guerrieri Guerriero della Terra 2019   \n",
      "3  156098276  San Marzano 60 Sessantanni Old Vines Primitivo...   \n",
      "4  156113777          Matarromera Ribera del Duero Reserva 2018   \n",
      "5  156132702   Tommasi Amarone della Valpolicella Classico 2018   \n",
      "6  150450962          Matarromera Ribera del Duero Reserva 2017   \n",
      "7  152069724                           Gitana Lupi Rezerva 2017   \n",
      "8   14794438             Bodegas Roda Roda I Reserva Rioja 2015   \n",
      "9    2667186  Château Suduiraut Sauternes (Premier Grand Cru...   \n",
      "\n",
      "   ratings_average  year  price_euros  ratings_count  \n",
      "0              4.5  2020        42.95           2129  \n",
      "1              4.4  2019        25.99           2567  \n",
      "2              4.4  2019        27.40           1803  \n",
      "3              4.4  2018        24.75           1748  \n",
      "4              4.4  2018        39.95           5650  \n",
      "5              4.4  2018        49.80           1570  \n",
      "6              4.4  2017        49.95           4616  \n",
      "7              4.6  2017        36.55           1155  \n",
      "8              4.4  2015        40.98           1732  \n",
      "9              4.4  2007        49.90           1244  \n"
     ]
    }
   ],
   "source": [
    "import sqlite3\n",
    "import pandas as pd\n",
    "import plotly.express as px\n",
    "\n",
    "# Connect to the SQLite database\n",
    "conn = sqlite3.connect(r'C:\\Users\\samve\\OneDrive\\0BeCode\\repos\\wine_market_analysis\\data\\vivino.db')\n",
    "\n",
    "# Execute the query and fetch data\n",
    "query = \"\"\"\n",
    "SELECT v.id, v.name AS vintage_name, v.ratings_average, v.year, v.price_euros, v.ratings_count\n",
    "FROM vintages AS v\n",
    "JOIN wines AS w ON v.wine_id = w.id\n",
    "JOIN regions AS r ON w.region_id = r.id\n",
    "WHERE v.ratings_average >= 4.4 AND v.price_euros BETWEEN 20 AND 50 AND v.ratings_count > 1000 AND v.year != 'N.V.'\n",
    "ORDER BY v.year DESC\n",
    "LIMIT 8;\n",
    "\"\"\"\n",
    "result = conn.execute(query).fetchall()\n",
    "\n",
    "# Close the database connection\n",
    "conn.close()\n",
    "\n",
    "# Convert the result to a Pandas DataFrame\n",
    "columns = ['id', 'vintage_name', 'ratings_average', 'year', 'price_euros', 'ratings_count']\n",
    "df = pd.DataFrame(result, columns=columns)\n",
    "\n",
    "print(df)"
   ]
  },
  {
   "cell_type": "markdown",
   "metadata": {},
   "source": [
    "Merged queries and output df and csv    \n",
    "The query returns 10 vintages to highlight to increase sales."
   ]
  },
  {
   "cell_type": "code",
   "execution_count": null,
   "metadata": {},
   "outputs": [],
   "source": [
    "import sqlite3\n",
    "import pandas as pd\n",
    "\n",
    "# Connect to the SQLite database\n",
    "conn = sqlite3.connect(r'C:\\Users\\samve\\OneDrive\\0BeCode\\repos\\wine_market_analysis\\data\\vivino.db')\n",
    "\n",
    "# Execute the combined query and fetch data\n",
    "combined_query = \"\"\"\n",
    "SELECT v.id, v.name AS vintage_name, v.ratings_average, v.year, v.price_euros, v.ratings_count\n",
    "FROM vintages AS v\n",
    "JOIN wines AS w ON v.wine_id = w.id\n",
    "JOIN regions AS r ON w.region_id = r.id\n",
    "WHERE (v.ratings_average >= 4.4 AND v.price_euros < 20) OR (v.ratings_average >= 4.4 AND v.price_euros BETWEEN 20 AND 50 AND v.ratings_count > 1000 AND v.year != 'N.V.')\n",
    "ORDER BY v.year DESC\n",
    "LIMIT 10;\n",
    "\"\"\"\n",
    "result = conn.execute(combined_query).fetchall()\n",
    "\n",
    "# Close the database connection\n",
    "conn.close()\n",
    "\n",
    "# Convert the result to a Pandas DataFrame\n",
    "columns = ['id', 'vintage_name', 'ratings_average', 'year', 'price_euros', 'ratings_count']\n",
    "df = pd.DataFrame(result, columns=columns)\n",
    "\n",
    "# Save the DataFrame to a CSV file in the \"data\" directory\n",
    "csv_file_path = r'C:\\Users\\samve\\OneDrive\\0BeCode\\repos\\wine_market_analysis\\data\\wines_to_highlight.csv'\n",
    "df.to_csv(csv_file_path, index=False)\n",
    "\n",
    "# Print the DataFrame\n",
    "print(df)"
   ]
  },
  {
   "cell_type": "markdown",
   "metadata": {},
   "source": [
    "This query selects 10 wines from the toplists ranking based on rank and price < 40 euros     \n",
    "These wines should be good to promote and raise sales."
   ]
  },
  {
   "cell_type": "code",
   "execution_count": 60,
   "metadata": {},
   "outputs": [
    {
     "data": {
      "application/vnd.plotly.v1+json": {
       "config": {
        "plotlyServerURL": "https://plot.ly"
       },
       "data": [
        {
         "hovertemplate": "<b>%{hovertext}</b><br><br>toplists_name=%{x}<br>vintage_rank=%{marker.color}<extra></extra>",
         "hovertext": [
          "Arzuaga Reserva Ribera del Duero 2018",
          "Gitana Lupi Rezerva 2017",
          "Tenuta Ulisse Limited Edition 10 Vendemmie",
          "Casa Ermelinda Freitas Dona Ermelinda Grande Reserva 2017",
          "Casa Ermelinda Freitas Dona Ermelinda Grande Reserva 2017",
          "Casa Ermelinda Freitas Dona Ermelinda Grande Reserva 2017",
          "Casa Ermelinda Freitas Dona Ermelinda Grande Reserva 2017",
          "Tenuta Ulisse Limited Edition 10 Vendemmie",
          "Gitana Lupi Rezerva 2017",
          "Tenuta Ulisse Limited Edition 10 Vendemmie"
         ],
         "legendgroup": "",
         "marker": {
          "color": [
           1,
           2,
           5,
           7,
           8,
           8,
           9,
           10,
           15,
           15
          ],
          "coloraxis": "coloraxis",
          "size": [
           1,
           2,
           5,
           7,
           8,
           8,
           9,
           10,
           15,
           15
          ],
          "sizemode": "area",
          "sizeref": 0.0375,
          "symbol": "circle"
         },
         "mode": "markers",
         "name": "",
         "orientation": "v",
         "showlegend": false,
         "type": "scatter",
         "x": [
          "Bestsellers in Córdoba",
          "Bestsellers in Ireland",
          "Bestsellers in Italy",
          "Bestsellers in Lisboa",
          "Bestsellers in Portugal",
          "Bestsellers in Viseu",
          "Bestsellers in Setúbal",
          "Bestsellers in Singapore",
          "Bestsellers in Arizona",
          "Bestsellers in Hong Kong"
         ],
         "xaxis": "x",
         "y": [
          1,
          2,
          5,
          7,
          8,
          8,
          9,
          10,
          15,
          15
         ],
         "yaxis": "y"
        }
       ],
       "layout": {
        "coloraxis": {
         "colorbar": {
          "title": {
           "text": "vintage_rank"
          }
         },
         "colorscale": [
          [
           0,
           "#440154"
          ],
          [
           0.1111111111111111,
           "#482878"
          ],
          [
           0.2222222222222222,
           "#3e4989"
          ],
          [
           0.3333333333333333,
           "#31688e"
          ],
          [
           0.4444444444444444,
           "#26828e"
          ],
          [
           0.5555555555555556,
           "#1f9e89"
          ],
          [
           0.6666666666666666,
           "#35b779"
          ],
          [
           0.7777777777777778,
           "#6ece58"
          ],
          [
           0.8888888888888888,
           "#b5de2b"
          ],
          [
           1,
           "#fde725"
          ]
         ]
        },
        "legend": {
         "itemsizing": "constant",
         "tracegroupgap": 0
        },
        "template": {
         "data": {
          "candlestick": [
           {
            "decreasing": {
             "line": {
              "color": "#000033"
             }
            },
            "increasing": {
             "line": {
              "color": "#000032"
             }
            },
            "type": "candlestick"
           }
          ],
          "contour": [
           {
            "colorscale": [
             [
              0,
              "#000011"
             ],
             [
              0.1111111111111111,
              "#000012"
             ],
             [
              0.2222222222222222,
              "#000013"
             ],
             [
              0.3333333333333333,
              "#000014"
             ],
             [
              0.4444444444444444,
              "#000015"
             ],
             [
              0.5555555555555556,
              "#000016"
             ],
             [
              0.6666666666666666,
              "#000017"
             ],
             [
              0.7777777777777778,
              "#000018"
             ],
             [
              0.8888888888888888,
              "#000019"
             ],
             [
              1,
              "#000020"
             ]
            ],
            "type": "contour"
           }
          ],
          "contourcarpet": [
           {
            "colorscale": [
             [
              0,
              "#000011"
             ],
             [
              0.1111111111111111,
              "#000012"
             ],
             [
              0.2222222222222222,
              "#000013"
             ],
             [
              0.3333333333333333,
              "#000014"
             ],
             [
              0.4444444444444444,
              "#000015"
             ],
             [
              0.5555555555555556,
              "#000016"
             ],
             [
              0.6666666666666666,
              "#000017"
             ],
             [
              0.7777777777777778,
              "#000018"
             ],
             [
              0.8888888888888888,
              "#000019"
             ],
             [
              1,
              "#000020"
             ]
            ],
            "type": "contourcarpet"
           }
          ],
          "heatmap": [
           {
            "colorscale": [
             [
              0,
              "#000011"
             ],
             [
              0.1111111111111111,
              "#000012"
             ],
             [
              0.2222222222222222,
              "#000013"
             ],
             [
              0.3333333333333333,
              "#000014"
             ],
             [
              0.4444444444444444,
              "#000015"
             ],
             [
              0.5555555555555556,
              "#000016"
             ],
             [
              0.6666666666666666,
              "#000017"
             ],
             [
              0.7777777777777778,
              "#000018"
             ],
             [
              0.8888888888888888,
              "#000019"
             ],
             [
              1,
              "#000020"
             ]
            ],
            "type": "heatmap"
           }
          ],
          "histogram2d": [
           {
            "colorscale": [
             [
              0,
              "#000011"
             ],
             [
              0.1111111111111111,
              "#000012"
             ],
             [
              0.2222222222222222,
              "#000013"
             ],
             [
              0.3333333333333333,
              "#000014"
             ],
             [
              0.4444444444444444,
              "#000015"
             ],
             [
              0.5555555555555556,
              "#000016"
             ],
             [
              0.6666666666666666,
              "#000017"
             ],
             [
              0.7777777777777778,
              "#000018"
             ],
             [
              0.8888888888888888,
              "#000019"
             ],
             [
              1,
              "#000020"
             ]
            ],
            "type": "histogram2d"
           }
          ],
          "icicle": [
           {
            "textfont": {
             "color": "white"
            },
            "type": "icicle"
           }
          ],
          "sankey": [
           {
            "textfont": {
             "color": "#000036"
            },
            "type": "sankey"
           }
          ],
          "scatter": [
           {
            "marker": {
             "line": {
              "width": 0
             }
            },
            "type": "scatter"
           }
          ],
          "table": [
           {
            "cells": {
             "fill": {
              "color": "#000038"
             },
             "font": {
              "color": "#000037"
             },
             "line": {
              "color": "#000039"
             }
            },
            "header": {
             "fill": {
              "color": "#000040"
             },
             "font": {
              "color": "#000036"
             },
             "line": {
              "color": "#000039"
             }
            },
            "type": "table"
           }
          ],
          "waterfall": [
           {
            "connector": {
             "line": {
              "color": "#000036",
              "width": 2
             }
            },
            "decreasing": {
             "marker": {
              "color": "#000033"
             }
            },
            "increasing": {
             "marker": {
              "color": "#000032"
             }
            },
            "totals": {
             "marker": {
              "color": "#000034"
             }
            },
            "type": "waterfall"
           }
          ]
         },
         "layout": {
          "coloraxis": {
           "colorscale": [
            [
             0,
             "#000011"
            ],
            [
             0.1111111111111111,
             "#000012"
            ],
            [
             0.2222222222222222,
             "#000013"
            ],
            [
             0.3333333333333333,
             "#000014"
            ],
            [
             0.4444444444444444,
             "#000015"
            ],
            [
             0.5555555555555556,
             "#000016"
            ],
            [
             0.6666666666666666,
             "#000017"
            ],
            [
             0.7777777777777778,
             "#000018"
            ],
            [
             0.8888888888888888,
             "#000019"
            ],
            [
             1,
             "#000020"
            ]
           ]
          },
          "colorscale": {
           "diverging": [
            [
             0,
             "#000021"
            ],
            [
             0.1,
             "#000022"
            ],
            [
             0.2,
             "#000023"
            ],
            [
             0.3,
             "#000024"
            ],
            [
             0.4,
             "#000025"
            ],
            [
             0.5,
             "#000026"
            ],
            [
             0.6,
             "#000027"
            ],
            [
             0.7,
             "#000028"
            ],
            [
             0.8,
             "#000029"
            ],
            [
             0.9,
             "#000030"
            ],
            [
             1,
             "#000031"
            ]
           ],
           "sequential": [
            [
             0,
             "#000011"
            ],
            [
             0.1111111111111111,
             "#000012"
            ],
            [
             0.2222222222222222,
             "#000013"
            ],
            [
             0.3333333333333333,
             "#000014"
            ],
            [
             0.4444444444444444,
             "#000015"
            ],
            [
             0.5555555555555556,
             "#000016"
            ],
            [
             0.6666666666666666,
             "#000017"
            ],
            [
             0.7777777777777778,
             "#000018"
            ],
            [
             0.8888888888888888,
             "#000019"
            ],
            [
             1,
             "#000020"
            ]
           ],
           "sequentialminus": [
            [
             0,
             "#000011"
            ],
            [
             0.1111111111111111,
             "#000012"
            ],
            [
             0.2222222222222222,
             "#000013"
            ],
            [
             0.3333333333333333,
             "#000014"
            ],
            [
             0.4444444444444444,
             "#000015"
            ],
            [
             0.5555555555555556,
             "#000016"
            ],
            [
             0.6666666666666666,
             "#000017"
            ],
            [
             0.7777777777777778,
             "#000018"
            ],
            [
             0.8888888888888888,
             "#000019"
            ],
            [
             1,
             "#000020"
            ]
           ]
          },
          "colorway": [
           "#000001",
           "#000002",
           "#000003",
           "#000004",
           "#000005",
           "#000006",
           "#000007",
           "#000008",
           "#000009",
           "#000010"
          ]
         }
        },
        "title": {
         "text": "wine ratings"
        },
        "xaxis": {
         "anchor": "y",
         "domain": [
          0,
          1
         ],
         "title": {
          "text": "toplists_name"
         }
        },
        "yaxis": {
         "anchor": "x",
         "domain": [
          0,
          1
         ],
         "title": {
          "text": "vintage_rank"
         }
        }
       }
      }
     },
     "metadata": {},
     "output_type": "display_data"
    },
    {
     "name": "stderr",
     "output_type": "stream",
     "text": [
      "2023-08-30 21:29:10.497 \n",
      "  \u001b[33m\u001b[1mWarning:\u001b[0m to view this Streamlit app on a browser, run it with the following\n",
      "  command:\n",
      "\n",
      "    streamlit run c:\\Users\\samve\\OneDrive\\0BeCode\\repos\\wine_market_analysis\\.venv\\Lib\\site-packages\\ipykernel_launcher.py [ARGUMENTS]\n"
     ]
    },
    {
     "data": {
      "text/plain": [
       "DeltaGenerator()"
      ]
     },
     "execution_count": 60,
     "metadata": {},
     "output_type": "execute_result"
    }
   ],
   "source": [
    "import sqlite3\n",
    "import pandas as pd\n",
    "import plotly.express as px\n",
    "import streamlit as st\n",
    "# Connect to SQLite database\n",
    "conn = sqlite3.connect(r'C:\\Users\\samve\\OneDrive\\0BeCode\\repos\\wine_market_analysis\\data\\vivino.db')\n",
    "\n",
    "# Create a cursor object\n",
    "cur = conn.cursor()\n",
    "\n",
    "cur.execute(\"\"\"\n",
    "    SELECT\n",
    "        v.name,\n",
    "        vintage_toplists_rankings.rank,\n",
    "        toplists.name,\n",
    "        v.price_euros\n",
    "    FROM\n",
    "        vintages v\n",
    "        JOIN vintage_toplists_rankings ON v.id = vintage_toplists_rankings.vintage_id\n",
    "        JOIN toplists ON vintage_toplists_rankings.top_list_id = toplists.id\n",
    "    WHERE v.price_euros < 40\n",
    "    GROUP BY\n",
    "        toplists.name\n",
    "    ORDER BY\n",
    "        vintage_toplists_rankings.rank\n",
    "    LIMIT 10;\n",
    "\"\"\")\n",
    "# fetch the query result\n",
    "query_result = cur.fetchall()\n",
    "\n",
    "# create a dataframe from the query result\n",
    "df = pd.DataFrame(query_result, columns=['vintage_name', 'vintage_rank', 'toplists_name', 'vintages.price_euros'])\n",
    "\n",
    "# close the database connection\n",
    "conn.close()\n",
    "\n",
    "# create a scatter plot using plotly express\n",
    "scatter_plot = px.scatter(df, x='toplists_name', y='vintage_rank', \n",
    "                          color='vintage_rank', color_continuous_scale='viridis',\n",
    "                          size='vintage_rank', hover_name='vintage_name', title='wine ratings')\n",
    "scatter_plot.show()\n",
    "# Save the DataFrame to a CSV file in the \"data\" directory\n",
    "csv_file_path = r'C:\\Users\\samve\\OneDrive\\0BeCode\\repos\\wine_market_analysis\\data\\wines_to_highlight_by_toplists.csv'\n",
    "df.to_csv(csv_file_path, index=False)\n",
    "#add streamlit code\n",
    "st.plotly_chart(scatter_plot)"
   ]
  },
  {
   "cell_type": "code",
   "execution_count": null,
   "metadata": {},
   "outputs": [],
   "source": []
  },
  {
   "cell_type": "markdown",
   "metadata": {},
   "source": []
  }
 ],
 "metadata": {
  "kernelspec": {
   "display_name": ".venv",
   "language": "python",
   "name": "python3"
  },
  "language_info": {
   "codemirror_mode": {
    "name": "ipython",
    "version": 3
   },
   "file_extension": ".py",
   "mimetype": "text/x-python",
   "name": "python",
   "nbconvert_exporter": "python",
   "pygments_lexer": "ipython3",
   "version": "3.11.4"
  },
  "orig_nbformat": 4
 },
 "nbformat": 4,
 "nbformat_minor": 2
}
