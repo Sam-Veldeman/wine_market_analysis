{
 "cells": [
  {
   "cell_type": "code",
   "execution_count": 22,
   "metadata": {},
   "outputs": [],
   "source": [
    "%sql sqlite:///../data/vivino.db"
   ]
  },
  {
   "cell_type": "code",
   "execution_count": 24,
   "metadata": {},
   "outputs": [
    {
     "data": {
      "text/html": [
       "<span style=\"None\">Running query in &#x27;sqlite:///../data/vivino.db&#x27;</span>"
      ],
      "text/plain": [
       "Running query in 'sqlite:///../data/vivino.db'"
      ]
     },
     "metadata": {},
     "output_type": "display_data"
    },
    {
     "data": {
      "text/html": [
       "<table>\n",
       "    <thead>\n",
       "        <tr>\n",
       "            <th>code</th>\n",
       "            <th>name</th>\n",
       "            <th>regions_count</th>\n",
       "            <th>users_count</th>\n",
       "            <th>wines_count</th>\n",
       "            <th>wineries_count</th>\n",
       "        </tr>\n",
       "    </thead>\n",
       "    <tbody>\n",
       "        <tr>\n",
       "            <td>it</td>\n",
       "            <td>Italie</td>\n",
       "            <td>563</td>\n",
       "            <td>4270717</td>\n",
       "            <td>274658</td>\n",
       "            <td>42399</td>\n",
       "        </tr>\n",
       "        <tr>\n",
       "            <td>fr</td>\n",
       "            <td>France</td>\n",
       "            <td>1306</td>\n",
       "            <td>5973301</td>\n",
       "            <td>422503</td>\n",
       "            <td>67553</td>\n",
       "        </tr>\n",
       "        <tr>\n",
       "            <td>us</td>\n",
       "            <td>États-Unis</td>\n",
       "            <td>362</td>\n",
       "            <td>12273684</td>\n",
       "            <td>204060</td>\n",
       "            <td>28145</td>\n",
       "        </tr>\n",
       "        <tr>\n",
       "            <td>es</td>\n",
       "            <td>Espagne</td>\n",
       "            <td>152</td>\n",
       "            <td>2264396</td>\n",
       "            <td>102662</td>\n",
       "            <td>18026</td>\n",
       "        </tr>\n",
       "        <tr>\n",
       "            <td>pt</td>\n",
       "            <td>Portugal</td>\n",
       "            <td>93</td>\n",
       "            <td>1123535</td>\n",
       "            <td>39847</td>\n",
       "            <td>5834</td>\n",
       "        </tr>\n",
       "        <tr>\n",
       "            <td>au</td>\n",
       "            <td>Australie</td>\n",
       "            <td>120</td>\n",
       "            <td>1022965</td>\n",
       "            <td>90954</td>\n",
       "            <td>13946</td>\n",
       "        </tr>\n",
       "        <tr>\n",
       "            <td>hu</td>\n",
       "            <td>Hongrie</td>\n",
       "            <td>29</td>\n",
       "            <td>102235</td>\n",
       "            <td>16605</td>\n",
       "            <td>1923</td>\n",
       "        </tr>\n",
       "        <tr>\n",
       "            <td>za</td>\n",
       "            <td>Afrique du Sud</td>\n",
       "            <td>112</td>\n",
       "            <td>269649</td>\n",
       "            <td>30857</td>\n",
       "            <td>4227</td>\n",
       "        </tr>\n",
       "        <tr>\n",
       "            <td>de</td>\n",
       "            <td>Allemagne</td>\n",
       "            <td>236</td>\n",
       "            <td>2549989</td>\n",
       "            <td>164533</td>\n",
       "            <td>13643</td>\n",
       "        </tr>\n",
       "        <tr>\n",
       "            <td>cl</td>\n",
       "            <td>Chili</td>\n",
       "            <td>41</td>\n",
       "            <td>326757</td>\n",
       "            <td>41191</td>\n",
       "            <td>5785</td>\n",
       "        </tr>\n",
       "    </tbody>\n",
       "</table>\n",
       "<span style=\"font-style:italic;text-align:center;\">Truncated to <a href=\"https://jupysql.ploomber.io/en/latest/api/configuration.html#displaylimit\">displaylimit</a> of 10.</span>"
      ],
      "text/plain": [
       "+------+----------------+---------------+-------------+-------------+----------------+\n",
       "| code |      name      | regions_count | users_count | wines_count | wineries_count |\n",
       "+------+----------------+---------------+-------------+-------------+----------------+\n",
       "|  it  |     Italie     |      563      |   4270717   |    274658   |     42399      |\n",
       "|  fr  |     France     |      1306     |   5973301   |    422503   |     67553      |\n",
       "|  us  |   États-Unis   |      362      |   12273684  |    204060   |     28145      |\n",
       "|  es  |    Espagne     |      152      |   2264396   |    102662   |     18026      |\n",
       "|  pt  |    Portugal    |       93      |   1123535   |    39847    |      5834      |\n",
       "|  au  |   Australie    |      120      |   1022965   |    90954    |     13946      |\n",
       "|  hu  |    Hongrie     |       29      |    102235   |    16605    |      1923      |\n",
       "|  za  | Afrique du Sud |      112      |    269649   |    30857    |      4227      |\n",
       "|  de  |   Allemagne    |      236      |   2549989   |    164533   |     13643      |\n",
       "|  cl  |     Chili      |       41      |    326757   |    41191    |      5785      |\n",
       "+------+----------------+---------------+-------------+-------------+----------------+\n",
       "Truncated to displaylimit of 10."
      ]
     },
     "execution_count": 24,
     "metadata": {},
     "output_type": "execute_result"
    }
   ],
   "source": [
    "%%sql\n",
    "SELECT * FROM countries;"
   ]
  },
  {
   "cell_type": "code",
   "execution_count": 25,
   "metadata": {},
   "outputs": [
    {
     "data": {
      "text/html": [
       "<span style=\"None\">Running query in &#x27;sqlite:///../data/vivino.db&#x27;</span>"
      ],
      "text/plain": [
       "Running query in 'sqlite:///../data/vivino.db'"
      ]
     },
     "metadata": {},
     "output_type": "display_data"
    },
    {
     "data": {
      "text/html": [
       "<table>\n",
       "    <thead>\n",
       "        <tr>\n",
       "            <th>cid</th>\n",
       "            <th>name</th>\n",
       "            <th>type</th>\n",
       "            <th>notnull</th>\n",
       "            <th>dflt_value</th>\n",
       "            <th>pk</th>\n",
       "        </tr>\n",
       "    </thead>\n",
       "    <tbody>\n",
       "        <tr>\n",
       "            <td>0</td>\n",
       "            <td>code</td>\n",
       "            <td>VARCHAR</td>\n",
       "            <td>1</td>\n",
       "            <td>None</td>\n",
       "            <td>1</td>\n",
       "        </tr>\n",
       "        <tr>\n",
       "            <td>1</td>\n",
       "            <td>name</td>\n",
       "            <td>VARCHAR</td>\n",
       "            <td>0</td>\n",
       "            <td>None</td>\n",
       "            <td>0</td>\n",
       "        </tr>\n",
       "        <tr>\n",
       "            <td>2</td>\n",
       "            <td>regions_count</td>\n",
       "            <td>INTEGER</td>\n",
       "            <td>0</td>\n",
       "            <td>None</td>\n",
       "            <td>0</td>\n",
       "        </tr>\n",
       "        <tr>\n",
       "            <td>3</td>\n",
       "            <td>users_count</td>\n",
       "            <td>INTEGER</td>\n",
       "            <td>0</td>\n",
       "            <td>None</td>\n",
       "            <td>0</td>\n",
       "        </tr>\n",
       "        <tr>\n",
       "            <td>4</td>\n",
       "            <td>wines_count</td>\n",
       "            <td>INTEGER</td>\n",
       "            <td>0</td>\n",
       "            <td>None</td>\n",
       "            <td>0</td>\n",
       "        </tr>\n",
       "        <tr>\n",
       "            <td>5</td>\n",
       "            <td>wineries_count</td>\n",
       "            <td>INTEGER</td>\n",
       "            <td>0</td>\n",
       "            <td>None</td>\n",
       "            <td>0</td>\n",
       "        </tr>\n",
       "    </tbody>\n",
       "</table>"
      ],
      "text/plain": [
       "+-----+----------------+---------+---------+------------+----+\n",
       "| cid |      name      |   type  | notnull | dflt_value | pk |\n",
       "+-----+----------------+---------+---------+------------+----+\n",
       "|  0  |      code      | VARCHAR |    1    |    None    | 1  |\n",
       "|  1  |      name      | VARCHAR |    0    |    None    | 0  |\n",
       "|  2  | regions_count  | INTEGER |    0    |    None    | 0  |\n",
       "|  3  |  users_count   | INTEGER |    0    |    None    | 0  |\n",
       "|  4  |  wines_count   | INTEGER |    0    |    None    | 0  |\n",
       "|  5  | wineries_count | INTEGER |    0    |    None    | 0  |\n",
       "+-----+----------------+---------+---------+------------+----+"
      ]
     },
     "execution_count": 25,
     "metadata": {},
     "output_type": "execute_result"
    }
   ],
   "source": [
    "%%sql\n",
    "PRAGMA table_info('countries');"
   ]
  },
  {
   "cell_type": "code",
   "execution_count": 26,
   "metadata": {},
   "outputs": [],
   "source": [
    "Base.metadata.create_all(engine)"
   ]
  },
  {
   "cell_type": "code",
   "execution_count": 27,
   "metadata": {},
   "outputs": [
    {
     "data": {
      "text/html": [
       "<span style=\"None\">Running query in &#x27;sqlite:///../data/vivino.db&#x27;</span>"
      ],
      "text/plain": [
       "Running query in 'sqlite:///../data/vivino.db'"
      ]
     },
     "metadata": {},
     "output_type": "display_data"
    },
    {
     "data": {
      "text/html": [
       "<table>\n",
       "    <thead>\n",
       "        <tr>\n",
       "            <th>ratings_average</th>\n",
       "            <th>name</th>\n",
       "        </tr>\n",
       "    </thead>\n",
       "    <tbody>\n",
       "        <tr>\n",
       "            <td>4.6</td>\n",
       "            <td>Vin Santo di Montepulciano</td>\n",
       "        </tr>\n",
       "        <tr>\n",
       "            <td>4.4</td>\n",
       "            <td>St. Henri Shiraz</td>\n",
       "        </tr>\n",
       "        <tr>\n",
       "            <td>4.4</td>\n",
       "            <td>Siepi</td>\n",
       "        </tr>\n",
       "        <tr>\n",
       "            <td>4.2</td>\n",
       "            <td>Solare Toscana</td>\n",
       "        </tr>\n",
       "        <tr>\n",
       "            <td>4.6</td>\n",
       "            <td>Tenuta Tignanello 'Solaia'</td>\n",
       "        </tr>\n",
       "        <tr>\n",
       "            <td>4.5</td>\n",
       "            <td>Tignanello</td>\n",
       "        </tr>\n",
       "        <tr>\n",
       "            <td>4.5</td>\n",
       "            <td>Tenuta Guado al Tasso Bolgheri Superiore</td>\n",
       "        </tr>\n",
       "        <tr>\n",
       "            <td>4.3</td>\n",
       "            <td>Pian delle Vigne Brunello di Montalcino</td>\n",
       "        </tr>\n",
       "        <tr>\n",
       "            <td>4.4</td>\n",
       "            <td>Castello della Sala Cervaro della Sala</td>\n",
       "        </tr>\n",
       "        <tr>\n",
       "            <td>4.3</td>\n",
       "            <td>Castello della Sala Muffato della Sala</td>\n",
       "        </tr>\n",
       "    </tbody>\n",
       "</table>\n",
       "<span style=\"font-style:italic;text-align:center;\">Truncated to <a href=\"https://jupysql.ploomber.io/en/latest/api/configuration.html#displaylimit\">displaylimit</a> of 10.</span>"
      ],
      "text/plain": [
       "+-----------------+------------------------------------------+\n",
       "| ratings_average |                   name                   |\n",
       "+-----------------+------------------------------------------+\n",
       "|       4.6       |        Vin Santo di Montepulciano        |\n",
       "|       4.4       |             St. Henri Shiraz             |\n",
       "|       4.4       |                  Siepi                   |\n",
       "|       4.2       |              Solare Toscana              |\n",
       "|       4.6       |        Tenuta Tignanello 'Solaia'        |\n",
       "|       4.5       |                Tignanello                |\n",
       "|       4.5       | Tenuta Guado al Tasso Bolgheri Superiore |\n",
       "|       4.3       | Pian delle Vigne Brunello di Montalcino  |\n",
       "|       4.4       |  Castello della Sala Cervaro della Sala  |\n",
       "|       4.3       |  Castello della Sala Muffato della Sala  |\n",
       "+-----------------+------------------------------------------+\n",
       "Truncated to displaylimit of 10."
      ]
     },
     "execution_count": 27,
     "metadata": {},
     "output_type": "execute_result"
    }
   ],
   "source": [
    "%%sql\n",
    "SELECT wines.ratings_average, wines.name\n",
    "FROM wines;"
   ]
  },
  {
   "cell_type": "code",
   "execution_count": 28,
   "metadata": {},
   "outputs": [
    {
     "data": {
      "text/html": [
       "<span style=\"None\">Running query in &#x27;sqlite:///../data/vivino.db&#x27;</span>"
      ],
      "text/plain": [
       "Running query in 'sqlite:///../data/vivino.db'"
      ]
     },
     "metadata": {},
     "output_type": "display_data"
    },
    {
     "data": {
      "text/html": [
       "<table>\n",
       "    <thead>\n",
       "        <tr>\n",
       "            <th>vintage_name</th>\n",
       "            <th>country</th>\n",
       "            <th>rank</th>\n",
       "        </tr>\n",
       "    </thead>\n",
       "    <tbody>\n",
       "        <tr>\n",
       "            <td>Pago de Carraovejas Tinto 2020</td>\n",
       "            <td>Espagne</td>\n",
       "            <td>1</td>\n",
       "        </tr>\n",
       "        <tr>\n",
       "            <td>Buena Vista Chateau Buena Vista Cabernet Sauvignon Napa Valley 2018</td>\n",
       "            <td>États-Unis</td>\n",
       "            <td>1</td>\n",
       "        </tr>\n",
       "        <tr>\n",
       "            <td>San Marzano 60 Sessantanni Old Vines Primitivo di Manduria 2018</td>\n",
       "            <td>Italie</td>\n",
       "            <td>1</td>\n",
       "        </tr>\n",
       "        <tr>\n",
       "            <td>Tommasi Amarone della Valpolicella Classico 2018</td>\n",
       "            <td>Espagne</td>\n",
       "            <td>1</td>\n",
       "        </tr>\n",
       "        <tr>\n",
       "            <td>Arzuaga Reserva Ribera del Duero 2018</td>\n",
       "            <td>Espagne</td>\n",
       "            <td>1</td>\n",
       "        </tr>\n",
       "        <tr>\n",
       "            <td>Château Pape Clément Pessac-Léognan (Grand Cru Classé de Graves) 2018</td>\n",
       "            <td>États-Unis</td>\n",
       "            <td>2</td>\n",
       "        </tr>\n",
       "        <tr>\n",
       "            <td>Dom Pérignon Brut Champagne 2013</td>\n",
       "            <td>États-Unis</td>\n",
       "            <td>3</td>\n",
       "        </tr>\n",
       "        <tr>\n",
       "            <td>San Marzano 60 Sessantanni Old Vines Primitivo di Manduria 2017</td>\n",
       "            <td>Allemagne</td>\n",
       "            <td>5</td>\n",
       "        </tr>\n",
       "        <tr>\n",
       "            <td>Tenuta Ulisse Limited Edition 10 Vendemmie</td>\n",
       "            <td>Italie</td>\n",
       "            <td>5</td>\n",
       "        </tr>\n",
       "        <tr>\n",
       "            <td>Alión Ribera del Duero 2019</td>\n",
       "            <td>Espagne</td>\n",
       "            <td>5</td>\n",
       "        </tr>\n",
       "    </tbody>\n",
       "</table>\n",
       "<span style=\"font-style:italic;text-align:center;\">Truncated to <a href=\"https://jupysql.ploomber.io/en/latest/api/configuration.html#displaylimit\">displaylimit</a> of 10.</span>"
      ],
      "text/plain": [
       "+-----------------------------------------------------------------------+------------+------+\n",
       "|                              vintage_name                             |  country   | rank |\n",
       "+-----------------------------------------------------------------------+------------+------+\n",
       "|                     Pago de Carraovejas Tinto 2020                    |  Espagne   |  1   |\n",
       "|  Buena Vista Chateau Buena Vista Cabernet Sauvignon Napa Valley 2018  | États-Unis |  1   |\n",
       "|    San Marzano 60 Sessantanni Old Vines Primitivo di Manduria 2018    |   Italie   |  1   |\n",
       "|            Tommasi Amarone della Valpolicella Classico 2018           |  Espagne   |  1   |\n",
       "|                 Arzuaga Reserva Ribera del Duero 2018                 |  Espagne   |  1   |\n",
       "| Château Pape Clément Pessac-Léognan (Grand Cru Classé de Graves) 2018 | États-Unis |  2   |\n",
       "|                    Dom Pérignon Brut Champagne 2013                   | États-Unis |  3   |\n",
       "|    San Marzano 60 Sessantanni Old Vines Primitivo di Manduria 2017    | Allemagne  |  5   |\n",
       "|               Tenuta Ulisse Limited Edition 10 Vendemmie              |   Italie   |  5   |\n",
       "|                      Alión Ribera del Duero 2019                      |  Espagne   |  5   |\n",
       "+-----------------------------------------------------------------------+------------+------+\n",
       "Truncated to displaylimit of 10."
      ]
     },
     "execution_count": 28,
     "metadata": {},
     "output_type": "execute_result"
    }
   ],
   "source": [
    "%%sql\n",
    "SELECT\n",
    "    vintages.name as vintage_name,\n",
    "    countries.name as country,\n",
    "    vintage_toplists_rankings.rank\n",
    "FROM\n",
    "    vintage_toplists_rankings\n",
    "    JOIN toplists ON vintage_toplists_rankings.top_list_id = toplists.id\n",
    "    JOIN vintages ON vintage_toplists_rankings.vintage_id = vintages.id\n",
    "    JOIN countries ON toplists.country_code = countries.code\n",
    "GROUP BY\n",
    "    vintage_toplists_rankings.id\n",
    "ORDER BY\n",
    "    vintage_toplists_rankings.rank;\n",
    "    "
   ]
  },
  {
   "cell_type": "code",
   "execution_count": 29,
   "metadata": {},
   "outputs": [
    {
     "data": {
      "text/html": [
       "<span style=\"None\">Running query in &#x27;sqlite:///../data/vivino.db&#x27;</span>"
      ],
      "text/plain": [
       "Running query in 'sqlite:///../data/vivino.db'"
      ]
     },
     "metadata": {},
     "output_type": "display_data"
    },
    {
     "data": {
      "text/html": [
       "<table>\n",
       "    <thead>\n",
       "        <tr>\n",
       "            <th>wine_id</th>\n",
       "        </tr>\n",
       "    </thead>\n",
       "    <tbody>\n",
       "        <tr>\n",
       "            <td>1690</td>\n",
       "        </tr>\n",
       "        <tr>\n",
       "            <td>1868</td>\n",
       "        </tr>\n",
       "        <tr>\n",
       "            <td>4086</td>\n",
       "        </tr>\n",
       "        <tr>\n",
       "            <td>5078</td>\n",
       "        </tr>\n",
       "        <tr>\n",
       "            <td>9220</td>\n",
       "        </tr>\n",
       "        <tr>\n",
       "            <td>9710</td>\n",
       "        </tr>\n",
       "        <tr>\n",
       "            <td>11604</td>\n",
       "        </tr>\n",
       "        <tr>\n",
       "            <td>11733</td>\n",
       "        </tr>\n",
       "        <tr>\n",
       "            <td>11890</td>\n",
       "        </tr>\n",
       "        <tr>\n",
       "            <td>12263</td>\n",
       "        </tr>\n",
       "    </tbody>\n",
       "</table>\n",
       "<span style=\"font-style:italic;text-align:center;\">Truncated to <a href=\"https://jupysql.ploomber.io/en/latest/api/configuration.html#displaylimit\">displaylimit</a> of 10.</span>"
      ],
      "text/plain": [
       "+---------+\n",
       "| wine_id |\n",
       "+---------+\n",
       "|   1690  |\n",
       "|   1868  |\n",
       "|   4086  |\n",
       "|   5078  |\n",
       "|   9220  |\n",
       "|   9710  |\n",
       "|  11604  |\n",
       "|  11733  |\n",
       "|  11890  |\n",
       "|  12263  |\n",
       "+---------+\n",
       "Truncated to displaylimit of 10."
      ]
     },
     "execution_count": 29,
     "metadata": {},
     "output_type": "execute_result"
    }
   ],
   "source": [
    "%%sql\n",
    "SELECT DISTINCT wine_id\n",
    "FROM keywords_wine;"
   ]
  },
  {
   "cell_type": "code",
   "execution_count": 30,
   "metadata": {},
   "outputs": [
    {
     "data": {
      "text/html": [
       "<span style=\"None\">Running query in &#x27;sqlite:///../data/vivino.db&#x27;</span>"
      ],
      "text/plain": [
       "Running query in 'sqlite:///../data/vivino.db'"
      ]
     },
     "metadata": {},
     "output_type": "display_data"
    },
    {
     "data": {
      "text/html": [
       "<table>\n",
       "    <thead>\n",
       "        <tr>\n",
       "            <th>ratings_average</th>\n",
       "            <th>ratings_count</th>\n",
       "            <th>name</th>\n",
       "            <th>price_euros</th>\n",
       "        </tr>\n",
       "    </thead>\n",
       "    <tbody>\n",
       "        <tr>\n",
       "            <td>4.5</td>\n",
       "            <td>32</td>\n",
       "            <td>Cignomoro Primitivo di Manduria 2021</td>\n",
       "            <td>18.75</td>\n",
       "        </tr>\n",
       "        <tr>\n",
       "            <td>4.4</td>\n",
       "            <td>143</td>\n",
       "            <td>Château Voigny Sauternes 2019</td>\n",
       "            <td>13.95</td>\n",
       "        </tr>\n",
       "        <tr>\n",
       "            <td>0.0</td>\n",
       "            <td>6</td>\n",
       "            <td>Varvaglione Paralupi Appassimento 2021</td>\n",
       "            <td>13.88</td>\n",
       "        </tr>\n",
       "        <tr>\n",
       "            <td>0.0</td>\n",
       "            <td>6</td>\n",
       "            <td>Nic Tartaglia Trebbiano d'Abruzzo 2022</td>\n",
       "            <td>13.333333333333334</td>\n",
       "        </tr>\n",
       "    </tbody>\n",
       "</table>"
      ],
      "text/plain": [
       "+-----------------+---------------+----------------------------------------+--------------------+\n",
       "| ratings_average | ratings_count |                  name                  |    price_euros     |\n",
       "+-----------------+---------------+----------------------------------------+--------------------+\n",
       "|       4.5       |       32      |  Cignomoro Primitivo di Manduria 2021  |       18.75        |\n",
       "|       4.4       |      143      |     Château Voigny Sauternes 2019      |       13.95        |\n",
       "|       0.0       |       6       | Varvaglione Paralupi Appassimento 2021 |       13.88        |\n",
       "|       0.0       |       6       | Nic Tartaglia Trebbiano d'Abruzzo 2022 | 13.333333333333334 |\n",
       "+-----------------+---------------+----------------------------------------+--------------------+"
      ]
     },
     "execution_count": 30,
     "metadata": {},
     "output_type": "execute_result"
    }
   ],
   "source": [
    "%%sql\n",
    "SELECT\n",
    "    vintages.ratings_average,\n",
    "    vintages.ratings_count,\n",
    "    vintages.name,\n",
    "    vintages.price_euros\n",
    "FROM\n",
    "    vintages\n",
    "WHERE\n",
    "    vintages.price_euros < 20\n",
    "ORDER BY\n",
    "    vintages.ratings_average DESC,\n",
    "    vintages.ratings_count DESC\n",
    ";"
   ]
  },
  {
   "cell_type": "markdown",
   "metadata": {},
   "source": [
    "This code will return the database details for every tabel and column details"
   ]
  },
  {
   "cell_type": "code",
   "execution_count": null,
   "metadata": {},
   "outputs": [
    {
     "name": "stdout",
     "output_type": "stream",
     "text": [
      "Table: countries\n",
      "- code (VARCHAR)\n",
      "- name (VARCHAR)\n",
      "- regions_count (INTEGER)\n",
      "- users_count (INTEGER)\n",
      "- wines_count (INTEGER)\n",
      "- wineries_count (INTEGER)\n",
      "\n",
      "Table: grapes\n",
      "- id (INTEGER)\n",
      "- name (VARCHAR)\n",
      "\n",
      "Table: wineries\n",
      "- id (INTEGER)\n",
      "- name (VARCHAR)\n",
      "\n",
      "Table: flavor_groups\n",
      "- name (VARCHAR)\n",
      "\n",
      "Table: keywords\n",
      "- id (INTEGER)\n",
      "- name (VARCHAR)\n",
      "\n",
      "Table: regions\n",
      "- id (INTEGER)\n",
      "- name (VARCHAR)\n",
      "- country_code (VARCHAR)\n",
      "\n",
      "Table: most_used_grapes_per_country\n",
      "- id (INTEGER)\n",
      "- country_code (VARCHAR)\n",
      "- grape_id (INTEGER)\n",
      "- wines_count (INTEGER)\n",
      "\n",
      "Table: toplists\n",
      "- id (INTEGER)\n",
      "- name (VARCHAR(255))\n",
      "- country_code (VARCHAR)\n",
      "\n",
      "Table: wines\n",
      "- id (INTEGER)\n",
      "- name (VARCHAR)\n",
      "- is_natural (BOOLEAN)\n",
      "- region_id (INTEGER)\n",
      "- winery_id (INTEGER)\n",
      "- ratings_average (FLOAT)\n",
      "- ratings_count (INTEGER)\n",
      "- url (VARCHAR)\n",
      "- acidity (FLOAT)\n",
      "- fizziness (FLOAT)\n",
      "- intensity (FLOAT)\n",
      "- sweetness (FLOAT)\n",
      "- tannin (FLOAT)\n",
      "- user_structure_count (INTEGER)\n",
      "\n",
      "Table: vintages\n",
      "- id (INTEGER)\n",
      "- name (VARCHAR)\n",
      "- wine_id (INTEGER)\n",
      "- ratings_average (FLOAT)\n",
      "- ratings_count (INTEGER)\n",
      "- year (INTEGER)\n",
      "- price_euros (FLOAT)\n",
      "- price_discounted_from (FLOAT)\n",
      "- price_discount_percentage (FLOAT)\n",
      "- bottle_volume_ml (INTEGER)\n",
      "\n",
      "Table: keywords_wine\n",
      "- keyword_id (INTEGER)\n",
      "- wine_id (INTEGER)\n",
      "- group_name (VARCHAR)\n",
      "- keyword_type (VARCHAR)\n",
      "- count (INTEGER)\n",
      "\n",
      "Table: vintage_toplists_rankings\n",
      "- id (INTEGER)\n",
      "- top_list_id (INTEGER)\n",
      "- vintage_id (INTEGER)\n",
      "- rank (INTEGER)\n",
      "- previous_rank (INTEGER)\n",
      "\n"
     ]
    }
   ],
   "source": [
    "import sqlite3\n",
    "\n",
    "\n",
    "# Connect to the SQLite database\n",
    "conn = sqlite3.connect(r'C:\\Users\\samve\\OneDrive\\0BeCode\\repos\\wine_market_analysis\\data\\vivino.db')\n",
    "cursor = conn.cursor()\n",
    "\n",
    "# Get the list of tables in the database\n",
    "cursor.execute(\"SELECT name FROM sqlite_master WHERE type='table';\")\n",
    "tables = cursor.fetchall()\n",
    "\n",
    "# Loop through the tables and retrieve column information\n",
    "for table in tables:\n",
    "    table_name = table[0]\n",
    "    print(f\"Table: {table_name}\")\n",
    "\n",
    "    # Get column information for the current table\n",
    "    cursor.execute(f\"PRAGMA table_info({table_name});\")\n",
    "    columns = cursor.fetchall()\n",
    "\n",
    "    for column in columns:\n",
    "        column_name = column[1]\n",
    "        data_type = column[2]\n",
    "        print(f\"- {column_name} ({data_type})\")\n",
    "\n",
    "    print()\n",
    "\n",
    "# Close the database connection\n",
    "conn.close()\n"
   ]
  },
  {
   "cell_type": "markdown",
   "metadata": {},
   "source": [
    "This code will return the database foreign keys details "
   ]
  },
  {
   "cell_type": "code",
   "execution_count": null,
   "metadata": {},
   "outputs": [
    {
     "name": "stdout",
     "output_type": "stream",
     "text": [
      "Table: countries\n",
      "\n",
      "Table: grapes\n",
      "\n",
      "Table: wineries\n",
      "\n",
      "Table: flavor_groups\n",
      "\n",
      "Table: keywords\n",
      "\n",
      "Table: regions\n",
      "Foreign Key: country_code REFERENCES countries(code)\n",
      "\n",
      "Table: most_used_grapes_per_country\n",
      "Foreign Key: grape_id REFERENCES grapes(id)\n",
      "Foreign Key: country_code REFERENCES countries(code)\n",
      "\n",
      "Table: toplists\n",
      "Foreign Key: country_code REFERENCES countries(code)\n",
      "\n",
      "Table: wines\n",
      "Foreign Key: winery_id REFERENCES wineries(id)\n",
      "Foreign Key: region_id REFERENCES regions(id)\n",
      "\n",
      "Table: vintages\n",
      "Foreign Key: wine_id REFERENCES wines(id)\n",
      "\n",
      "Table: keywords_wine\n",
      "Foreign Key: wine_id REFERENCES wines(id)\n",
      "Foreign Key: keyword_id REFERENCES keywords(id)\n",
      "\n",
      "Table: vintage_toplists_rankings\n",
      "Foreign Key: vintage_id REFERENCES vintages(id)\n",
      "Foreign Key: top_list_id REFERENCES toplists(id)\n",
      "\n"
     ]
    }
   ],
   "source": [
    "import sqlite3\n",
    "\n",
    "# Connect to the SQLite database\n",
    "conn = sqlite3.connect(r'C:\\Users\\samve\\OneDrive\\0BeCode\\repos\\wine_market_analysis\\data\\vivino.db')\n",
    "cursor = conn.cursor()\n",
    "\n",
    "# Get a list of tables in the database\n",
    "cursor.execute(\"SELECT name FROM sqlite_master WHERE type='table';\")\n",
    "tables = cursor.fetchall()\n",
    "\n",
    "# Loop through the tables and retrieve foreign key information\n",
    "for table in tables:\n",
    "    table_name = table[0]\n",
    "    print(f\"Table: {table_name}\")\n",
    "\n",
    "    # Get foreign key information for the current table\n",
    "    cursor.execute(f\"PRAGMA foreign_key_list({table_name});\")\n",
    "    foreign_keys = cursor.fetchall()\n",
    "\n",
    "    for foreign_key in foreign_keys:\n",
    "        from_column = foreign_key[3]\n",
    "        to_table = foreign_key[2]\n",
    "        to_column = foreign_key[4]\n",
    "        print(f\"Foreign Key: {from_column} REFERENCES {to_table}({to_column})\")\n",
    "\n",
    "    print()\n",
    "\n",
    "# Close the database connection\n",
    "conn.close()\n"
   ]
  },
  {
   "cell_type": "code",
   "execution_count": 68,
   "metadata": {},
   "outputs": [
    {
     "data": {
      "application/vnd.plotly.v1+json": {
       "config": {
        "plotlyServerURL": "https://plot.ly"
       },
       "data": [
        {
         "hovertemplate": "<b>%{hovertext}</b><br><br>ratings_average=%{x}<br>ratings_count=%{y}<br>price_euros=%{marker.color}<extra></extra>",
         "hovertext": [
          "Puglia Pop Triglia Negroamaro Rosato 2022",
          "Quinta do Paral Vinhas Velhas Tinto 2019",
          "Vigneti del Salento Vigne Vecchie Gold Series Leggenda Primitivo di Manduria 2019",
          "Cignomoro 6 Anime Puglia Rosso 2021",
          "Puglia Pop Luminaria Primitivo di Manduria 2021",
          "Rutini Malbec 2019",
          "Guerrieri Guerriero della Terra 2019",
          "San Marzano 60 Sessantanni Old Vines Primitivo di Manduria 2018",
          "El Principal Memorias 2018",
          "Casa Ferreirinha Quinta da Leda Douro 2019",
          "Casa Ermelinda Freitas Dona Ermelinda Grande Reserva 2017",
          "Waterford Estate Kevin Arnold Shiraz 2016",
          "Taaibosch Estate Crescendo 2019",
          "Luccarelli Il Bacca Old Vine Primitivo di Manduria 2019",
          "Luccarelli Old Vines Primitivo di Manduria 2019",
          "Farnese Cinque Autoctoni Collection Limited Release 2020",
          "Von Siebenthal Carabantes Syrah 2020",
          "Cignomoro 50 Old Vines Vecchie Vigne Negroamaro 2019",
          "Guerrieri Guerriero della Terra 2020",
          "Gitana Saperavi 2020",
          "Mas Belles Eaux Carmin 2020",
          "Guerrieri Guerriero del Mare 2021"
         ],
         "legendgroup": "",
         "marker": {
          "color": [
           22.95,
           29.95,
           23.95,
           27.3,
           24.95,
           25.99,
           27.4,
           24.75,
           29.95,
           30,
           29.95,
           26.9,
           29.95,
           27.75,
           20.95,
           23.9,
           27.98,
           28.45,
           25.95,
           29.29,
           29.45,
           27.95
          ],
          "coloraxis": "coloraxis",
          "size": [
           22.95,
           29.95,
           23.95,
           27.3,
           24.95,
           25.99,
           27.4,
           24.75,
           29.95,
           30,
           29.95,
           26.9,
           29.95,
           27.75,
           20.95,
           23.9,
           27.98,
           28.45,
           25.95,
           29.29,
           29.45,
           27.95
          ],
          "sizemode": "area",
          "sizeref": 0.075,
          "symbol": "circle"
         },
         "mode": "markers",
         "name": "",
         "orientation": "v",
         "showlegend": false,
         "type": "scatter",
         "x": [
          4.7,
          4.6,
          4.5,
          4.5,
          4.5,
          4.4,
          4.4,
          4.4,
          4.4,
          4.4,
          4.4,
          4.4,
          4.4,
          4.4,
          4.4,
          4.4,
          4.4,
          4.4,
          4.4,
          0,
          0,
          0
         ],
         "xaxis": "x",
         "y": [
          25,
          181,
          424,
          140,
          71,
          2567,
          1803,
          1748,
          804,
          536,
          483,
          466,
          301,
          276,
          274,
          255,
          227,
          200,
          182,
          22,
          16,
          15
         ],
         "yaxis": "y"
        }
       ],
       "layout": {
        "coloraxis": {
         "colorbar": {
          "title": {
           "text": "price_euros"
          }
         },
         "colorscale": [
          [
           0,
           "#000011"
          ],
          [
           0.1111111111111111,
           "#000012"
          ],
          [
           0.2222222222222222,
           "#000013"
          ],
          [
           0.3333333333333333,
           "#000014"
          ],
          [
           0.4444444444444444,
           "#000015"
          ],
          [
           0.5555555555555556,
           "#000016"
          ],
          [
           0.6666666666666666,
           "#000017"
          ],
          [
           0.7777777777777778,
           "#000018"
          ],
          [
           0.8888888888888888,
           "#000019"
          ],
          [
           1,
           "#000020"
          ]
         ]
        },
        "legend": {
         "itemsizing": "constant",
         "tracegroupgap": 0
        },
        "template": {
         "data": {
          "candlestick": [
           {
            "decreasing": {
             "line": {
              "color": "#000033"
             }
            },
            "increasing": {
             "line": {
              "color": "#000032"
             }
            },
            "type": "candlestick"
           }
          ],
          "contour": [
           {
            "colorscale": [
             [
              0,
              "#000011"
             ],
             [
              0.1111111111111111,
              "#000012"
             ],
             [
              0.2222222222222222,
              "#000013"
             ],
             [
              0.3333333333333333,
              "#000014"
             ],
             [
              0.4444444444444444,
              "#000015"
             ],
             [
              0.5555555555555556,
              "#000016"
             ],
             [
              0.6666666666666666,
              "#000017"
             ],
             [
              0.7777777777777778,
              "#000018"
             ],
             [
              0.8888888888888888,
              "#000019"
             ],
             [
              1,
              "#000020"
             ]
            ],
            "type": "contour"
           }
          ],
          "contourcarpet": [
           {
            "colorscale": [
             [
              0,
              "#000011"
             ],
             [
              0.1111111111111111,
              "#000012"
             ],
             [
              0.2222222222222222,
              "#000013"
             ],
             [
              0.3333333333333333,
              "#000014"
             ],
             [
              0.4444444444444444,
              "#000015"
             ],
             [
              0.5555555555555556,
              "#000016"
             ],
             [
              0.6666666666666666,
              "#000017"
             ],
             [
              0.7777777777777778,
              "#000018"
             ],
             [
              0.8888888888888888,
              "#000019"
             ],
             [
              1,
              "#000020"
             ]
            ],
            "type": "contourcarpet"
           }
          ],
          "heatmap": [
           {
            "colorscale": [
             [
              0,
              "#000011"
             ],
             [
              0.1111111111111111,
              "#000012"
             ],
             [
              0.2222222222222222,
              "#000013"
             ],
             [
              0.3333333333333333,
              "#000014"
             ],
             [
              0.4444444444444444,
              "#000015"
             ],
             [
              0.5555555555555556,
              "#000016"
             ],
             [
              0.6666666666666666,
              "#000017"
             ],
             [
              0.7777777777777778,
              "#000018"
             ],
             [
              0.8888888888888888,
              "#000019"
             ],
             [
              1,
              "#000020"
             ]
            ],
            "type": "heatmap"
           }
          ],
          "histogram2d": [
           {
            "colorscale": [
             [
              0,
              "#000011"
             ],
             [
              0.1111111111111111,
              "#000012"
             ],
             [
              0.2222222222222222,
              "#000013"
             ],
             [
              0.3333333333333333,
              "#000014"
             ],
             [
              0.4444444444444444,
              "#000015"
             ],
             [
              0.5555555555555556,
              "#000016"
             ],
             [
              0.6666666666666666,
              "#000017"
             ],
             [
              0.7777777777777778,
              "#000018"
             ],
             [
              0.8888888888888888,
              "#000019"
             ],
             [
              1,
              "#000020"
             ]
            ],
            "type": "histogram2d"
           }
          ],
          "icicle": [
           {
            "textfont": {
             "color": "white"
            },
            "type": "icicle"
           }
          ],
          "sankey": [
           {
            "textfont": {
             "color": "#000036"
            },
            "type": "sankey"
           }
          ],
          "scatter": [
           {
            "marker": {
             "line": {
              "width": 0
             }
            },
            "type": "scatter"
           }
          ],
          "table": [
           {
            "cells": {
             "fill": {
              "color": "#000038"
             },
             "font": {
              "color": "#000037"
             },
             "line": {
              "color": "#000039"
             }
            },
            "header": {
             "fill": {
              "color": "#000040"
             },
             "font": {
              "color": "#000036"
             },
             "line": {
              "color": "#000039"
             }
            },
            "type": "table"
           }
          ],
          "waterfall": [
           {
            "connector": {
             "line": {
              "color": "#000036",
              "width": 2
             }
            },
            "decreasing": {
             "marker": {
              "color": "#000033"
             }
            },
            "increasing": {
             "marker": {
              "color": "#000032"
             }
            },
            "totals": {
             "marker": {
              "color": "#000034"
             }
            },
            "type": "waterfall"
           }
          ]
         },
         "layout": {
          "coloraxis": {
           "colorscale": [
            [
             0,
             "#000011"
            ],
            [
             0.1111111111111111,
             "#000012"
            ],
            [
             0.2222222222222222,
             "#000013"
            ],
            [
             0.3333333333333333,
             "#000014"
            ],
            [
             0.4444444444444444,
             "#000015"
            ],
            [
             0.5555555555555556,
             "#000016"
            ],
            [
             0.6666666666666666,
             "#000017"
            ],
            [
             0.7777777777777778,
             "#000018"
            ],
            [
             0.8888888888888888,
             "#000019"
            ],
            [
             1,
             "#000020"
            ]
           ]
          },
          "colorscale": {
           "diverging": [
            [
             0,
             "#000021"
            ],
            [
             0.1,
             "#000022"
            ],
            [
             0.2,
             "#000023"
            ],
            [
             0.3,
             "#000024"
            ],
            [
             0.4,
             "#000025"
            ],
            [
             0.5,
             "#000026"
            ],
            [
             0.6,
             "#000027"
            ],
            [
             0.7,
             "#000028"
            ],
            [
             0.8,
             "#000029"
            ],
            [
             0.9,
             "#000030"
            ],
            [
             1,
             "#000031"
            ]
           ],
           "sequential": [
            [
             0,
             "#000011"
            ],
            [
             0.1111111111111111,
             "#000012"
            ],
            [
             0.2222222222222222,
             "#000013"
            ],
            [
             0.3333333333333333,
             "#000014"
            ],
            [
             0.4444444444444444,
             "#000015"
            ],
            [
             0.5555555555555556,
             "#000016"
            ],
            [
             0.6666666666666666,
             "#000017"
            ],
            [
             0.7777777777777778,
             "#000018"
            ],
            [
             0.8888888888888888,
             "#000019"
            ],
            [
             1,
             "#000020"
            ]
           ],
           "sequentialminus": [
            [
             0,
             "#000011"
            ],
            [
             0.1111111111111111,
             "#000012"
            ],
            [
             0.2222222222222222,
             "#000013"
            ],
            [
             0.3333333333333333,
             "#000014"
            ],
            [
             0.4444444444444444,
             "#000015"
            ],
            [
             0.5555555555555556,
             "#000016"
            ],
            [
             0.6666666666666666,
             "#000017"
            ],
            [
             0.7777777777777778,
             "#000018"
            ],
            [
             0.8888888888888888,
             "#000019"
            ],
            [
             1,
             "#000020"
            ]
           ]
          },
          "colorway": [
           "#000001",
           "#000002",
           "#000003",
           "#000004",
           "#000005",
           "#000006",
           "#000007",
           "#000008",
           "#000009",
           "#000010"
          ]
         }
        },
        "title": {
         "text": "Wine Ratings"
        },
        "xaxis": {
         "anchor": "y",
         "domain": [
          0,
          1
         ],
         "title": {
          "text": "ratings_average"
         }
        },
        "yaxis": {
         "anchor": "x",
         "domain": [
          0,
          1
         ],
         "title": {
          "text": "ratings_count"
         }
        }
       }
      }
     },
     "metadata": {},
     "output_type": "display_data"
    }
   ],
   "source": [
    "import sqlite3\n",
    "import pandas as pd\n",
    "import plotly.express as px\n",
    "import streamlit as st\n",
    "# Connect to SQLite database\n",
    "conn = sqlite3.connect('../data/vivino.db')\n",
    "# Create a cursor object\n",
    "cur = conn.cursor()\n",
    "cur.execute(\"\"\"\n",
    "    SELECT\n",
    "        vintages.ratings_average,\n",
    "        vintages.ratings_count,\n",
    "        vintages.name,\n",
    "        vintages.price_euros\n",
    "    FROM\n",
    "        vintages\n",
    "    WHERE\n",
    "        vintages.price_euros BETWEEN 20 AND 30\n",
    "    ORDER BY\n",
    "        vintages.ratings_average DESC,\n",
    "        vintages.ratings_count DESC;\n",
    "            \"\"\")\n",
    "# Fetch the query result\n",
    "query_result = cur.fetchall()\n",
    "\n",
    "# Create a DataFrame from the query result\n",
    "df = pd.DataFrame(query_result, columns=['ratings_average', 'ratings_count', 'name', 'price_euros'])\n",
    "\n",
    "# Close the database connection\n",
    "conn.close()\n",
    "\n",
    "# Create a scatter plot using Plotly Express\n",
    "scatter_plot = px.scatter(df, x='ratings_average', y='ratings_count', \n",
    "                          color='price_euros', size='price_euros',\n",
    "                          hover_name='name', title='Wine Ratings')\n",
    "scatter_plot.show()\n",
    "#st.plotly_chart(scatter_plot)"
   ]
  },
  {
   "cell_type": "code",
   "execution_count": 67,
   "metadata": {},
   "outputs": [],
   "source": [
    "import plotly.express as px\n",
    "\n",
    "px.defaults.color_discrete_sequence = px.colors.qualitative.Set2  # Set the color palette\n"
   ]
  },
  {
   "cell_type": "markdown",
   "metadata": {},
   "source": [
    "This query only selects vintages if they are in the bestseller toplist ranking"
   ]
  },
  {
   "cell_type": "code",
   "execution_count": 85,
   "metadata": {},
   "outputs": [
    {
     "name": "stdout",
     "output_type": "stream",
     "text": [
      "                                    award_name  \\\n",
      "0                       Bestsellers in Arizona   \n",
      "1                       Bestsellers in Arizona   \n",
      "2             Bestsellers in Asturias (Oviedo)   \n",
      "3                       Bestsellers in Badajoz   \n",
      "4   Bestsellers in Balearic Islands (Baleares)   \n",
      "5              Bestsellers in British Columbia   \n",
      "6                        Bestsellers in Burgos   \n",
      "7                       Bestsellers in Córdoba   \n",
      "8                       Bestsellers in Córdoba   \n",
      "9                       Bestsellers in Germany   \n",
      "10         Bestsellers in Gipuzkoa (Guipúzcoa)   \n",
      "11              Bestsellers in Girona (Gerona)   \n",
      "12                    Bestsellers in Hong Kong   \n",
      "13                      Bestsellers in Ireland   \n",
      "14                        Bestsellers in Italy   \n",
      "15                        Bestsellers in Italy   \n",
      "16                        Bestsellers in Japan   \n",
      "17                       Bestsellers in Lisboa   \n",
      "18                Bestsellers in Massachusetts   \n",
      "19                       Bestsellers in Monaco   \n",
      "20                       Bestsellers in Monaco   \n",
      "21                      Bestsellers in Montana   \n",
      "22                       Bestsellers in Málaga   \n",
      "23                       Bestsellers in Nevada   \n",
      "24                Bestsellers in New Brunswick   \n",
      "25                   Bestsellers in New Mexico   \n",
      "26    Bestsellers in Newfoundland and Labrador   \n",
      "27                 Bestsellers in North Dakota   \n",
      "28                      Bestsellers in Ontario   \n",
      "29                     Bestsellers in Portugal   \n",
      "30                    Bestsellers in Salamanca   \n",
      "31                      Bestsellers in Setúbal   \n",
      "32                      Bestsellers in Setúbal   \n",
      "33            Bestsellers in Seville (Sevilla)   \n",
      "34                    Bestsellers in Singapore   \n",
      "35                    Bestsellers in Singapore   \n",
      "36                  Bestsellers in Switzerland   \n",
      "37                  Bestsellers in Switzerland   \n",
      "38                    Bestsellers in Tennessee   \n",
      "39               Bestsellers in United Kingdom   \n",
      "40                         Bestsellers in Utah   \n",
      "41                   Bestsellers in Valladolid   \n",
      "42                        Bestsellers in Viseu   \n",
      "43                      Bestsellers in Wyoming   \n",
      "44                        Bestsellers in Yukon   \n",
      "45                       Bestsellers in Zamora   \n",
      "\n",
      "                                         vintage_name  rank  price_euros  \n",
      "0                            Gitana Lupi Rezerva 2017     6        36.55  \n",
      "1                Billecart-Salmon Brut Rosé Champagne     5        81.50  \n",
      "2                         Alión Ribera del Duero 2019    16        81.64  \n",
      "3                      Pago de Carraovejas Tinto 2020    12        42.95  \n",
      "4   Benjamin de Rothschild - Vega Sicilia Macán Cl...     5        56.00  \n",
      "5    Tommasi Amarone della Valpolicella Classico 2018    17        49.80  \n",
      "6                      Pago de Carraovejas Tinto 2020    15        42.95  \n",
      "7               Arzuaga Reserva Ribera del Duero 2018    20        39.55  \n",
      "8                          Milsetentayseis Tinto 2019     1        64.95  \n",
      "9   San Marzano 60 Sessantanni Old Vines Primitivo...    16        63.95  \n",
      "10  Antinori Castello della Sala Cervaro della Sal...     2        88.00  \n",
      "11                          Ausàs Interpretación 2020     1        50.19  \n",
      "12         Tenuta Ulisse Limited Edition 10 Vendemmie     6        34.20  \n",
      "13                           Gitana Lupi Rezerva 2017    19        36.55  \n",
      "14  San Marzano 60 Sessantanni Old Vines Primitivo...    20        24.75  \n",
      "15         Tenuta Ulisse Limited Edition 10 Vendemmie    16        34.20  \n",
      "16  San Marzano 60 Sessantanni Old Vines Primitivo...    15        63.95  \n",
      "17  Casa Ermelinda Freitas Dona Ermelinda Grande R...    14        29.95  \n",
      "18  San Marzano 60 Sessantanni Old Vines Primitivo...     4        24.75  \n",
      "19         de Ladoucette Baron de L Pouilly-Fumé 2019    15        97.95  \n",
      "20  Château Pontet-Canet Pauillac (Grand Cru Class...     7       119.00  \n",
      "21                  Chateau Montelena Chardonnay 2019     3        78.95  \n",
      "22                     Pago de Carraovejas Tinto 2020    20        42.95  \n",
      "23    Zenato Amarone della Valpolicella Classico 2017     6        51.90  \n",
      "24                Catena Zapata Malbec Argentino 2020    16        89.95  \n",
      "25  Château Pape Clément Pessac-Léognan (Grand Cru...    19       121.95  \n",
      "26                Catena Zapata Malbec Argentino 2020     6        89.95  \n",
      "27  San Marzano 60 Sessantanni Old Vines Primitivo...     2        24.75  \n",
      "28          Viña Cobos Bramare Malbec Uco Valley 2019     9        60.20  \n",
      "29  Casa Ermelinda Freitas Dona Ermelinda Grande R...    13        29.95  \n",
      "30   Tommasi Amarone della Valpolicella Classico 2018    20        49.80  \n",
      "31          Laurent-Perrier Brut Cuvée Champagne Rosé    15        72.00  \n",
      "32  Casa Ermelinda Freitas Dona Ermelinda Grande R...    12        29.95  \n",
      "33                                   Pintia Toro 2018     7        67.16  \n",
      "34               Guerrieri Guerriero della Terra 2019    20        27.40  \n",
      "35         Tenuta Ulisse Limited Edition 10 Vendemmie    11        34.20  \n",
      "36  San Marzano 60 Sessantanni Old Vines Primitivo...     7        63.95  \n",
      "37  Masi Costasera Amarone della Valpolicella Clas...     1       201.25  \n",
      "38                   Dom Pérignon Brut Champagne 2013    18       250.00  \n",
      "39  Antinori Castello della Sala Cervaro della Sal...    13       130.00  \n",
      "40  Buena Vista Chateau Buena Vista Cabernet Sauvi...    20        61.95  \n",
      "41                         Emilio Moro Malleolus 2020     3        35.95  \n",
      "42  Casa Ermelinda Freitas Dona Ermelinda Grande R...    13        29.95  \n",
      "43                        Kistler Les Noisetiers 2020     2        94.00  \n",
      "44    Zenato Amarone della Valpolicella Classico 2017    18        51.90  \n",
      "45                          Ausàs Interpretación 2020    11        50.19  \n"
     ]
    },
    {
     "data": {
      "application/vnd.plotly.v1+json": {
       "config": {
        "linkText": "Export to plot.ly",
        "plotlyServerURL": "https://plot.ly",
        "showLink": false
       },
       "data": [
        {
         "hovertemplate": "<b>%{hovertext}</b><br><br>vintage_name=Gitana Lupi Rezerva 2017<br>award_name=%{x}<br>rank=%{y}<br>price_euros=%{marker.size}<extra></extra>",
         "hovertext": [
          "Gitana Lupi Rezerva 2017",
          "Gitana Lupi Rezerva 2017"
         ],
         "legendgroup": "Gitana Lupi Rezerva 2017",
         "marker": {
          "color": "rgb(102,194,165)",
          "size": [
           36.55,
           36.55
          ],
          "sizemode": "area",
          "sizeref": 0.625,
          "symbol": "circle"
         },
         "mode": "markers",
         "name": "Gitana Lupi Rezerva 2017",
         "orientation": "v",
         "showlegend": true,
         "type": "scatter",
         "x": [
          "Bestsellers in Arizona",
          "Bestsellers in Ireland"
         ],
         "xaxis": "x",
         "y": [
          6,
          19
         ],
         "yaxis": "y"
        },
        {
         "hovertemplate": "<b>%{hovertext}</b><br><br>vintage_name=Billecart-Salmon Brut Rosé Champagne<br>award_name=%{x}<br>rank=%{y}<br>price_euros=%{marker.size}<extra></extra>",
         "hovertext": [
          "Billecart-Salmon Brut Rosé Champagne"
         ],
         "legendgroup": "Billecart-Salmon Brut Rosé Champagne",
         "marker": {
          "color": "rgb(252,141,98)",
          "size": [
           81.5
          ],
          "sizemode": "area",
          "sizeref": 0.625,
          "symbol": "circle"
         },
         "mode": "markers",
         "name": "Billecart-Salmon Brut Rosé Champagne",
         "orientation": "v",
         "showlegend": true,
         "type": "scatter",
         "x": [
          "Bestsellers in Arizona"
         ],
         "xaxis": "x",
         "y": [
          5
         ],
         "yaxis": "y"
        },
        {
         "hovertemplate": "<b>%{hovertext}</b><br><br>vintage_name=Alión Ribera del Duero 2019<br>award_name=%{x}<br>rank=%{y}<br>price_euros=%{marker.size}<extra></extra>",
         "hovertext": [
          "Alión Ribera del Duero 2019"
         ],
         "legendgroup": "Alión Ribera del Duero 2019",
         "marker": {
          "color": "rgb(141,160,203)",
          "size": [
           81.64
          ],
          "sizemode": "area",
          "sizeref": 0.625,
          "symbol": "circle"
         },
         "mode": "markers",
         "name": "Alión Ribera del Duero 2019",
         "orientation": "v",
         "showlegend": true,
         "type": "scatter",
         "x": [
          "Bestsellers in Asturias (Oviedo)"
         ],
         "xaxis": "x",
         "y": [
          16
         ],
         "yaxis": "y"
        },
        {
         "hovertemplate": "<b>%{hovertext}</b><br><br>vintage_name=Pago de Carraovejas Tinto 2020<br>award_name=%{x}<br>rank=%{y}<br>price_euros=%{marker.size}<extra></extra>",
         "hovertext": [
          "Pago de Carraovejas Tinto 2020",
          "Pago de Carraovejas Tinto 2020",
          "Pago de Carraovejas Tinto 2020"
         ],
         "legendgroup": "Pago de Carraovejas Tinto 2020",
         "marker": {
          "color": "rgb(231,138,195)",
          "size": [
           42.95,
           42.95,
           42.95
          ],
          "sizemode": "area",
          "sizeref": 0.625,
          "symbol": "circle"
         },
         "mode": "markers",
         "name": "Pago de Carraovejas Tinto 2020",
         "orientation": "v",
         "showlegend": true,
         "type": "scatter",
         "x": [
          "Bestsellers in Badajoz",
          "Bestsellers in Burgos",
          "Bestsellers in Málaga"
         ],
         "xaxis": "x",
         "y": [
          12,
          15,
          20
         ],
         "yaxis": "y"
        },
        {
         "hovertemplate": "<b>%{hovertext}</b><br><br>vintage_name=Benjamin de Rothschild - Vega Sicilia Macán Clásico 2018<br>award_name=%{x}<br>rank=%{y}<br>price_euros=%{marker.size}<extra></extra>",
         "hovertext": [
          "Benjamin de Rothschild - Vega Sicilia Macán Clásico 2018"
         ],
         "legendgroup": "Benjamin de Rothschild - Vega Sicilia Macán Clásico 2018",
         "marker": {
          "color": "rgb(166,216,84)",
          "size": [
           56
          ],
          "sizemode": "area",
          "sizeref": 0.625,
          "symbol": "circle"
         },
         "mode": "markers",
         "name": "Benjamin de Rothschild - Vega Sicilia Macán Clásico 2018",
         "orientation": "v",
         "showlegend": true,
         "type": "scatter",
         "x": [
          "Bestsellers in Balearic Islands (Baleares)"
         ],
         "xaxis": "x",
         "y": [
          5
         ],
         "yaxis": "y"
        },
        {
         "hovertemplate": "<b>%{hovertext}</b><br><br>vintage_name=Tommasi Amarone della Valpolicella Classico 2018<br>award_name=%{x}<br>rank=%{y}<br>price_euros=%{marker.size}<extra></extra>",
         "hovertext": [
          "Tommasi Amarone della Valpolicella Classico 2018",
          "Tommasi Amarone della Valpolicella Classico 2018"
         ],
         "legendgroup": "Tommasi Amarone della Valpolicella Classico 2018",
         "marker": {
          "color": "rgb(255,217,47)",
          "size": [
           49.8,
           49.8
          ],
          "sizemode": "area",
          "sizeref": 0.625,
          "symbol": "circle"
         },
         "mode": "markers",
         "name": "Tommasi Amarone della Valpolicella Classico 2018",
         "orientation": "v",
         "showlegend": true,
         "type": "scatter",
         "x": [
          "Bestsellers in British Columbia",
          "Bestsellers in Salamanca"
         ],
         "xaxis": "x",
         "y": [
          17,
          20
         ],
         "yaxis": "y"
        },
        {
         "hovertemplate": "<b>%{hovertext}</b><br><br>vintage_name=Arzuaga Reserva Ribera del Duero 2018<br>award_name=%{x}<br>rank=%{y}<br>price_euros=%{marker.size}<extra></extra>",
         "hovertext": [
          "Arzuaga Reserva Ribera del Duero 2018"
         ],
         "legendgroup": "Arzuaga Reserva Ribera del Duero 2018",
         "marker": {
          "color": "rgb(229,196,148)",
          "size": [
           39.55
          ],
          "sizemode": "area",
          "sizeref": 0.625,
          "symbol": "circle"
         },
         "mode": "markers",
         "name": "Arzuaga Reserva Ribera del Duero 2018",
         "orientation": "v",
         "showlegend": true,
         "type": "scatter",
         "x": [
          "Bestsellers in Córdoba"
         ],
         "xaxis": "x",
         "y": [
          20
         ],
         "yaxis": "y"
        },
        {
         "hovertemplate": "<b>%{hovertext}</b><br><br>vintage_name=Milsetentayseis Tinto 2019<br>award_name=%{x}<br>rank=%{y}<br>price_euros=%{marker.size}<extra></extra>",
         "hovertext": [
          "Milsetentayseis Tinto 2019"
         ],
         "legendgroup": "Milsetentayseis Tinto 2019",
         "marker": {
          "color": "rgb(179,179,179)",
          "size": [
           64.95
          ],
          "sizemode": "area",
          "sizeref": 0.625,
          "symbol": "circle"
         },
         "mode": "markers",
         "name": "Milsetentayseis Tinto 2019",
         "orientation": "v",
         "showlegend": true,
         "type": "scatter",
         "x": [
          "Bestsellers in Córdoba"
         ],
         "xaxis": "x",
         "y": [
          1
         ],
         "yaxis": "y"
        },
        {
         "hovertemplate": "<b>%{hovertext}</b><br><br>vintage_name=San Marzano 60 Sessantanni Old Vines Primitivo di Manduria 2017<br>award_name=%{x}<br>rank=%{y}<br>price_euros=%{marker.size}<extra></extra>",
         "hovertext": [
          "San Marzano 60 Sessantanni Old Vines Primitivo di Manduria 2017",
          "San Marzano 60 Sessantanni Old Vines Primitivo di Manduria 2017",
          "San Marzano 60 Sessantanni Old Vines Primitivo di Manduria 2017"
         ],
         "legendgroup": "San Marzano 60 Sessantanni Old Vines Primitivo di Manduria 2017",
         "marker": {
          "color": "rgb(102,194,165)",
          "size": [
           63.95,
           63.95,
           63.95
          ],
          "sizemode": "area",
          "sizeref": 0.625,
          "symbol": "circle"
         },
         "mode": "markers",
         "name": "San Marzano 60 Sessantanni Old Vines Primitivo di Manduria 2017",
         "orientation": "v",
         "showlegend": true,
         "type": "scatter",
         "x": [
          "Bestsellers in Germany",
          "Bestsellers in Japan",
          "Bestsellers in Switzerland"
         ],
         "xaxis": "x",
         "y": [
          16,
          15,
          7
         ],
         "yaxis": "y"
        },
        {
         "hovertemplate": "<b>%{hovertext}</b><br><br>vintage_name=Antinori Castello della Sala Cervaro della Sala 2021<br>award_name=%{x}<br>rank=%{y}<br>price_euros=%{marker.size}<extra></extra>",
         "hovertext": [
          "Antinori Castello della Sala Cervaro della Sala 2021"
         ],
         "legendgroup": "Antinori Castello della Sala Cervaro della Sala 2021",
         "marker": {
          "color": "rgb(252,141,98)",
          "size": [
           88
          ],
          "sizemode": "area",
          "sizeref": 0.625,
          "symbol": "circle"
         },
         "mode": "markers",
         "name": "Antinori Castello della Sala Cervaro della Sala 2021",
         "orientation": "v",
         "showlegend": true,
         "type": "scatter",
         "x": [
          "Bestsellers in Gipuzkoa (Guipúzcoa)"
         ],
         "xaxis": "x",
         "y": [
          2
         ],
         "yaxis": "y"
        },
        {
         "hovertemplate": "<b>%{hovertext}</b><br><br>vintage_name=Ausàs Interpretación 2020<br>award_name=%{x}<br>rank=%{y}<br>price_euros=%{marker.size}<extra></extra>",
         "hovertext": [
          "Ausàs Interpretación 2020",
          "Ausàs Interpretación 2020"
         ],
         "legendgroup": "Ausàs Interpretación 2020",
         "marker": {
          "color": "rgb(141,160,203)",
          "size": [
           50.19,
           50.19
          ],
          "sizemode": "area",
          "sizeref": 0.625,
          "symbol": "circle"
         },
         "mode": "markers",
         "name": "Ausàs Interpretación 2020",
         "orientation": "v",
         "showlegend": true,
         "type": "scatter",
         "x": [
          "Bestsellers in Girona (Gerona)",
          "Bestsellers in Zamora"
         ],
         "xaxis": "x",
         "y": [
          1,
          11
         ],
         "yaxis": "y"
        },
        {
         "hovertemplate": "<b>%{hovertext}</b><br><br>vintage_name=Tenuta Ulisse Limited Edition 10 Vendemmie<br>award_name=%{x}<br>rank=%{y}<br>price_euros=%{marker.size}<extra></extra>",
         "hovertext": [
          "Tenuta Ulisse Limited Edition 10 Vendemmie",
          "Tenuta Ulisse Limited Edition 10 Vendemmie",
          "Tenuta Ulisse Limited Edition 10 Vendemmie"
         ],
         "legendgroup": "Tenuta Ulisse Limited Edition 10 Vendemmie",
         "marker": {
          "color": "rgb(231,138,195)",
          "size": [
           34.2,
           34.2,
           34.2
          ],
          "sizemode": "area",
          "sizeref": 0.625,
          "symbol": "circle"
         },
         "mode": "markers",
         "name": "Tenuta Ulisse Limited Edition 10 Vendemmie",
         "orientation": "v",
         "showlegend": true,
         "type": "scatter",
         "x": [
          "Bestsellers in Hong Kong",
          "Bestsellers in Italy",
          "Bestsellers in Singapore"
         ],
         "xaxis": "x",
         "y": [
          6,
          16,
          11
         ],
         "yaxis": "y"
        },
        {
         "hovertemplate": "<b>%{hovertext}</b><br><br>vintage_name=San Marzano 60 Sessantanni Old Vines Primitivo di Manduria 2018<br>award_name=%{x}<br>rank=%{y}<br>price_euros=%{marker.size}<extra></extra>",
         "hovertext": [
          "San Marzano 60 Sessantanni Old Vines Primitivo di Manduria 2018",
          "San Marzano 60 Sessantanni Old Vines Primitivo di Manduria 2018",
          "San Marzano 60 Sessantanni Old Vines Primitivo di Manduria 2018"
         ],
         "legendgroup": "San Marzano 60 Sessantanni Old Vines Primitivo di Manduria 2018",
         "marker": {
          "color": "rgb(166,216,84)",
          "size": [
           24.75,
           24.75,
           24.75
          ],
          "sizemode": "area",
          "sizeref": 0.625,
          "symbol": "circle"
         },
         "mode": "markers",
         "name": "San Marzano 60 Sessantanni Old Vines Primitivo di Manduria 2018",
         "orientation": "v",
         "showlegend": true,
         "type": "scatter",
         "x": [
          "Bestsellers in Italy",
          "Bestsellers in Massachusetts",
          "Bestsellers in North Dakota"
         ],
         "xaxis": "x",
         "y": [
          20,
          4,
          2
         ],
         "yaxis": "y"
        },
        {
         "hovertemplate": "<b>%{hovertext}</b><br><br>vintage_name=Casa Ermelinda Freitas Dona Ermelinda Grande Reserva 2017<br>award_name=%{x}<br>rank=%{y}<br>price_euros=%{marker.size}<extra></extra>",
         "hovertext": [
          "Casa Ermelinda Freitas Dona Ermelinda Grande Reserva 2017",
          "Casa Ermelinda Freitas Dona Ermelinda Grande Reserva 2017",
          "Casa Ermelinda Freitas Dona Ermelinda Grande Reserva 2017",
          "Casa Ermelinda Freitas Dona Ermelinda Grande Reserva 2017"
         ],
         "legendgroup": "Casa Ermelinda Freitas Dona Ermelinda Grande Reserva 2017",
         "marker": {
          "color": "rgb(255,217,47)",
          "size": [
           29.95,
           29.95,
           29.95,
           29.95
          ],
          "sizemode": "area",
          "sizeref": 0.625,
          "symbol": "circle"
         },
         "mode": "markers",
         "name": "Casa Ermelinda Freitas Dona Ermelinda Grande Reserva 2017",
         "orientation": "v",
         "showlegend": true,
         "type": "scatter",
         "x": [
          "Bestsellers in Lisboa",
          "Bestsellers in Portugal",
          "Bestsellers in Setúbal",
          "Bestsellers in Viseu"
         ],
         "xaxis": "x",
         "y": [
          14,
          13,
          12,
          13
         ],
         "yaxis": "y"
        },
        {
         "hovertemplate": "<b>%{hovertext}</b><br><br>vintage_name=de Ladoucette Baron de L Pouilly-Fumé 2019<br>award_name=%{x}<br>rank=%{y}<br>price_euros=%{marker.size}<extra></extra>",
         "hovertext": [
          "de Ladoucette Baron de L Pouilly-Fumé 2019"
         ],
         "legendgroup": "de Ladoucette Baron de L Pouilly-Fumé 2019",
         "marker": {
          "color": "rgb(229,196,148)",
          "size": [
           97.95
          ],
          "sizemode": "area",
          "sizeref": 0.625,
          "symbol": "circle"
         },
         "mode": "markers",
         "name": "de Ladoucette Baron de L Pouilly-Fumé 2019",
         "orientation": "v",
         "showlegend": true,
         "type": "scatter",
         "x": [
          "Bestsellers in Monaco"
         ],
         "xaxis": "x",
         "y": [
          15
         ],
         "yaxis": "y"
        },
        {
         "hovertemplate": "<b>%{hovertext}</b><br><br>vintage_name=Château Pontet-Canet Pauillac (Grand Cru Classé) 2014<br>award_name=%{x}<br>rank=%{y}<br>price_euros=%{marker.size}<extra></extra>",
         "hovertext": [
          "Château Pontet-Canet Pauillac (Grand Cru Classé) 2014"
         ],
         "legendgroup": "Château Pontet-Canet Pauillac (Grand Cru Classé) 2014",
         "marker": {
          "color": "rgb(179,179,179)",
          "size": [
           119
          ],
          "sizemode": "area",
          "sizeref": 0.625,
          "symbol": "circle"
         },
         "mode": "markers",
         "name": "Château Pontet-Canet Pauillac (Grand Cru Classé) 2014",
         "orientation": "v",
         "showlegend": true,
         "type": "scatter",
         "x": [
          "Bestsellers in Monaco"
         ],
         "xaxis": "x",
         "y": [
          7
         ],
         "yaxis": "y"
        },
        {
         "hovertemplate": "<b>%{hovertext}</b><br><br>vintage_name=Chateau Montelena Chardonnay 2019<br>award_name=%{x}<br>rank=%{y}<br>price_euros=%{marker.size}<extra></extra>",
         "hovertext": [
          "Chateau Montelena Chardonnay 2019"
         ],
         "legendgroup": "Chateau Montelena Chardonnay 2019",
         "marker": {
          "color": "rgb(102,194,165)",
          "size": [
           78.95
          ],
          "sizemode": "area",
          "sizeref": 0.625,
          "symbol": "circle"
         },
         "mode": "markers",
         "name": "Chateau Montelena Chardonnay 2019",
         "orientation": "v",
         "showlegend": true,
         "type": "scatter",
         "x": [
          "Bestsellers in Montana"
         ],
         "xaxis": "x",
         "y": [
          3
         ],
         "yaxis": "y"
        },
        {
         "hovertemplate": "<b>%{hovertext}</b><br><br>vintage_name=Zenato Amarone della Valpolicella Classico 2017<br>award_name=%{x}<br>rank=%{y}<br>price_euros=%{marker.size}<extra></extra>",
         "hovertext": [
          "Zenato Amarone della Valpolicella Classico 2017",
          "Zenato Amarone della Valpolicella Classico 2017"
         ],
         "legendgroup": "Zenato Amarone della Valpolicella Classico 2017",
         "marker": {
          "color": "rgb(252,141,98)",
          "size": [
           51.9,
           51.9
          ],
          "sizemode": "area",
          "sizeref": 0.625,
          "symbol": "circle"
         },
         "mode": "markers",
         "name": "Zenato Amarone della Valpolicella Classico 2017",
         "orientation": "v",
         "showlegend": true,
         "type": "scatter",
         "x": [
          "Bestsellers in Nevada",
          "Bestsellers in Yukon"
         ],
         "xaxis": "x",
         "y": [
          6,
          18
         ],
         "yaxis": "y"
        },
        {
         "hovertemplate": "<b>%{hovertext}</b><br><br>vintage_name=Catena Zapata Malbec Argentino 2020<br>award_name=%{x}<br>rank=%{y}<br>price_euros=%{marker.size}<extra></extra>",
         "hovertext": [
          "Catena Zapata Malbec Argentino 2020",
          "Catena Zapata Malbec Argentino 2020"
         ],
         "legendgroup": "Catena Zapata Malbec Argentino 2020",
         "marker": {
          "color": "rgb(141,160,203)",
          "size": [
           89.95,
           89.95
          ],
          "sizemode": "area",
          "sizeref": 0.625,
          "symbol": "circle"
         },
         "mode": "markers",
         "name": "Catena Zapata Malbec Argentino 2020",
         "orientation": "v",
         "showlegend": true,
         "type": "scatter",
         "x": [
          "Bestsellers in New Brunswick",
          "Bestsellers in Newfoundland and Labrador"
         ],
         "xaxis": "x",
         "y": [
          16,
          6
         ],
         "yaxis": "y"
        },
        {
         "hovertemplate": "<b>%{hovertext}</b><br><br>vintage_name=Château Pape Clément Pessac-Léognan (Grand Cru Classé de Graves) 2018<br>award_name=%{x}<br>rank=%{y}<br>price_euros=%{marker.size}<extra></extra>",
         "hovertext": [
          "Château Pape Clément Pessac-Léognan (Grand Cru Classé de Graves) 2018"
         ],
         "legendgroup": "Château Pape Clément Pessac-Léognan (Grand Cru Classé de Graves) 2018",
         "marker": {
          "color": "rgb(231,138,195)",
          "size": [
           121.95
          ],
          "sizemode": "area",
          "sizeref": 0.625,
          "symbol": "circle"
         },
         "mode": "markers",
         "name": "Château Pape Clément Pessac-Léognan (Grand Cru Classé de Graves) 2018",
         "orientation": "v",
         "showlegend": true,
         "type": "scatter",
         "x": [
          "Bestsellers in New Mexico"
         ],
         "xaxis": "x",
         "y": [
          19
         ],
         "yaxis": "y"
        },
        {
         "hovertemplate": "<b>%{hovertext}</b><br><br>vintage_name=Viña Cobos Bramare Malbec Uco Valley 2019<br>award_name=%{x}<br>rank=%{y}<br>price_euros=%{marker.size}<extra></extra>",
         "hovertext": [
          "Viña Cobos Bramare Malbec Uco Valley 2019"
         ],
         "legendgroup": "Viña Cobos Bramare Malbec Uco Valley 2019",
         "marker": {
          "color": "rgb(166,216,84)",
          "size": [
           60.2
          ],
          "sizemode": "area",
          "sizeref": 0.625,
          "symbol": "circle"
         },
         "mode": "markers",
         "name": "Viña Cobos Bramare Malbec Uco Valley 2019",
         "orientation": "v",
         "showlegend": true,
         "type": "scatter",
         "x": [
          "Bestsellers in Ontario"
         ],
         "xaxis": "x",
         "y": [
          9
         ],
         "yaxis": "y"
        },
        {
         "hovertemplate": "<b>%{hovertext}</b><br><br>vintage_name=Laurent-Perrier Brut Cuvée Champagne Rosé<br>award_name=%{x}<br>rank=%{y}<br>price_euros=%{marker.size}<extra></extra>",
         "hovertext": [
          "Laurent-Perrier Brut Cuvée Champagne Rosé"
         ],
         "legendgroup": "Laurent-Perrier Brut Cuvée Champagne Rosé",
         "marker": {
          "color": "rgb(255,217,47)",
          "size": [
           72
          ],
          "sizemode": "area",
          "sizeref": 0.625,
          "symbol": "circle"
         },
         "mode": "markers",
         "name": "Laurent-Perrier Brut Cuvée Champagne Rosé",
         "orientation": "v",
         "showlegend": true,
         "type": "scatter",
         "x": [
          "Bestsellers in Setúbal"
         ],
         "xaxis": "x",
         "y": [
          15
         ],
         "yaxis": "y"
        },
        {
         "hovertemplate": "<b>%{hovertext}</b><br><br>vintage_name=Pintia Toro 2018<br>award_name=%{x}<br>rank=%{y}<br>price_euros=%{marker.size}<extra></extra>",
         "hovertext": [
          "Pintia Toro 2018"
         ],
         "legendgroup": "Pintia Toro 2018",
         "marker": {
          "color": "rgb(229,196,148)",
          "size": [
           67.16
          ],
          "sizemode": "area",
          "sizeref": 0.625,
          "symbol": "circle"
         },
         "mode": "markers",
         "name": "Pintia Toro 2018",
         "orientation": "v",
         "showlegend": true,
         "type": "scatter",
         "x": [
          "Bestsellers in Seville (Sevilla)"
         ],
         "xaxis": "x",
         "y": [
          7
         ],
         "yaxis": "y"
        },
        {
         "hovertemplate": "<b>%{hovertext}</b><br><br>vintage_name=Guerrieri Guerriero della Terra 2019<br>award_name=%{x}<br>rank=%{y}<br>price_euros=%{marker.size}<extra></extra>",
         "hovertext": [
          "Guerrieri Guerriero della Terra 2019"
         ],
         "legendgroup": "Guerrieri Guerriero della Terra 2019",
         "marker": {
          "color": "rgb(179,179,179)",
          "size": [
           27.4
          ],
          "sizemode": "area",
          "sizeref": 0.625,
          "symbol": "circle"
         },
         "mode": "markers",
         "name": "Guerrieri Guerriero della Terra 2019",
         "orientation": "v",
         "showlegend": true,
         "type": "scatter",
         "x": [
          "Bestsellers in Singapore"
         ],
         "xaxis": "x",
         "y": [
          20
         ],
         "yaxis": "y"
        },
        {
         "hovertemplate": "<b>%{hovertext}</b><br><br>vintage_name=Masi Costasera Amarone della Valpolicella Classico 2016<br>award_name=%{x}<br>rank=%{y}<br>price_euros=%{marker.size}<extra></extra>",
         "hovertext": [
          "Masi Costasera Amarone della Valpolicella Classico 2016"
         ],
         "legendgroup": "Masi Costasera Amarone della Valpolicella Classico 2016",
         "marker": {
          "color": "rgb(102,194,165)",
          "size": [
           201.25
          ],
          "sizemode": "area",
          "sizeref": 0.625,
          "symbol": "circle"
         },
         "mode": "markers",
         "name": "Masi Costasera Amarone della Valpolicella Classico 2016",
         "orientation": "v",
         "showlegend": true,
         "type": "scatter",
         "x": [
          "Bestsellers in Switzerland"
         ],
         "xaxis": "x",
         "y": [
          1
         ],
         "yaxis": "y"
        },
        {
         "hovertemplate": "<b>%{hovertext}</b><br><br>vintage_name=Dom Pérignon Brut Champagne 2013<br>award_name=%{x}<br>rank=%{y}<br>price_euros=%{marker.size}<extra></extra>",
         "hovertext": [
          "Dom Pérignon Brut Champagne 2013"
         ],
         "legendgroup": "Dom Pérignon Brut Champagne 2013",
         "marker": {
          "color": "rgb(252,141,98)",
          "size": [
           250
          ],
          "sizemode": "area",
          "sizeref": 0.625,
          "symbol": "circle"
         },
         "mode": "markers",
         "name": "Dom Pérignon Brut Champagne 2013",
         "orientation": "v",
         "showlegend": true,
         "type": "scatter",
         "x": [
          "Bestsellers in Tennessee"
         ],
         "xaxis": "x",
         "y": [
          18
         ],
         "yaxis": "y"
        },
        {
         "hovertemplate": "<b>%{hovertext}</b><br><br>vintage_name=Antinori Castello della Sala Cervaro della Sala 2019<br>award_name=%{x}<br>rank=%{y}<br>price_euros=%{marker.size}<extra></extra>",
         "hovertext": [
          "Antinori Castello della Sala Cervaro della Sala 2019"
         ],
         "legendgroup": "Antinori Castello della Sala Cervaro della Sala 2019",
         "marker": {
          "color": "rgb(141,160,203)",
          "size": [
           130
          ],
          "sizemode": "area",
          "sizeref": 0.625,
          "symbol": "circle"
         },
         "mode": "markers",
         "name": "Antinori Castello della Sala Cervaro della Sala 2019",
         "orientation": "v",
         "showlegend": true,
         "type": "scatter",
         "x": [
          "Bestsellers in United Kingdom"
         ],
         "xaxis": "x",
         "y": [
          13
         ],
         "yaxis": "y"
        },
        {
         "hovertemplate": "<b>%{hovertext}</b><br><br>vintage_name=Buena Vista Chateau Buena Vista Cabernet Sauvignon Napa Valley 2018<br>award_name=%{x}<br>rank=%{y}<br>price_euros=%{marker.size}<extra></extra>",
         "hovertext": [
          "Buena Vista Chateau Buena Vista Cabernet Sauvignon Napa Valley 2018"
         ],
         "legendgroup": "Buena Vista Chateau Buena Vista Cabernet Sauvignon Napa Valley 2018",
         "marker": {
          "color": "rgb(231,138,195)",
          "size": [
           61.95
          ],
          "sizemode": "area",
          "sizeref": 0.625,
          "symbol": "circle"
         },
         "mode": "markers",
         "name": "Buena Vista Chateau Buena Vista Cabernet Sauvignon Napa Valley 2018",
         "orientation": "v",
         "showlegend": true,
         "type": "scatter",
         "x": [
          "Bestsellers in Utah"
         ],
         "xaxis": "x",
         "y": [
          20
         ],
         "yaxis": "y"
        },
        {
         "hovertemplate": "<b>%{hovertext}</b><br><br>vintage_name=Emilio Moro Malleolus 2020<br>award_name=%{x}<br>rank=%{y}<br>price_euros=%{marker.size}<extra></extra>",
         "hovertext": [
          "Emilio Moro Malleolus 2020"
         ],
         "legendgroup": "Emilio Moro Malleolus 2020",
         "marker": {
          "color": "rgb(166,216,84)",
          "size": [
           35.95
          ],
          "sizemode": "area",
          "sizeref": 0.625,
          "symbol": "circle"
         },
         "mode": "markers",
         "name": "Emilio Moro Malleolus 2020",
         "orientation": "v",
         "showlegend": true,
         "type": "scatter",
         "x": [
          "Bestsellers in Valladolid"
         ],
         "xaxis": "x",
         "y": [
          3
         ],
         "yaxis": "y"
        },
        {
         "hovertemplate": "<b>%{hovertext}</b><br><br>vintage_name=Kistler Les Noisetiers 2020<br>award_name=%{x}<br>rank=%{y}<br>price_euros=%{marker.size}<extra></extra>",
         "hovertext": [
          "Kistler Les Noisetiers 2020"
         ],
         "legendgroup": "Kistler Les Noisetiers 2020",
         "marker": {
          "color": "rgb(255,217,47)",
          "size": [
           94
          ],
          "sizemode": "area",
          "sizeref": 0.625,
          "symbol": "circle"
         },
         "mode": "markers",
         "name": "Kistler Les Noisetiers 2020",
         "orientation": "v",
         "showlegend": true,
         "type": "scatter",
         "x": [
          "Bestsellers in Wyoming"
         ],
         "xaxis": "x",
         "y": [
          2
         ],
         "yaxis": "y"
        }
       ],
       "layout": {
        "legend": {
         "itemsizing": "constant",
         "title": {
          "text": "vintage_name"
         },
         "tracegroupgap": 0
        },
        "template": {
         "data": {
          "candlestick": [
           {
            "decreasing": {
             "line": {
              "color": "#000033"
             }
            },
            "increasing": {
             "line": {
              "color": "#000032"
             }
            },
            "type": "candlestick"
           }
          ],
          "contour": [
           {
            "colorscale": [
             [
              0,
              "#000011"
             ],
             [
              0.1111111111111111,
              "#000012"
             ],
             [
              0.2222222222222222,
              "#000013"
             ],
             [
              0.3333333333333333,
              "#000014"
             ],
             [
              0.4444444444444444,
              "#000015"
             ],
             [
              0.5555555555555556,
              "#000016"
             ],
             [
              0.6666666666666666,
              "#000017"
             ],
             [
              0.7777777777777778,
              "#000018"
             ],
             [
              0.8888888888888888,
              "#000019"
             ],
             [
              1,
              "#000020"
             ]
            ],
            "type": "contour"
           }
          ],
          "contourcarpet": [
           {
            "colorscale": [
             [
              0,
              "#000011"
             ],
             [
              0.1111111111111111,
              "#000012"
             ],
             [
              0.2222222222222222,
              "#000013"
             ],
             [
              0.3333333333333333,
              "#000014"
             ],
             [
              0.4444444444444444,
              "#000015"
             ],
             [
              0.5555555555555556,
              "#000016"
             ],
             [
              0.6666666666666666,
              "#000017"
             ],
             [
              0.7777777777777778,
              "#000018"
             ],
             [
              0.8888888888888888,
              "#000019"
             ],
             [
              1,
              "#000020"
             ]
            ],
            "type": "contourcarpet"
           }
          ],
          "heatmap": [
           {
            "colorscale": [
             [
              0,
              "#000011"
             ],
             [
              0.1111111111111111,
              "#000012"
             ],
             [
              0.2222222222222222,
              "#000013"
             ],
             [
              0.3333333333333333,
              "#000014"
             ],
             [
              0.4444444444444444,
              "#000015"
             ],
             [
              0.5555555555555556,
              "#000016"
             ],
             [
              0.6666666666666666,
              "#000017"
             ],
             [
              0.7777777777777778,
              "#000018"
             ],
             [
              0.8888888888888888,
              "#000019"
             ],
             [
              1,
              "#000020"
             ]
            ],
            "type": "heatmap"
           }
          ],
          "histogram2d": [
           {
            "colorscale": [
             [
              0,
              "#000011"
             ],
             [
              0.1111111111111111,
              "#000012"
             ],
             [
              0.2222222222222222,
              "#000013"
             ],
             [
              0.3333333333333333,
              "#000014"
             ],
             [
              0.4444444444444444,
              "#000015"
             ],
             [
              0.5555555555555556,
              "#000016"
             ],
             [
              0.6666666666666666,
              "#000017"
             ],
             [
              0.7777777777777778,
              "#000018"
             ],
             [
              0.8888888888888888,
              "#000019"
             ],
             [
              1,
              "#000020"
             ]
            ],
            "type": "histogram2d"
           }
          ],
          "icicle": [
           {
            "textfont": {
             "color": "white"
            },
            "type": "icicle"
           }
          ],
          "sankey": [
           {
            "textfont": {
             "color": "#000036"
            },
            "type": "sankey"
           }
          ],
          "scatter": [
           {
            "marker": {
             "line": {
              "width": 0
             }
            },
            "type": "scatter"
           }
          ],
          "table": [
           {
            "cells": {
             "fill": {
              "color": "#000038"
             },
             "font": {
              "color": "#000037"
             },
             "line": {
              "color": "#000039"
             }
            },
            "header": {
             "fill": {
              "color": "#000040"
             },
             "font": {
              "color": "#000036"
             },
             "line": {
              "color": "#000039"
             }
            },
            "type": "table"
           }
          ],
          "waterfall": [
           {
            "connector": {
             "line": {
              "color": "#000036",
              "width": 2
             }
            },
            "decreasing": {
             "marker": {
              "color": "#000033"
             }
            },
            "increasing": {
             "marker": {
              "color": "#000032"
             }
            },
            "totals": {
             "marker": {
              "color": "#000034"
             }
            },
            "type": "waterfall"
           }
          ]
         },
         "layout": {
          "coloraxis": {
           "colorscale": [
            [
             0,
             "#000011"
            ],
            [
             0.1111111111111111,
             "#000012"
            ],
            [
             0.2222222222222222,
             "#000013"
            ],
            [
             0.3333333333333333,
             "#000014"
            ],
            [
             0.4444444444444444,
             "#000015"
            ],
            [
             0.5555555555555556,
             "#000016"
            ],
            [
             0.6666666666666666,
             "#000017"
            ],
            [
             0.7777777777777778,
             "#000018"
            ],
            [
             0.8888888888888888,
             "#000019"
            ],
            [
             1,
             "#000020"
            ]
           ]
          },
          "colorscale": {
           "diverging": [
            [
             0,
             "#000021"
            ],
            [
             0.1,
             "#000022"
            ],
            [
             0.2,
             "#000023"
            ],
            [
             0.3,
             "#000024"
            ],
            [
             0.4,
             "#000025"
            ],
            [
             0.5,
             "#000026"
            ],
            [
             0.6,
             "#000027"
            ],
            [
             0.7,
             "#000028"
            ],
            [
             0.8,
             "#000029"
            ],
            [
             0.9,
             "#000030"
            ],
            [
             1,
             "#000031"
            ]
           ],
           "sequential": [
            [
             0,
             "#000011"
            ],
            [
             0.1111111111111111,
             "#000012"
            ],
            [
             0.2222222222222222,
             "#000013"
            ],
            [
             0.3333333333333333,
             "#000014"
            ],
            [
             0.4444444444444444,
             "#000015"
            ],
            [
             0.5555555555555556,
             "#000016"
            ],
            [
             0.6666666666666666,
             "#000017"
            ],
            [
             0.7777777777777778,
             "#000018"
            ],
            [
             0.8888888888888888,
             "#000019"
            ],
            [
             1,
             "#000020"
            ]
           ],
           "sequentialminus": [
            [
             0,
             "#000011"
            ],
            [
             0.1111111111111111,
             "#000012"
            ],
            [
             0.2222222222222222,
             "#000013"
            ],
            [
             0.3333333333333333,
             "#000014"
            ],
            [
             0.4444444444444444,
             "#000015"
            ],
            [
             0.5555555555555556,
             "#000016"
            ],
            [
             0.6666666666666666,
             "#000017"
            ],
            [
             0.7777777777777778,
             "#000018"
            ],
            [
             0.8888888888888888,
             "#000019"
            ],
            [
             1,
             "#000020"
            ]
           ]
          },
          "colorway": [
           "#000001",
           "#000002",
           "#000003",
           "#000004",
           "#000005",
           "#000006",
           "#000007",
           "#000008",
           "#000009",
           "#000010"
          ]
         }
        },
        "title": {
         "text": "Wine Vintages by Award Rankings and Price"
        },
        "xaxis": {
         "anchor": "y",
         "domain": [
          0,
          1
         ],
         "title": {
          "text": "award_name"
         }
        },
        "yaxis": {
         "anchor": "x",
         "autorange": "reversed",
         "domain": [
          0,
          1
         ],
         "title": {
          "text": "rank"
         }
        }
       }
      }
     },
     "metadata": {},
     "output_type": "display_data"
    }
   ],
   "source": [
    "import sqlite3\n",
    "import pandas as pd\n",
    "import plotly.express as px\n",
    "from plotly.offline import iplot\n",
    "\n",
    "# Connect to SQLite database\n",
    "conn = sqlite3.connect(r'C:\\Users\\samve\\OneDrive\\0BeCode\\repos\\wine_market_analysis\\data\\vivino.db')\n",
    "\n",
    "# Create a cursor object\n",
    "cur = conn.cursor()\n",
    "\n",
    "cur.execute(\"\"\"\n",
    "    SELECT\n",
    "        toplists.name,\n",
    "        vintages.name AS vintage_name,\n",
    "        vintage_toplists_rankings.rank,\n",
    "        vintages.price_euros\n",
    "    FROM\n",
    "        vintage_toplists_rankings\n",
    "        JOIN toplists ON vintage_toplists_rankings.top_list_id = toplists.id\n",
    "        JOIN vintages ON vintage_toplists_rankings.vintage_id = vintages.id\n",
    "    WHERE\n",
    "        toplists.name LIKE '%Bestsellers%'\n",
    "    ORDER BY\n",
    "        toplists.name,\n",
    "        vintage_toplists_rankings.rank\n",
    "\"\"\")\n",
    "\n",
    "# Fetch the query result\n",
    "query_result = cur.fetchall()\n",
    "\n",
    "# Create a DataFrame from the query result\n",
    "df = pd.DataFrame(query_result, columns=['award_name', 'vintage_name', 'rank', 'price_euros'])\n",
    "\n",
    "# Close the database connection\n",
    "conn.close()\n",
    "\n",
    "# Reverse the ranking column\n",
    "df['rank'] = df['rank'].max() - df['rank'] + 1\n",
    "\n",
    "# Print the DataFrame to see the query results\n",
    "print(df)\n",
    "\n",
    "# Create a scatter plot using Plotly Express\n",
    "scatter_plot = px.scatter(df, x='award_name', y='rank', color='vintage_name',\n",
    "                          hover_name='vintage_name', size='price_euros',\n",
    "                          title='Wine Vintages by Award Rankings and Price')\n",
    "\n",
    "# Reverse the y-axis range\n",
    "scatter_plot.update_yaxes(autorange=\"reversed\")\n",
    "\n",
    "# Display the Plotly chart\n",
    "iplot(scatter_plot)\n"
   ]
  },
  {
   "cell_type": "markdown",
   "metadata": {},
   "source": [
    "Top vintages by ratings"
   ]
  },
  {
   "cell_type": "code",
   "execution_count": 87,
   "metadata": {},
   "outputs": [
    {
     "data": {
      "application/vnd.plotly.v1+json": {
       "config": {
        "plotlyServerURL": "https://plot.ly"
       },
       "data": [
        {
         "alignmentgroup": "True",
         "hovertemplate": "name=%{x}<br>ratings_average=%{y}<extra></extra>",
         "legendgroup": "",
         "marker": {
          "color": "rgb(102,194,165)",
          "pattern": {
           "shape": ""
          }
         },
         "name": "",
         "offsetgroup": "",
         "orientation": "v",
         "showlegend": false,
         "textposition": "auto",
         "type": "bar",
         "x": [
          "Brunelli Campo Inferi Amarone della Valpolicella Classico Riserva 2017",
          "Tenuta Moraia Perpiero 2019",
          "Corte Aleardi Bure Alto Amarone  della Valpolicella Classico Riserva 2010",
          "Titus Lot 1 2014",
          "Puglia Pop Triglia Negroamaro Rosato 2022",
          "Gitana Lupi Rezerva 2017",
          "Achaval-Ferrer Finca Altamira Malbec 2015",
          "Achaval-Ferrer Finca Bella Vista Malbec 2015",
          "Casa Silva Altura 2012",
          "Brunelli Campo Inferi Amarone della Valpolicella Classico Riserva 2015"
         ],
         "xaxis": "x",
         "y": [
          4.7,
          4.7,
          4.7,
          4.7,
          4.7,
          4.6,
          4.6,
          4.6,
          4.6,
          4.6
         ],
         "yaxis": "y"
        }
       ],
       "layout": {
        "barmode": "relative",
        "legend": {
         "tracegroupgap": 0
        },
        "template": {
         "data": {
          "candlestick": [
           {
            "decreasing": {
             "line": {
              "color": "#000033"
             }
            },
            "increasing": {
             "line": {
              "color": "#000032"
             }
            },
            "type": "candlestick"
           }
          ],
          "contour": [
           {
            "colorscale": [
             [
              0,
              "#000011"
             ],
             [
              0.1111111111111111,
              "#000012"
             ],
             [
              0.2222222222222222,
              "#000013"
             ],
             [
              0.3333333333333333,
              "#000014"
             ],
             [
              0.4444444444444444,
              "#000015"
             ],
             [
              0.5555555555555556,
              "#000016"
             ],
             [
              0.6666666666666666,
              "#000017"
             ],
             [
              0.7777777777777778,
              "#000018"
             ],
             [
              0.8888888888888888,
              "#000019"
             ],
             [
              1,
              "#000020"
             ]
            ],
            "type": "contour"
           }
          ],
          "contourcarpet": [
           {
            "colorscale": [
             [
              0,
              "#000011"
             ],
             [
              0.1111111111111111,
              "#000012"
             ],
             [
              0.2222222222222222,
              "#000013"
             ],
             [
              0.3333333333333333,
              "#000014"
             ],
             [
              0.4444444444444444,
              "#000015"
             ],
             [
              0.5555555555555556,
              "#000016"
             ],
             [
              0.6666666666666666,
              "#000017"
             ],
             [
              0.7777777777777778,
              "#000018"
             ],
             [
              0.8888888888888888,
              "#000019"
             ],
             [
              1,
              "#000020"
             ]
            ],
            "type": "contourcarpet"
           }
          ],
          "heatmap": [
           {
            "colorscale": [
             [
              0,
              "#000011"
             ],
             [
              0.1111111111111111,
              "#000012"
             ],
             [
              0.2222222222222222,
              "#000013"
             ],
             [
              0.3333333333333333,
              "#000014"
             ],
             [
              0.4444444444444444,
              "#000015"
             ],
             [
              0.5555555555555556,
              "#000016"
             ],
             [
              0.6666666666666666,
              "#000017"
             ],
             [
              0.7777777777777778,
              "#000018"
             ],
             [
              0.8888888888888888,
              "#000019"
             ],
             [
              1,
              "#000020"
             ]
            ],
            "type": "heatmap"
           }
          ],
          "histogram2d": [
           {
            "colorscale": [
             [
              0,
              "#000011"
             ],
             [
              0.1111111111111111,
              "#000012"
             ],
             [
              0.2222222222222222,
              "#000013"
             ],
             [
              0.3333333333333333,
              "#000014"
             ],
             [
              0.4444444444444444,
              "#000015"
             ],
             [
              0.5555555555555556,
              "#000016"
             ],
             [
              0.6666666666666666,
              "#000017"
             ],
             [
              0.7777777777777778,
              "#000018"
             ],
             [
              0.8888888888888888,
              "#000019"
             ],
             [
              1,
              "#000020"
             ]
            ],
            "type": "histogram2d"
           }
          ],
          "icicle": [
           {
            "textfont": {
             "color": "white"
            },
            "type": "icicle"
           }
          ],
          "sankey": [
           {
            "textfont": {
             "color": "#000036"
            },
            "type": "sankey"
           }
          ],
          "scatter": [
           {
            "marker": {
             "line": {
              "width": 0
             }
            },
            "type": "scatter"
           }
          ],
          "table": [
           {
            "cells": {
             "fill": {
              "color": "#000038"
             },
             "font": {
              "color": "#000037"
             },
             "line": {
              "color": "#000039"
             }
            },
            "header": {
             "fill": {
              "color": "#000040"
             },
             "font": {
              "color": "#000036"
             },
             "line": {
              "color": "#000039"
             }
            },
            "type": "table"
           }
          ],
          "waterfall": [
           {
            "connector": {
             "line": {
              "color": "#000036",
              "width": 2
             }
            },
            "decreasing": {
             "marker": {
              "color": "#000033"
             }
            },
            "increasing": {
             "marker": {
              "color": "#000032"
             }
            },
            "totals": {
             "marker": {
              "color": "#000034"
             }
            },
            "type": "waterfall"
           }
          ]
         },
         "layout": {
          "coloraxis": {
           "colorscale": [
            [
             0,
             "#000011"
            ],
            [
             0.1111111111111111,
             "#000012"
            ],
            [
             0.2222222222222222,
             "#000013"
            ],
            [
             0.3333333333333333,
             "#000014"
            ],
            [
             0.4444444444444444,
             "#000015"
            ],
            [
             0.5555555555555556,
             "#000016"
            ],
            [
             0.6666666666666666,
             "#000017"
            ],
            [
             0.7777777777777778,
             "#000018"
            ],
            [
             0.8888888888888888,
             "#000019"
            ],
            [
             1,
             "#000020"
            ]
           ]
          },
          "colorscale": {
           "diverging": [
            [
             0,
             "#000021"
            ],
            [
             0.1,
             "#000022"
            ],
            [
             0.2,
             "#000023"
            ],
            [
             0.3,
             "#000024"
            ],
            [
             0.4,
             "#000025"
            ],
            [
             0.5,
             "#000026"
            ],
            [
             0.6,
             "#000027"
            ],
            [
             0.7,
             "#000028"
            ],
            [
             0.8,
             "#000029"
            ],
            [
             0.9,
             "#000030"
            ],
            [
             1,
             "#000031"
            ]
           ],
           "sequential": [
            [
             0,
             "#000011"
            ],
            [
             0.1111111111111111,
             "#000012"
            ],
            [
             0.2222222222222222,
             "#000013"
            ],
            [
             0.3333333333333333,
             "#000014"
            ],
            [
             0.4444444444444444,
             "#000015"
            ],
            [
             0.5555555555555556,
             "#000016"
            ],
            [
             0.6666666666666666,
             "#000017"
            ],
            [
             0.7777777777777778,
             "#000018"
            ],
            [
             0.8888888888888888,
             "#000019"
            ],
            [
             1,
             "#000020"
            ]
           ],
           "sequentialminus": [
            [
             0,
             "#000011"
            ],
            [
             0.1111111111111111,
             "#000012"
            ],
            [
             0.2222222222222222,
             "#000013"
            ],
            [
             0.3333333333333333,
             "#000014"
            ],
            [
             0.4444444444444444,
             "#000015"
            ],
            [
             0.5555555555555556,
             "#000016"
            ],
            [
             0.6666666666666666,
             "#000017"
            ],
            [
             0.7777777777777778,
             "#000018"
            ],
            [
             0.8888888888888888,
             "#000019"
            ],
            [
             1,
             "#000020"
            ]
           ]
          },
          "colorway": [
           "#000001",
           "#000002",
           "#000003",
           "#000004",
           "#000005",
           "#000006",
           "#000007",
           "#000008",
           "#000009",
           "#000010"
          ]
         }
        },
        "title": {
         "text": "Top Vintages by Ratings"
        },
        "xaxis": {
         "anchor": "y",
         "domain": [
          0,
          1
         ],
         "title": {
          "text": "name"
         }
        },
        "yaxis": {
         "anchor": "x",
         "domain": [
          0,
          1
         ],
         "title": {
          "text": "ratings_average"
         }
        }
       }
      }
     },
     "metadata": {},
     "output_type": "display_data"
    }
   ],
   "source": [
    "import sqlite3\n",
    "import pandas as pd\n",
    "import plotly.express as px\n",
    "\n",
    "# Connect to the SQLite database\n",
    "conn = sqlite3.connect(r'C:\\Users\\samve\\OneDrive\\0BeCode\\repos\\wine_market_analysis\\data\\vivino.db')\n",
    "\n",
    "# Execute the query and fetch data\n",
    "query = \"\"\"\n",
    "SELECT v.id, v.name, v.ratings_average, v.ratings_count, v.price_euros, w.name AS wine_name\n",
    "FROM vintages AS v\n",
    "JOIN wines AS w ON v.wine_id = w.id\n",
    "WHERE v.price_euros < 100 -- Set a reasonable price threshold\n",
    "ORDER BY v.ratings_average DESC, v.ratings_count DESC\n",
    "LIMIT 10;\n",
    "\"\"\"\n",
    "result = conn.execute(query).fetchall()\n",
    "\n",
    "# Close the database connection\n",
    "conn.close()\n",
    "\n",
    "# Convert the result to a Pandas DataFrame\n",
    "columns = ['id', 'name', 'ratings_average', 'ratings_count', 'price_euros', 'wine_name']\n",
    "df = pd.DataFrame(result, columns=columns)\n",
    "\n",
    "# Create a Plotly visualization\n",
    "fig = px.bar(df, x='name', y='ratings_average', title='Top Vintages by Ratings')\n",
    "fig.show()\n"
   ]
  },
  {
   "cell_type": "markdown",
   "metadata": {},
   "source": [
    "High sales vintages:"
   ]
  },
  {
   "cell_type": "code",
   "execution_count": 88,
   "metadata": {},
   "outputs": [
    {
     "data": {
      "application/vnd.plotly.v1+json": {
       "config": {
        "plotlyServerURL": "https://plot.ly"
       },
       "data": [
        {
         "alignmentgroup": "True",
         "hovertemplate": "name=%{x}<br>price_euros=%{y}<extra></extra>",
         "legendgroup": "",
         "marker": {
          "color": "rgb(102,194,165)",
          "pattern": {
           "shape": ""
          }
         },
         "name": "",
         "offsetgroup": "",
         "orientation": "v",
         "showlegend": false,
         "textposition": "auto",
         "type": "bar",
         "x": [
          "Henri Jayer Échézeaux Grand Cru 1976",
          "Jean-Claude Ramonet Montrachet Grand Cru 1987",
          "Domaine Armand Rousseau Chambertin Grand Cru 2002",
          "Maison Leroy Chassagne-Montrachet 1er Cru 'Morgeot' 1993",
          "Domaine de La Romanée-Conti Romanée-Saint-Vivant Grand Cru (Marey-Monge) 1999",
          "Domaine Cecile Tremblay Chapelle-Chambertin Grand Cru 2005",
          "Maison Leroy Nuits-Saint-Georges 1972",
          "Pétrus Pomerol 1982",
          "Domaine de La Romanée-Conti Romanée-Saint-Vivant Grand Cru (Marey-Monge) 2006",
          "Domaine de La Romanée-Conti Romanée-Saint-Vivant Grand Cru (Marey-Monge) 1993"
         ],
         "xaxis": "x",
         "y": [
          12886.5,
          11862.5,
          10960,
          10543.75,
          10217.5,
          9607.5,
          9482.5,
          9180,
          8743.75,
          8463.75
         ],
         "yaxis": "y"
        }
       ],
       "layout": {
        "barmode": "relative",
        "legend": {
         "tracegroupgap": 0
        },
        "template": {
         "data": {
          "candlestick": [
           {
            "decreasing": {
             "line": {
              "color": "#000033"
             }
            },
            "increasing": {
             "line": {
              "color": "#000032"
             }
            },
            "type": "candlestick"
           }
          ],
          "contour": [
           {
            "colorscale": [
             [
              0,
              "#000011"
             ],
             [
              0.1111111111111111,
              "#000012"
             ],
             [
              0.2222222222222222,
              "#000013"
             ],
             [
              0.3333333333333333,
              "#000014"
             ],
             [
              0.4444444444444444,
              "#000015"
             ],
             [
              0.5555555555555556,
              "#000016"
             ],
             [
              0.6666666666666666,
              "#000017"
             ],
             [
              0.7777777777777778,
              "#000018"
             ],
             [
              0.8888888888888888,
              "#000019"
             ],
             [
              1,
              "#000020"
             ]
            ],
            "type": "contour"
           }
          ],
          "contourcarpet": [
           {
            "colorscale": [
             [
              0,
              "#000011"
             ],
             [
              0.1111111111111111,
              "#000012"
             ],
             [
              0.2222222222222222,
              "#000013"
             ],
             [
              0.3333333333333333,
              "#000014"
             ],
             [
              0.4444444444444444,
              "#000015"
             ],
             [
              0.5555555555555556,
              "#000016"
             ],
             [
              0.6666666666666666,
              "#000017"
             ],
             [
              0.7777777777777778,
              "#000018"
             ],
             [
              0.8888888888888888,
              "#000019"
             ],
             [
              1,
              "#000020"
             ]
            ],
            "type": "contourcarpet"
           }
          ],
          "heatmap": [
           {
            "colorscale": [
             [
              0,
              "#000011"
             ],
             [
              0.1111111111111111,
              "#000012"
             ],
             [
              0.2222222222222222,
              "#000013"
             ],
             [
              0.3333333333333333,
              "#000014"
             ],
             [
              0.4444444444444444,
              "#000015"
             ],
             [
              0.5555555555555556,
              "#000016"
             ],
             [
              0.6666666666666666,
              "#000017"
             ],
             [
              0.7777777777777778,
              "#000018"
             ],
             [
              0.8888888888888888,
              "#000019"
             ],
             [
              1,
              "#000020"
             ]
            ],
            "type": "heatmap"
           }
          ],
          "histogram2d": [
           {
            "colorscale": [
             [
              0,
              "#000011"
             ],
             [
              0.1111111111111111,
              "#000012"
             ],
             [
              0.2222222222222222,
              "#000013"
             ],
             [
              0.3333333333333333,
              "#000014"
             ],
             [
              0.4444444444444444,
              "#000015"
             ],
             [
              0.5555555555555556,
              "#000016"
             ],
             [
              0.6666666666666666,
              "#000017"
             ],
             [
              0.7777777777777778,
              "#000018"
             ],
             [
              0.8888888888888888,
              "#000019"
             ],
             [
              1,
              "#000020"
             ]
            ],
            "type": "histogram2d"
           }
          ],
          "icicle": [
           {
            "textfont": {
             "color": "white"
            },
            "type": "icicle"
           }
          ],
          "sankey": [
           {
            "textfont": {
             "color": "#000036"
            },
            "type": "sankey"
           }
          ],
          "scatter": [
           {
            "marker": {
             "line": {
              "width": 0
             }
            },
            "type": "scatter"
           }
          ],
          "table": [
           {
            "cells": {
             "fill": {
              "color": "#000038"
             },
             "font": {
              "color": "#000037"
             },
             "line": {
              "color": "#000039"
             }
            },
            "header": {
             "fill": {
              "color": "#000040"
             },
             "font": {
              "color": "#000036"
             },
             "line": {
              "color": "#000039"
             }
            },
            "type": "table"
           }
          ],
          "waterfall": [
           {
            "connector": {
             "line": {
              "color": "#000036",
              "width": 2
             }
            },
            "decreasing": {
             "marker": {
              "color": "#000033"
             }
            },
            "increasing": {
             "marker": {
              "color": "#000032"
             }
            },
            "totals": {
             "marker": {
              "color": "#000034"
             }
            },
            "type": "waterfall"
           }
          ]
         },
         "layout": {
          "coloraxis": {
           "colorscale": [
            [
             0,
             "#000011"
            ],
            [
             0.1111111111111111,
             "#000012"
            ],
            [
             0.2222222222222222,
             "#000013"
            ],
            [
             0.3333333333333333,
             "#000014"
            ],
            [
             0.4444444444444444,
             "#000015"
            ],
            [
             0.5555555555555556,
             "#000016"
            ],
            [
             0.6666666666666666,
             "#000017"
            ],
            [
             0.7777777777777778,
             "#000018"
            ],
            [
             0.8888888888888888,
             "#000019"
            ],
            [
             1,
             "#000020"
            ]
           ]
          },
          "colorscale": {
           "diverging": [
            [
             0,
             "#000021"
            ],
            [
             0.1,
             "#000022"
            ],
            [
             0.2,
             "#000023"
            ],
            [
             0.3,
             "#000024"
            ],
            [
             0.4,
             "#000025"
            ],
            [
             0.5,
             "#000026"
            ],
            [
             0.6,
             "#000027"
            ],
            [
             0.7,
             "#000028"
            ],
            [
             0.8,
             "#000029"
            ],
            [
             0.9,
             "#000030"
            ],
            [
             1,
             "#000031"
            ]
           ],
           "sequential": [
            [
             0,
             "#000011"
            ],
            [
             0.1111111111111111,
             "#000012"
            ],
            [
             0.2222222222222222,
             "#000013"
            ],
            [
             0.3333333333333333,
             "#000014"
            ],
            [
             0.4444444444444444,
             "#000015"
            ],
            [
             0.5555555555555556,
             "#000016"
            ],
            [
             0.6666666666666666,
             "#000017"
            ],
            [
             0.7777777777777778,
             "#000018"
            ],
            [
             0.8888888888888888,
             "#000019"
            ],
            [
             1,
             "#000020"
            ]
           ],
           "sequentialminus": [
            [
             0,
             "#000011"
            ],
            [
             0.1111111111111111,
             "#000012"
            ],
            [
             0.2222222222222222,
             "#000013"
            ],
            [
             0.3333333333333333,
             "#000014"
            ],
            [
             0.4444444444444444,
             "#000015"
            ],
            [
             0.5555555555555556,
             "#000016"
            ],
            [
             0.6666666666666666,
             "#000017"
            ],
            [
             0.7777777777777778,
             "#000018"
            ],
            [
             0.8888888888888888,
             "#000019"
            ],
            [
             1,
             "#000020"
            ]
           ]
          },
          "colorway": [
           "#000001",
           "#000002",
           "#000003",
           "#000004",
           "#000005",
           "#000006",
           "#000007",
           "#000008",
           "#000009",
           "#000010"
          ]
         }
        },
        "title": {
         "text": "High Sales Vintages"
        },
        "xaxis": {
         "anchor": "y",
         "domain": [
          0,
          1
         ],
         "title": {
          "text": "name"
         }
        },
        "yaxis": {
         "anchor": "x",
         "domain": [
          0,
          1
         ],
         "title": {
          "text": "price_euros"
         }
        }
       }
      }
     },
     "metadata": {},
     "output_type": "display_data"
    }
   ],
   "source": [
    "import sqlite3\n",
    "import pandas as pd\n",
    "import plotly.express as px\n",
    "\n",
    "# Connect to the SQLite database\n",
    "conn = sqlite3.connect(r'C:\\Users\\samve\\OneDrive\\0BeCode\\repos\\wine_market_analysis\\data\\vivino.db')\n",
    "\n",
    "# Execute the query and fetch data\n",
    "query = \"\"\"\n",
    "SELECT v.id, v.name, v.price_euros, v.ratings_count, w.name AS wine_name\n",
    "FROM vintages AS v\n",
    "JOIN wines AS w ON v.wine_id = w.id\n",
    "ORDER BY v.price_euros DESC, v.ratings_count DESC\n",
    "LIMIT 10;\n",
    "\"\"\"\n",
    "result = conn.execute(query).fetchall()\n",
    "\n",
    "# Close the database connection\n",
    "conn.close()\n",
    "\n",
    "# Convert the result to a Pandas DataFrame\n",
    "columns = ['id', 'name', 'price_euros', 'ratings_count', 'wine_name']\n",
    "df = pd.DataFrame(result, columns=columns)\n",
    "\n",
    "# Create a Plotly visualization\n",
    "fig = px.bar(df, x='name', y='price_euros', title='High Sales Vintages')\n",
    "fig.show()\n"
   ]
  },
  {
   "cell_type": "markdown",
   "metadata": {},
   "source": [
    "Limited availabillity vintages:"
   ]
  },
  {
   "cell_type": "code",
   "execution_count": 89,
   "metadata": {},
   "outputs": [
    {
     "data": {
      "application/vnd.plotly.v1+json": {
       "config": {
        "plotlyServerURL": "https://plot.ly"
       },
       "data": [
        {
         "alignmentgroup": "True",
         "hovertemplate": "name=%{x}<br>ratings_count=%{y}<extra></extra>",
         "legendgroup": "",
         "marker": {
          "color": "rgb(102,194,165)",
          "pattern": {
           "shape": ""
          }
         },
         "name": "",
         "offsetgroup": "",
         "orientation": "v",
         "showlegend": false,
         "textposition": "auto",
         "type": "bar",
         "x": [
          "Château Lynch-Bages Pauillac (Grand Cru Classé) 1934",
          "Oremus Eszencia 2011",
          "Château Bellevue-Mondotte Saint-Émilion Grand Cru 2000",
          "La Casa di Bricciano Il Ritrovo 2015",
          "Gagnard-Delagrange Le Montrachet Grand Cru 1991",
          "Siro Pacenti Brunello di Montalcino Riserva 1988",
          "Aldo Conterno Barolo Riserva Speciale Granbussia 2013",
          "Domaine Faiveley Les Ouvrées Rodin Chambertin-Clos de Bèze Grand Cru 2018",
          "Château Bellevue-Mondotte Saint-Émilion Grand Cru 2019",
          "Château Ausone Chapelle d'Ausone Saint-Émilion Grand Cru 2020"
         ],
         "xaxis": "x",
         "y": [
          0,
          0,
          0,
          0,
          0,
          0,
          0,
          0,
          0,
          0
         ],
         "yaxis": "y"
        }
       ],
       "layout": {
        "barmode": "relative",
        "legend": {
         "tracegroupgap": 0
        },
        "template": {
         "data": {
          "candlestick": [
           {
            "decreasing": {
             "line": {
              "color": "#000033"
             }
            },
            "increasing": {
             "line": {
              "color": "#000032"
             }
            },
            "type": "candlestick"
           }
          ],
          "contour": [
           {
            "colorscale": [
             [
              0,
              "#000011"
             ],
             [
              0.1111111111111111,
              "#000012"
             ],
             [
              0.2222222222222222,
              "#000013"
             ],
             [
              0.3333333333333333,
              "#000014"
             ],
             [
              0.4444444444444444,
              "#000015"
             ],
             [
              0.5555555555555556,
              "#000016"
             ],
             [
              0.6666666666666666,
              "#000017"
             ],
             [
              0.7777777777777778,
              "#000018"
             ],
             [
              0.8888888888888888,
              "#000019"
             ],
             [
              1,
              "#000020"
             ]
            ],
            "type": "contour"
           }
          ],
          "contourcarpet": [
           {
            "colorscale": [
             [
              0,
              "#000011"
             ],
             [
              0.1111111111111111,
              "#000012"
             ],
             [
              0.2222222222222222,
              "#000013"
             ],
             [
              0.3333333333333333,
              "#000014"
             ],
             [
              0.4444444444444444,
              "#000015"
             ],
             [
              0.5555555555555556,
              "#000016"
             ],
             [
              0.6666666666666666,
              "#000017"
             ],
             [
              0.7777777777777778,
              "#000018"
             ],
             [
              0.8888888888888888,
              "#000019"
             ],
             [
              1,
              "#000020"
             ]
            ],
            "type": "contourcarpet"
           }
          ],
          "heatmap": [
           {
            "colorscale": [
             [
              0,
              "#000011"
             ],
             [
              0.1111111111111111,
              "#000012"
             ],
             [
              0.2222222222222222,
              "#000013"
             ],
             [
              0.3333333333333333,
              "#000014"
             ],
             [
              0.4444444444444444,
              "#000015"
             ],
             [
              0.5555555555555556,
              "#000016"
             ],
             [
              0.6666666666666666,
              "#000017"
             ],
             [
              0.7777777777777778,
              "#000018"
             ],
             [
              0.8888888888888888,
              "#000019"
             ],
             [
              1,
              "#000020"
             ]
            ],
            "type": "heatmap"
           }
          ],
          "histogram2d": [
           {
            "colorscale": [
             [
              0,
              "#000011"
             ],
             [
              0.1111111111111111,
              "#000012"
             ],
             [
              0.2222222222222222,
              "#000013"
             ],
             [
              0.3333333333333333,
              "#000014"
             ],
             [
              0.4444444444444444,
              "#000015"
             ],
             [
              0.5555555555555556,
              "#000016"
             ],
             [
              0.6666666666666666,
              "#000017"
             ],
             [
              0.7777777777777778,
              "#000018"
             ],
             [
              0.8888888888888888,
              "#000019"
             ],
             [
              1,
              "#000020"
             ]
            ],
            "type": "histogram2d"
           }
          ],
          "icicle": [
           {
            "textfont": {
             "color": "white"
            },
            "type": "icicle"
           }
          ],
          "sankey": [
           {
            "textfont": {
             "color": "#000036"
            },
            "type": "sankey"
           }
          ],
          "scatter": [
           {
            "marker": {
             "line": {
              "width": 0
             }
            },
            "type": "scatter"
           }
          ],
          "table": [
           {
            "cells": {
             "fill": {
              "color": "#000038"
             },
             "font": {
              "color": "#000037"
             },
             "line": {
              "color": "#000039"
             }
            },
            "header": {
             "fill": {
              "color": "#000040"
             },
             "font": {
              "color": "#000036"
             },
             "line": {
              "color": "#000039"
             }
            },
            "type": "table"
           }
          ],
          "waterfall": [
           {
            "connector": {
             "line": {
              "color": "#000036",
              "width": 2
             }
            },
            "decreasing": {
             "marker": {
              "color": "#000033"
             }
            },
            "increasing": {
             "marker": {
              "color": "#000032"
             }
            },
            "totals": {
             "marker": {
              "color": "#000034"
             }
            },
            "type": "waterfall"
           }
          ]
         },
         "layout": {
          "coloraxis": {
           "colorscale": [
            [
             0,
             "#000011"
            ],
            [
             0.1111111111111111,
             "#000012"
            ],
            [
             0.2222222222222222,
             "#000013"
            ],
            [
             0.3333333333333333,
             "#000014"
            ],
            [
             0.4444444444444444,
             "#000015"
            ],
            [
             0.5555555555555556,
             "#000016"
            ],
            [
             0.6666666666666666,
             "#000017"
            ],
            [
             0.7777777777777778,
             "#000018"
            ],
            [
             0.8888888888888888,
             "#000019"
            ],
            [
             1,
             "#000020"
            ]
           ]
          },
          "colorscale": {
           "diverging": [
            [
             0,
             "#000021"
            ],
            [
             0.1,
             "#000022"
            ],
            [
             0.2,
             "#000023"
            ],
            [
             0.3,
             "#000024"
            ],
            [
             0.4,
             "#000025"
            ],
            [
             0.5,
             "#000026"
            ],
            [
             0.6,
             "#000027"
            ],
            [
             0.7,
             "#000028"
            ],
            [
             0.8,
             "#000029"
            ],
            [
             0.9,
             "#000030"
            ],
            [
             1,
             "#000031"
            ]
           ],
           "sequential": [
            [
             0,
             "#000011"
            ],
            [
             0.1111111111111111,
             "#000012"
            ],
            [
             0.2222222222222222,
             "#000013"
            ],
            [
             0.3333333333333333,
             "#000014"
            ],
            [
             0.4444444444444444,
             "#000015"
            ],
            [
             0.5555555555555556,
             "#000016"
            ],
            [
             0.6666666666666666,
             "#000017"
            ],
            [
             0.7777777777777778,
             "#000018"
            ],
            [
             0.8888888888888888,
             "#000019"
            ],
            [
             1,
             "#000020"
            ]
           ],
           "sequentialminus": [
            [
             0,
             "#000011"
            ],
            [
             0.1111111111111111,
             "#000012"
            ],
            [
             0.2222222222222222,
             "#000013"
            ],
            [
             0.3333333333333333,
             "#000014"
            ],
            [
             0.4444444444444444,
             "#000015"
            ],
            [
             0.5555555555555556,
             "#000016"
            ],
            [
             0.6666666666666666,
             "#000017"
            ],
            [
             0.7777777777777778,
             "#000018"
            ],
            [
             0.8888888888888888,
             "#000019"
            ],
            [
             1,
             "#000020"
            ]
           ]
          },
          "colorway": [
           "#000001",
           "#000002",
           "#000003",
           "#000004",
           "#000005",
           "#000006",
           "#000007",
           "#000008",
           "#000009",
           "#000010"
          ]
         }
        },
        "title": {
         "text": "Limited Availability Vintages"
        },
        "xaxis": {
         "anchor": "y",
         "domain": [
          0,
          1
         ],
         "title": {
          "text": "name"
         }
        },
        "yaxis": {
         "anchor": "x",
         "domain": [
          0,
          1
         ],
         "title": {
          "text": "ratings_count"
         }
        }
       }
      }
     },
     "metadata": {},
     "output_type": "display_data"
    }
   ],
   "source": [
    "import sqlite3\n",
    "import pandas as pd\n",
    "import plotly.express as px\n",
    "\n",
    "# Connect to the SQLite database\n",
    "conn = sqlite3.connect(r'C:\\Users\\samve\\OneDrive\\0BeCode\\repos\\wine_market_analysis\\data\\vivino.db')\n",
    "\n",
    "# Execute the corrected query and fetch data\n",
    "query = \"\"\"\n",
    "SELECT v.id, v.name, v.ratings_count, w.name AS wine_name\n",
    "FROM vintages AS v\n",
    "JOIN wines AS w ON v.wine_id = w.id\n",
    "WHERE v.ratings_count < 100\n",
    "ORDER BY v.ratings_count ASC\n",
    "LIMIT 10;\n",
    "\"\"\"\n",
    "result = conn.execute(query).fetchall()\n",
    "\n",
    "# Close the database connection\n",
    "conn.close()\n",
    "\n",
    "# Convert the result to a Pandas DataFrame\n",
    "columns = ['id', 'name', 'ratings_count', 'wine_name']\n",
    "df = pd.DataFrame(result, columns=columns)\n",
    "\n",
    "# Create a Plotly visualization\n",
    "fig = px.bar(df, x='name', y='ratings_count', title='Limited Availability Vintages')\n",
    "fig.show()\n"
   ]
  },
  {
   "cell_type": "markdown",
   "metadata": {},
   "source": [
    "Trending vintages"
   ]
  },
  {
   "cell_type": "code",
   "execution_count": 90,
   "metadata": {},
   "outputs": [
    {
     "data": {
      "application/vnd.plotly.v1+json": {
       "config": {
        "plotlyServerURL": "https://plot.ly"
       },
       "data": [
        {
         "alignmentgroup": "True",
         "hovertemplate": "name=%{x}<br>ratings_count=%{y}<extra></extra>",
         "legendgroup": "",
         "marker": {
          "color": "rgb(102,194,165)",
          "pattern": {
           "shape": ""
          }
         },
         "name": "",
         "offsetgroup": "",
         "orientation": "v",
         "showlegend": false,
         "textposition": "auto",
         "type": "bar",
         "x": [
          "Laurent-Perrier Brut Cuvée Champagne Rosé",
          "Krug Grande Cuvée",
          "Billecart-Salmon Brut Rosé Champagne",
          "Ruinart Brut Rosé Champagne",
          "Dom Pérignon Brut Champagne 2006",
          "San Marzano 60 Sessantanni Old Vines Primitivo di Manduria 2017",
          "Opus One Overture",
          "Caymus Cabernet Sauvignon 2019",
          "Dom Pérignon Brut Champagne 2004",
          "Antinori Tignanello 2016"
         ],
         "xaxis": "x",
         "y": [
          36681,
          28513,
          23241,
          21147,
          21121,
          17090,
          16804,
          15647,
          14650,
          13709
         ],
         "yaxis": "y"
        }
       ],
       "layout": {
        "barmode": "relative",
        "legend": {
         "tracegroupgap": 0
        },
        "template": {
         "data": {
          "candlestick": [
           {
            "decreasing": {
             "line": {
              "color": "#000033"
             }
            },
            "increasing": {
             "line": {
              "color": "#000032"
             }
            },
            "type": "candlestick"
           }
          ],
          "contour": [
           {
            "colorscale": [
             [
              0,
              "#000011"
             ],
             [
              0.1111111111111111,
              "#000012"
             ],
             [
              0.2222222222222222,
              "#000013"
             ],
             [
              0.3333333333333333,
              "#000014"
             ],
             [
              0.4444444444444444,
              "#000015"
             ],
             [
              0.5555555555555556,
              "#000016"
             ],
             [
              0.6666666666666666,
              "#000017"
             ],
             [
              0.7777777777777778,
              "#000018"
             ],
             [
              0.8888888888888888,
              "#000019"
             ],
             [
              1,
              "#000020"
             ]
            ],
            "type": "contour"
           }
          ],
          "contourcarpet": [
           {
            "colorscale": [
             [
              0,
              "#000011"
             ],
             [
              0.1111111111111111,
              "#000012"
             ],
             [
              0.2222222222222222,
              "#000013"
             ],
             [
              0.3333333333333333,
              "#000014"
             ],
             [
              0.4444444444444444,
              "#000015"
             ],
             [
              0.5555555555555556,
              "#000016"
             ],
             [
              0.6666666666666666,
              "#000017"
             ],
             [
              0.7777777777777778,
              "#000018"
             ],
             [
              0.8888888888888888,
              "#000019"
             ],
             [
              1,
              "#000020"
             ]
            ],
            "type": "contourcarpet"
           }
          ],
          "heatmap": [
           {
            "colorscale": [
             [
              0,
              "#000011"
             ],
             [
              0.1111111111111111,
              "#000012"
             ],
             [
              0.2222222222222222,
              "#000013"
             ],
             [
              0.3333333333333333,
              "#000014"
             ],
             [
              0.4444444444444444,
              "#000015"
             ],
             [
              0.5555555555555556,
              "#000016"
             ],
             [
              0.6666666666666666,
              "#000017"
             ],
             [
              0.7777777777777778,
              "#000018"
             ],
             [
              0.8888888888888888,
              "#000019"
             ],
             [
              1,
              "#000020"
             ]
            ],
            "type": "heatmap"
           }
          ],
          "histogram2d": [
           {
            "colorscale": [
             [
              0,
              "#000011"
             ],
             [
              0.1111111111111111,
              "#000012"
             ],
             [
              0.2222222222222222,
              "#000013"
             ],
             [
              0.3333333333333333,
              "#000014"
             ],
             [
              0.4444444444444444,
              "#000015"
             ],
             [
              0.5555555555555556,
              "#000016"
             ],
             [
              0.6666666666666666,
              "#000017"
             ],
             [
              0.7777777777777778,
              "#000018"
             ],
             [
              0.8888888888888888,
              "#000019"
             ],
             [
              1,
              "#000020"
             ]
            ],
            "type": "histogram2d"
           }
          ],
          "icicle": [
           {
            "textfont": {
             "color": "white"
            },
            "type": "icicle"
           }
          ],
          "sankey": [
           {
            "textfont": {
             "color": "#000036"
            },
            "type": "sankey"
           }
          ],
          "scatter": [
           {
            "marker": {
             "line": {
              "width": 0
             }
            },
            "type": "scatter"
           }
          ],
          "table": [
           {
            "cells": {
             "fill": {
              "color": "#000038"
             },
             "font": {
              "color": "#000037"
             },
             "line": {
              "color": "#000039"
             }
            },
            "header": {
             "fill": {
              "color": "#000040"
             },
             "font": {
              "color": "#000036"
             },
             "line": {
              "color": "#000039"
             }
            },
            "type": "table"
           }
          ],
          "waterfall": [
           {
            "connector": {
             "line": {
              "color": "#000036",
              "width": 2
             }
            },
            "decreasing": {
             "marker": {
              "color": "#000033"
             }
            },
            "increasing": {
             "marker": {
              "color": "#000032"
             }
            },
            "totals": {
             "marker": {
              "color": "#000034"
             }
            },
            "type": "waterfall"
           }
          ]
         },
         "layout": {
          "coloraxis": {
           "colorscale": [
            [
             0,
             "#000011"
            ],
            [
             0.1111111111111111,
             "#000012"
            ],
            [
             0.2222222222222222,
             "#000013"
            ],
            [
             0.3333333333333333,
             "#000014"
            ],
            [
             0.4444444444444444,
             "#000015"
            ],
            [
             0.5555555555555556,
             "#000016"
            ],
            [
             0.6666666666666666,
             "#000017"
            ],
            [
             0.7777777777777778,
             "#000018"
            ],
            [
             0.8888888888888888,
             "#000019"
            ],
            [
             1,
             "#000020"
            ]
           ]
          },
          "colorscale": {
           "diverging": [
            [
             0,
             "#000021"
            ],
            [
             0.1,
             "#000022"
            ],
            [
             0.2,
             "#000023"
            ],
            [
             0.3,
             "#000024"
            ],
            [
             0.4,
             "#000025"
            ],
            [
             0.5,
             "#000026"
            ],
            [
             0.6,
             "#000027"
            ],
            [
             0.7,
             "#000028"
            ],
            [
             0.8,
             "#000029"
            ],
            [
             0.9,
             "#000030"
            ],
            [
             1,
             "#000031"
            ]
           ],
           "sequential": [
            [
             0,
             "#000011"
            ],
            [
             0.1111111111111111,
             "#000012"
            ],
            [
             0.2222222222222222,
             "#000013"
            ],
            [
             0.3333333333333333,
             "#000014"
            ],
            [
             0.4444444444444444,
             "#000015"
            ],
            [
             0.5555555555555556,
             "#000016"
            ],
            [
             0.6666666666666666,
             "#000017"
            ],
            [
             0.7777777777777778,
             "#000018"
            ],
            [
             0.8888888888888888,
             "#000019"
            ],
            [
             1,
             "#000020"
            ]
           ],
           "sequentialminus": [
            [
             0,
             "#000011"
            ],
            [
             0.1111111111111111,
             "#000012"
            ],
            [
             0.2222222222222222,
             "#000013"
            ],
            [
             0.3333333333333333,
             "#000014"
            ],
            [
             0.4444444444444444,
             "#000015"
            ],
            [
             0.5555555555555556,
             "#000016"
            ],
            [
             0.6666666666666666,
             "#000017"
            ],
            [
             0.7777777777777778,
             "#000018"
            ],
            [
             0.8888888888888888,
             "#000019"
            ],
            [
             1,
             "#000020"
            ]
           ]
          },
          "colorway": [
           "#000001",
           "#000002",
           "#000003",
           "#000004",
           "#000005",
           "#000006",
           "#000007",
           "#000008",
           "#000009",
           "#000010"
          ]
         }
        },
        "title": {
         "text": "Trending Vintages"
        },
        "xaxis": {
         "anchor": "y",
         "domain": [
          0,
          1
         ],
         "title": {
          "text": "name"
         }
        },
        "yaxis": {
         "anchor": "x",
         "domain": [
          0,
          1
         ],
         "title": {
          "text": "ratings_count"
         }
        }
       }
      }
     },
     "metadata": {},
     "output_type": "display_data"
    }
   ],
   "source": [
    "import sqlite3\n",
    "import pandas as pd\n",
    "import plotly.express as px\n",
    "\n",
    "# Connect to the SQLite database\n",
    "conn = sqlite3.connect(r'C:\\Users\\samve\\OneDrive\\0BeCode\\repos\\wine_market_analysis\\data\\vivino.db')\n",
    "\n",
    "# Execute the query and fetch data\n",
    "query = \"\"\"\n",
    "SELECT v.id, v.name, v.ratings_count, w.name AS wine_name\n",
    "FROM vintages AS v\n",
    "JOIN wines AS w ON v.wine_id = w.id\n",
    "WHERE v.ratings_count > 1000\n",
    "ORDER BY v.ratings_count DESC\n",
    "LIMIT 10;\n",
    "\"\"\"\n",
    "result = conn.execute(query).fetchall()\n",
    "\n",
    "# Close the database connection\n",
    "conn.close()\n",
    "\n",
    "# Convert the result to a Pandas DataFrame\n",
    "columns = ['id', 'name', 'ratings_count', 'wine_name']\n",
    "df = pd.DataFrame(result, columns=columns)\n",
    "\n",
    "# Create a Plotly visualization\n",
    "fig = px.bar(df, x='name', y='ratings_count', title='Trending Vintages')\n",
    "fig.show()\n"
   ]
  },
  {
   "cell_type": "code",
   "execution_count": 37,
   "metadata": {},
   "outputs": [
    {
     "data": {
      "application/vnd.plotly.v1+json": {
       "config": {
        "plotlyServerURL": "https://plot.ly"
       },
       "data": [
        {
         "alignmentgroup": "True",
         "customdata": [
          [
           "Waterford Estate Kevin Arnold Shiraz 2016",
           26.9
          ],
          [
           "Taaibosch Estate Crescendo 2019",
           29.95
          ]
         ],
         "hovertemplate": "country_name=%{x}<br>ratings_count=%{y}<br>vintage_name=%{customdata[0]}<br>price_euros=%{customdata[1]}<extra></extra>",
         "legendgroup": "Afrique du Sud",
         "marker": {
          "color": "rgb(102,194,165)",
          "pattern": {
           "shape": ""
          }
         },
         "name": "Afrique du Sud",
         "offsetgroup": "Afrique du Sud",
         "orientation": "v",
         "showlegend": true,
         "textposition": "auto",
         "type": "bar",
         "x": [
          "Afrique du Sud",
          "Afrique du Sud"
         ],
         "xaxis": "x",
         "y": [
          466,
          301
         ],
         "yaxis": "y"
        },
        {
         "alignmentgroup": "True",
         "customdata": [
          [
           "Rutini Malbec 2019",
           25.99
          ]
         ],
         "hovertemplate": "country_name=%{x}<br>ratings_count=%{y}<br>vintage_name=%{customdata[0]}<br>price_euros=%{customdata[1]}<extra></extra>",
         "legendgroup": "Argentine",
         "marker": {
          "color": "rgb(252,141,98)",
          "pattern": {
           "shape": ""
          }
         },
         "name": "Argentine",
         "offsetgroup": "Argentine",
         "orientation": "v",
         "showlegend": true,
         "textposition": "auto",
         "type": "bar",
         "x": [
          "Argentine"
         ],
         "xaxis": "x",
         "y": [
          2567
         ],
         "yaxis": "y"
        },
        {
         "alignmentgroup": "True",
         "customdata": [
          [
           "El Principal Memorias 2018",
           29.95
          ],
          [
           "Von Siebenthal Carabantes Syrah 2020",
           27.98
          ]
         ],
         "hovertemplate": "country_name=%{x}<br>ratings_count=%{y}<br>vintage_name=%{customdata[0]}<br>price_euros=%{customdata[1]}<extra></extra>",
         "legendgroup": "Chili",
         "marker": {
          "color": "rgb(141,160,203)",
          "pattern": {
           "shape": ""
          }
         },
         "name": "Chili",
         "offsetgroup": "Chili",
         "orientation": "v",
         "showlegend": true,
         "textposition": "auto",
         "type": "bar",
         "x": [
          "Chili",
          "Chili"
         ],
         "xaxis": "x",
         "y": [
          804,
          227
         ],
         "yaxis": "y"
        },
        {
         "alignmentgroup": "True",
         "customdata": [
          [
           "Château Voigny Sauternes 2019",
           13.95
          ],
          [
           "Mas Belles Eaux Carmin 2020",
           29.45
          ]
         ],
         "hovertemplate": "country_name=%{x}<br>ratings_count=%{y}<br>vintage_name=%{customdata[0]}<br>price_euros=%{customdata[1]}<extra></extra>",
         "legendgroup": "France",
         "marker": {
          "color": "rgb(231,138,195)",
          "pattern": {
           "shape": ""
          }
         },
         "name": "France",
         "offsetgroup": "France",
         "orientation": "v",
         "showlegend": true,
         "textposition": "auto",
         "type": "bar",
         "x": [
          "France",
          "France"
         ],
         "xaxis": "x",
         "y": [
          143,
          16
         ],
         "yaxis": "y"
        },
        {
         "alignmentgroup": "True",
         "customdata": [
          [
           "Guerrieri Guerriero della Terra 2019",
           27.4
          ],
          [
           "San Marzano 60 Sessantanni Old Vines Primitivo di Manduria 2018",
           24.75
          ],
          [
           "Vigneti del Salento Vigne Vecchie Gold Series Leggenda Primitivo di Manduria 2019",
           23.95
          ],
          [
           "Luccarelli Il Bacca Old Vine Primitivo di Manduria 2019",
           27.75
          ],
          [
           "Luccarelli Old Vines Primitivo di Manduria 2019",
           20.95
          ],
          [
           "Farnese Cinque Autoctoni Collection Limited Release 2020",
           23.9
          ],
          [
           "Cignomoro 50 Old Vines Vecchie Vigne Negroamaro 2019",
           28.45
          ],
          [
           "Guerrieri Guerriero della Terra 2020",
           25.95
          ],
          [
           "Cignomoro 6 Anime Puglia Rosso 2021",
           27.3
          ],
          [
           "Puglia Pop Luminaria Primitivo di Manduria 2021",
           24.95
          ],
          [
           "Cignomoro Primitivo di Manduria 2021",
           18.75
          ],
          [
           "Puglia Pop Triglia Negroamaro Rosato 2022",
           22.95
          ],
          [
           "Guerrieri Guerriero del Mare 2021",
           27.95
          ],
          [
           "Varvaglione Paralupi Appassimento 2021",
           13.88
          ],
          [
           "Nic Tartaglia Trebbiano d'Abruzzo 2022",
           13.333333333333334
          ]
         ],
         "hovertemplate": "country_name=%{x}<br>ratings_count=%{y}<br>vintage_name=%{customdata[0]}<br>price_euros=%{customdata[1]}<extra></extra>",
         "legendgroup": "Italie",
         "marker": {
          "color": "rgb(166,216,84)",
          "pattern": {
           "shape": ""
          }
         },
         "name": "Italie",
         "offsetgroup": "Italie",
         "orientation": "v",
         "showlegend": true,
         "textposition": "auto",
         "type": "bar",
         "x": [
          "Italie",
          "Italie",
          "Italie",
          "Italie",
          "Italie",
          "Italie",
          "Italie",
          "Italie",
          "Italie",
          "Italie",
          "Italie",
          "Italie",
          "Italie",
          "Italie",
          "Italie"
         ],
         "xaxis": "x",
         "y": [
          1803,
          1748,
          424,
          276,
          274,
          255,
          200,
          182,
          140,
          71,
          32,
          25,
          15,
          6,
          6
         ],
         "yaxis": "y"
        },
        {
         "alignmentgroup": "True",
         "customdata": [
          [
           "Gitana Saperavi 2020",
           29.29
          ]
         ],
         "hovertemplate": "country_name=%{x}<br>ratings_count=%{y}<br>vintage_name=%{customdata[0]}<br>price_euros=%{customdata[1]}<extra></extra>",
         "legendgroup": "Moldavie",
         "marker": {
          "color": "rgb(255,217,47)",
          "pattern": {
           "shape": ""
          }
         },
         "name": "Moldavie",
         "offsetgroup": "Moldavie",
         "orientation": "v",
         "showlegend": true,
         "textposition": "auto",
         "type": "bar",
         "x": [
          "Moldavie"
         ],
         "xaxis": "x",
         "y": [
          22
         ],
         "yaxis": "y"
        },
        {
         "alignmentgroup": "True",
         "customdata": [
          [
           "Casa Ermelinda Freitas Dona Ermelinda Grande Reserva 2017",
           29.95
          ],
          [
           "Quinta do Paral Vinhas Velhas Tinto 2019",
           29.95
          ]
         ],
         "hovertemplate": "country_name=%{x}<br>ratings_count=%{y}<br>vintage_name=%{customdata[0]}<br>price_euros=%{customdata[1]}<extra></extra>",
         "legendgroup": "Portugal",
         "marker": {
          "color": "rgb(229,196,148)",
          "pattern": {
           "shape": ""
          }
         },
         "name": "Portugal",
         "offsetgroup": "Portugal",
         "orientation": "v",
         "showlegend": true,
         "textposition": "auto",
         "type": "bar",
         "x": [
          "Portugal",
          "Portugal"
         ],
         "xaxis": "x",
         "y": [
          483,
          181
         ],
         "yaxis": "y"
        }
       ],
       "layout": {
        "barmode": "relative",
        "legend": {
         "title": {
          "text": "country_name"
         },
         "tracegroupgap": 0
        },
        "template": {
         "data": {
          "candlestick": [
           {
            "decreasing": {
             "line": {
              "color": "#000033"
             }
            },
            "increasing": {
             "line": {
              "color": "#000032"
             }
            },
            "type": "candlestick"
           }
          ],
          "contour": [
           {
            "colorscale": [
             [
              0,
              "#000011"
             ],
             [
              0.1111111111111111,
              "#000012"
             ],
             [
              0.2222222222222222,
              "#000013"
             ],
             [
              0.3333333333333333,
              "#000014"
             ],
             [
              0.4444444444444444,
              "#000015"
             ],
             [
              0.5555555555555556,
              "#000016"
             ],
             [
              0.6666666666666666,
              "#000017"
             ],
             [
              0.7777777777777778,
              "#000018"
             ],
             [
              0.8888888888888888,
              "#000019"
             ],
             [
              1,
              "#000020"
             ]
            ],
            "type": "contour"
           }
          ],
          "contourcarpet": [
           {
            "colorscale": [
             [
              0,
              "#000011"
             ],
             [
              0.1111111111111111,
              "#000012"
             ],
             [
              0.2222222222222222,
              "#000013"
             ],
             [
              0.3333333333333333,
              "#000014"
             ],
             [
              0.4444444444444444,
              "#000015"
             ],
             [
              0.5555555555555556,
              "#000016"
             ],
             [
              0.6666666666666666,
              "#000017"
             ],
             [
              0.7777777777777778,
              "#000018"
             ],
             [
              0.8888888888888888,
              "#000019"
             ],
             [
              1,
              "#000020"
             ]
            ],
            "type": "contourcarpet"
           }
          ],
          "heatmap": [
           {
            "colorscale": [
             [
              0,
              "#000011"
             ],
             [
              0.1111111111111111,
              "#000012"
             ],
             [
              0.2222222222222222,
              "#000013"
             ],
             [
              0.3333333333333333,
              "#000014"
             ],
             [
              0.4444444444444444,
              "#000015"
             ],
             [
              0.5555555555555556,
              "#000016"
             ],
             [
              0.6666666666666666,
              "#000017"
             ],
             [
              0.7777777777777778,
              "#000018"
             ],
             [
              0.8888888888888888,
              "#000019"
             ],
             [
              1,
              "#000020"
             ]
            ],
            "type": "heatmap"
           }
          ],
          "histogram2d": [
           {
            "colorscale": [
             [
              0,
              "#000011"
             ],
             [
              0.1111111111111111,
              "#000012"
             ],
             [
              0.2222222222222222,
              "#000013"
             ],
             [
              0.3333333333333333,
              "#000014"
             ],
             [
              0.4444444444444444,
              "#000015"
             ],
             [
              0.5555555555555556,
              "#000016"
             ],
             [
              0.6666666666666666,
              "#000017"
             ],
             [
              0.7777777777777778,
              "#000018"
             ],
             [
              0.8888888888888888,
              "#000019"
             ],
             [
              1,
              "#000020"
             ]
            ],
            "type": "histogram2d"
           }
          ],
          "icicle": [
           {
            "textfont": {
             "color": "white"
            },
            "type": "icicle"
           }
          ],
          "sankey": [
           {
            "textfont": {
             "color": "#000036"
            },
            "type": "sankey"
           }
          ],
          "scatter": [
           {
            "marker": {
             "line": {
              "width": 0
             }
            },
            "type": "scatter"
           }
          ],
          "table": [
           {
            "cells": {
             "fill": {
              "color": "#000038"
             },
             "font": {
              "color": "#000037"
             },
             "line": {
              "color": "#000039"
             }
            },
            "header": {
             "fill": {
              "color": "#000040"
             },
             "font": {
              "color": "#000036"
             },
             "line": {
              "color": "#000039"
             }
            },
            "type": "table"
           }
          ],
          "waterfall": [
           {
            "connector": {
             "line": {
              "color": "#000036",
              "width": 2
             }
            },
            "decreasing": {
             "marker": {
              "color": "#000033"
             }
            },
            "increasing": {
             "marker": {
              "color": "#000032"
             }
            },
            "totals": {
             "marker": {
              "color": "#000034"
             }
            },
            "type": "waterfall"
           }
          ]
         },
         "layout": {
          "coloraxis": {
           "colorscale": [
            [
             0,
             "#000011"
            ],
            [
             0.1111111111111111,
             "#000012"
            ],
            [
             0.2222222222222222,
             "#000013"
            ],
            [
             0.3333333333333333,
             "#000014"
            ],
            [
             0.4444444444444444,
             "#000015"
            ],
            [
             0.5555555555555556,
             "#000016"
            ],
            [
             0.6666666666666666,
             "#000017"
            ],
            [
             0.7777777777777778,
             "#000018"
            ],
            [
             0.8888888888888888,
             "#000019"
            ],
            [
             1,
             "#000020"
            ]
           ]
          },
          "colorscale": {
           "diverging": [
            [
             0,
             "#000021"
            ],
            [
             0.1,
             "#000022"
            ],
            [
             0.2,
             "#000023"
            ],
            [
             0.3,
             "#000024"
            ],
            [
             0.4,
             "#000025"
            ],
            [
             0.5,
             "#000026"
            ],
            [
             0.6,
             "#000027"
            ],
            [
             0.7,
             "#000028"
            ],
            [
             0.8,
             "#000029"
            ],
            [
             0.9,
             "#000030"
            ],
            [
             1,
             "#000031"
            ]
           ],
           "sequential": [
            [
             0,
             "#000011"
            ],
            [
             0.1111111111111111,
             "#000012"
            ],
            [
             0.2222222222222222,
             "#000013"
            ],
            [
             0.3333333333333333,
             "#000014"
            ],
            [
             0.4444444444444444,
             "#000015"
            ],
            [
             0.5555555555555556,
             "#000016"
            ],
            [
             0.6666666666666666,
             "#000017"
            ],
            [
             0.7777777777777778,
             "#000018"
            ],
            [
             0.8888888888888888,
             "#000019"
            ],
            [
             1,
             "#000020"
            ]
           ],
           "sequentialminus": [
            [
             0,
             "#000011"
            ],
            [
             0.1111111111111111,
             "#000012"
            ],
            [
             0.2222222222222222,
             "#000013"
            ],
            [
             0.3333333333333333,
             "#000014"
            ],
            [
             0.4444444444444444,
             "#000015"
            ],
            [
             0.5555555555555556,
             "#000016"
            ],
            [
             0.6666666666666666,
             "#000017"
            ],
            [
             0.7777777777777778,
             "#000018"
            ],
            [
             0.8888888888888888,
             "#000019"
            ],
            [
             1,
             "#000020"
            ]
           ]
          },
          "colorway": [
           "#000001",
           "#000002",
           "#000003",
           "#000004",
           "#000005",
           "#000006",
           "#000007",
           "#000008",
           "#000009",
           "#000010"
          ]
         }
        },
        "title": {
         "text": "Best-Selling Vintages by Country"
        },
        "xaxis": {
         "anchor": "y",
         "categoryarray": [
          "Afrique du Sud",
          "Argentine",
          "Chili",
          "France",
          "Italie",
          "Moldavie",
          "Portugal"
         ],
         "categoryorder": "array",
         "domain": [
          0,
          1
         ],
         "title": {
          "text": "Country"
         }
        },
        "yaxis": {
         "anchor": "x",
         "domain": [
          0,
          1
         ],
         "title": {
          "text": "Ratings Count"
         }
        }
       }
      }
     },
     "metadata": {},
     "output_type": "display_data"
    }
   ],
   "source": [
    "import sqlite3\n",
    "import pandas as pd\n",
    "import plotly.express as px\n",
    "\n",
    "# Connect to the SQLite database\n",
    "conn = sqlite3.connect(r'C:\\Users\\samve\\OneDrive\\0BeCode\\repos\\wine_market_analysis\\data\\vivino.db')\n",
    "\n",
    "# Execute the query and fetch data\n",
    "query = \"\"\"\n",
    "SELECT c.name AS country_name, v.name AS vintage_name, v.ratings_count, v.price_euros\n",
    "FROM vintages AS v\n",
    "JOIN wines AS w ON v.wine_id = w.id\n",
    "JOIN regions AS r ON w.region_id = r.id\n",
    "JOIN countries AS c ON r.country_code = c.code\n",
    "WHERE v.price_euros < 30\n",
    "GROUP BY c.name, v.name\n",
    "ORDER BY c.name, v.ratings_count DESC;\n",
    "\"\"\"\n",
    "result = conn.execute(query).fetchall()\n",
    "\n",
    "# Close the database connection\n",
    "conn.close()\n",
    "\n",
    "# Convert the result to a Pandas DataFrame\n",
    "columns = ['country_name', 'vintage_name', 'ratings_count', 'price_euros']\n",
    "df = pd.DataFrame(result, columns=columns)\n",
    "\n",
    "# Create a Plotly visualization\n",
    "fig = px.bar(df, x='country_name', y='ratings_count', color='country_name',\n",
    "             hover_data=['vintage_name', 'price_euros'],\n",
    "             title='Best-Selling Vintages by Country')\n",
    "fig.update_layout(xaxis_title='Country', yaxis_title='Ratings Count')\n",
    "fig.show()\n"
   ]
  },
  {
   "cell_type": "code",
   "execution_count": 39,
   "metadata": {},
   "outputs": [
    {
     "data": {
      "application/vnd.plotly.v1+json": {
       "config": {
        "plotlyServerURL": "https://plot.ly"
       },
       "data": [
        {
         "alignmentgroup": "True",
         "customdata": [
          [
           "Argentine",
           25.99
          ]
         ],
         "hovertemplate": "country_name=%{customdata[0]}<br>vintage_name=%{x}<br>ratings_count=%{y}<br>price_euros=%{customdata[1]}<extra></extra>",
         "legendgroup": "Argentine",
         "marker": {
          "color": "rgb(102,194,165)",
          "pattern": {
           "shape": ""
          }
         },
         "name": "Argentine",
         "offsetgroup": "Argentine",
         "orientation": "v",
         "showlegend": true,
         "textposition": "auto",
         "type": "bar",
         "x": [
          "Rutini Malbec 2019"
         ],
         "xaxis": "x",
         "y": [
          2567
         ],
         "yaxis": "y"
        },
        {
         "alignmentgroup": "True",
         "customdata": [
          [
           "Italie",
           27.4
          ],
          [
           "Italie",
           24.75
          ],
          [
           "Italie",
           23.95
          ],
          [
           "Italie",
           27.75
          ],
          [
           "Italie",
           20.95
          ]
         ],
         "hovertemplate": "country_name=%{customdata[0]}<br>vintage_name=%{x}<br>ratings_count=%{y}<br>price_euros=%{customdata[1]}<extra></extra>",
         "legendgroup": "Italie",
         "marker": {
          "color": "rgb(252,141,98)",
          "pattern": {
           "shape": ""
          }
         },
         "name": "Italie",
         "offsetgroup": "Italie",
         "orientation": "v",
         "showlegend": true,
         "textposition": "auto",
         "type": "bar",
         "x": [
          "Guerrieri Guerriero della Terra 2019",
          "San Marzano 60 Sessantanni Old Vines Primitivo di Manduria 2018",
          "Vigneti del Salento Vigne Vecchie Gold Series Leggenda Primitivo di Manduria 2019",
          "Luccarelli Il Bacca Old Vine Primitivo di Manduria 2019",
          "Luccarelli Old Vines Primitivo di Manduria 2019"
         ],
         "xaxis": "x",
         "y": [
          1803,
          1748,
          424,
          276,
          274
         ],
         "yaxis": "y"
        },
        {
         "alignmentgroup": "True",
         "customdata": [
          [
           "Chili",
           29.95
          ]
         ],
         "hovertemplate": "country_name=%{customdata[0]}<br>vintage_name=%{x}<br>ratings_count=%{y}<br>price_euros=%{customdata[1]}<extra></extra>",
         "legendgroup": "Chili",
         "marker": {
          "color": "rgb(141,160,203)",
          "pattern": {
           "shape": ""
          }
         },
         "name": "Chili",
         "offsetgroup": "Chili",
         "orientation": "v",
         "showlegend": true,
         "textposition": "auto",
         "type": "bar",
         "x": [
          "El Principal Memorias 2018"
         ],
         "xaxis": "x",
         "y": [
          804
         ],
         "yaxis": "y"
        },
        {
         "alignmentgroup": "True",
         "customdata": [
          [
           "Portugal",
           29.95
          ]
         ],
         "hovertemplate": "country_name=%{customdata[0]}<br>vintage_name=%{x}<br>ratings_count=%{y}<br>price_euros=%{customdata[1]}<extra></extra>",
         "legendgroup": "Portugal",
         "marker": {
          "color": "rgb(231,138,195)",
          "pattern": {
           "shape": ""
          }
         },
         "name": "Portugal",
         "offsetgroup": "Portugal",
         "orientation": "v",
         "showlegend": true,
         "textposition": "auto",
         "type": "bar",
         "x": [
          "Casa Ermelinda Freitas Dona Ermelinda Grande Reserva 2017"
         ],
         "xaxis": "x",
         "y": [
          483
         ],
         "yaxis": "y"
        },
        {
         "alignmentgroup": "True",
         "customdata": [
          [
           "Afrique du Sud",
           26.9
          ],
          [
           "Afrique du Sud",
           29.95
          ]
         ],
         "hovertemplate": "country_name=%{customdata[0]}<br>vintage_name=%{x}<br>ratings_count=%{y}<br>price_euros=%{customdata[1]}<extra></extra>",
         "legendgroup": "Afrique du Sud",
         "marker": {
          "color": "rgb(166,216,84)",
          "pattern": {
           "shape": ""
          }
         },
         "name": "Afrique du Sud",
         "offsetgroup": "Afrique du Sud",
         "orientation": "v",
         "showlegend": true,
         "textposition": "auto",
         "type": "bar",
         "x": [
          "Waterford Estate Kevin Arnold Shiraz 2016",
          "Taaibosch Estate Crescendo 2019"
         ],
         "xaxis": "x",
         "y": [
          466,
          301
         ],
         "yaxis": "y"
        }
       ],
       "layout": {
        "barmode": "relative",
        "legend": {
         "title": {
          "text": "country_name"
         },
         "tracegroupgap": 0
        },
        "template": {
         "data": {
          "candlestick": [
           {
            "decreasing": {
             "line": {
              "color": "#000033"
             }
            },
            "increasing": {
             "line": {
              "color": "#000032"
             }
            },
            "type": "candlestick"
           }
          ],
          "contour": [
           {
            "colorscale": [
             [
              0,
              "#000011"
             ],
             [
              0.1111111111111111,
              "#000012"
             ],
             [
              0.2222222222222222,
              "#000013"
             ],
             [
              0.3333333333333333,
              "#000014"
             ],
             [
              0.4444444444444444,
              "#000015"
             ],
             [
              0.5555555555555556,
              "#000016"
             ],
             [
              0.6666666666666666,
              "#000017"
             ],
             [
              0.7777777777777778,
              "#000018"
             ],
             [
              0.8888888888888888,
              "#000019"
             ],
             [
              1,
              "#000020"
             ]
            ],
            "type": "contour"
           }
          ],
          "contourcarpet": [
           {
            "colorscale": [
             [
              0,
              "#000011"
             ],
             [
              0.1111111111111111,
              "#000012"
             ],
             [
              0.2222222222222222,
              "#000013"
             ],
             [
              0.3333333333333333,
              "#000014"
             ],
             [
              0.4444444444444444,
              "#000015"
             ],
             [
              0.5555555555555556,
              "#000016"
             ],
             [
              0.6666666666666666,
              "#000017"
             ],
             [
              0.7777777777777778,
              "#000018"
             ],
             [
              0.8888888888888888,
              "#000019"
             ],
             [
              1,
              "#000020"
             ]
            ],
            "type": "contourcarpet"
           }
          ],
          "heatmap": [
           {
            "colorscale": [
             [
              0,
              "#000011"
             ],
             [
              0.1111111111111111,
              "#000012"
             ],
             [
              0.2222222222222222,
              "#000013"
             ],
             [
              0.3333333333333333,
              "#000014"
             ],
             [
              0.4444444444444444,
              "#000015"
             ],
             [
              0.5555555555555556,
              "#000016"
             ],
             [
              0.6666666666666666,
              "#000017"
             ],
             [
              0.7777777777777778,
              "#000018"
             ],
             [
              0.8888888888888888,
              "#000019"
             ],
             [
              1,
              "#000020"
             ]
            ],
            "type": "heatmap"
           }
          ],
          "histogram2d": [
           {
            "colorscale": [
             [
              0,
              "#000011"
             ],
             [
              0.1111111111111111,
              "#000012"
             ],
             [
              0.2222222222222222,
              "#000013"
             ],
             [
              0.3333333333333333,
              "#000014"
             ],
             [
              0.4444444444444444,
              "#000015"
             ],
             [
              0.5555555555555556,
              "#000016"
             ],
             [
              0.6666666666666666,
              "#000017"
             ],
             [
              0.7777777777777778,
              "#000018"
             ],
             [
              0.8888888888888888,
              "#000019"
             ],
             [
              1,
              "#000020"
             ]
            ],
            "type": "histogram2d"
           }
          ],
          "icicle": [
           {
            "textfont": {
             "color": "white"
            },
            "type": "icicle"
           }
          ],
          "sankey": [
           {
            "textfont": {
             "color": "#000036"
            },
            "type": "sankey"
           }
          ],
          "scatter": [
           {
            "marker": {
             "line": {
              "width": 0
             }
            },
            "type": "scatter"
           }
          ],
          "table": [
           {
            "cells": {
             "fill": {
              "color": "#000038"
             },
             "font": {
              "color": "#000037"
             },
             "line": {
              "color": "#000039"
             }
            },
            "header": {
             "fill": {
              "color": "#000040"
             },
             "font": {
              "color": "#000036"
             },
             "line": {
              "color": "#000039"
             }
            },
            "type": "table"
           }
          ],
          "waterfall": [
           {
            "connector": {
             "line": {
              "color": "#000036",
              "width": 2
             }
            },
            "decreasing": {
             "marker": {
              "color": "#000033"
             }
            },
            "increasing": {
             "marker": {
              "color": "#000032"
             }
            },
            "totals": {
             "marker": {
              "color": "#000034"
             }
            },
            "type": "waterfall"
           }
          ]
         },
         "layout": {
          "coloraxis": {
           "colorscale": [
            [
             0,
             "#000011"
            ],
            [
             0.1111111111111111,
             "#000012"
            ],
            [
             0.2222222222222222,
             "#000013"
            ],
            [
             0.3333333333333333,
             "#000014"
            ],
            [
             0.4444444444444444,
             "#000015"
            ],
            [
             0.5555555555555556,
             "#000016"
            ],
            [
             0.6666666666666666,
             "#000017"
            ],
            [
             0.7777777777777778,
             "#000018"
            ],
            [
             0.8888888888888888,
             "#000019"
            ],
            [
             1,
             "#000020"
            ]
           ]
          },
          "colorscale": {
           "diverging": [
            [
             0,
             "#000021"
            ],
            [
             0.1,
             "#000022"
            ],
            [
             0.2,
             "#000023"
            ],
            [
             0.3,
             "#000024"
            ],
            [
             0.4,
             "#000025"
            ],
            [
             0.5,
             "#000026"
            ],
            [
             0.6,
             "#000027"
            ],
            [
             0.7,
             "#000028"
            ],
            [
             0.8,
             "#000029"
            ],
            [
             0.9,
             "#000030"
            ],
            [
             1,
             "#000031"
            ]
           ],
           "sequential": [
            [
             0,
             "#000011"
            ],
            [
             0.1111111111111111,
             "#000012"
            ],
            [
             0.2222222222222222,
             "#000013"
            ],
            [
             0.3333333333333333,
             "#000014"
            ],
            [
             0.4444444444444444,
             "#000015"
            ],
            [
             0.5555555555555556,
             "#000016"
            ],
            [
             0.6666666666666666,
             "#000017"
            ],
            [
             0.7777777777777778,
             "#000018"
            ],
            [
             0.8888888888888888,
             "#000019"
            ],
            [
             1,
             "#000020"
            ]
           ],
           "sequentialminus": [
            [
             0,
             "#000011"
            ],
            [
             0.1111111111111111,
             "#000012"
            ],
            [
             0.2222222222222222,
             "#000013"
            ],
            [
             0.3333333333333333,
             "#000014"
            ],
            [
             0.4444444444444444,
             "#000015"
            ],
            [
             0.5555555555555556,
             "#000016"
            ],
            [
             0.6666666666666666,
             "#000017"
            ],
            [
             0.7777777777777778,
             "#000018"
            ],
            [
             0.8888888888888888,
             "#000019"
            ],
            [
             1,
             "#000020"
            ]
           ]
          },
          "colorway": [
           "#000001",
           "#000002",
           "#000003",
           "#000004",
           "#000005",
           "#000006",
           "#000007",
           "#000008",
           "#000009",
           "#000010"
          ]
         }
        },
        "title": {
         "text": "Top 10 Selling Vintages"
        },
        "xaxis": {
         "anchor": "y",
         "domain": [
          0,
          1
         ],
         "title": {
          "text": "Vintage"
         }
        },
        "yaxis": {
         "anchor": "x",
         "domain": [
          0,
          1
         ],
         "title": {
          "text": "Ratings Count"
         }
        }
       }
      }
     },
     "metadata": {},
     "output_type": "display_data"
    }
   ],
   "source": [
    "import sqlite3\n",
    "import pandas as pd\n",
    "import plotly.express as px\n",
    "\n",
    "# Connect to the SQLite database\n",
    "conn = sqlite3.connect(r'C:\\Users\\samve\\OneDrive\\0BeCode\\repos\\wine_market_analysis\\data\\vivino.db')\n",
    "\n",
    "# Execute the query and fetch data\n",
    "query = \"\"\"\n",
    "SELECT c.name AS country_name, v.name AS vintage_name, v.ratings_count, v.price_euros\n",
    "FROM vintages AS v\n",
    "JOIN wines AS w ON v.wine_id = w.id\n",
    "JOIN regions AS r ON w.region_id = r.id\n",
    "JOIN countries AS c ON r.country_code = c.code\n",
    "WHERE v.price_euros < 30\n",
    "ORDER BY v.ratings_count DESC\n",
    "LIMIT 10;\n",
    "\"\"\"\n",
    "result = conn.execute(query).fetchall()\n",
    "\n",
    "# Close the database connection\n",
    "conn.close()\n",
    "\n",
    "# Convert the result to a Pandas DataFrame\n",
    "columns = ['country_name', 'vintage_name', 'ratings_count', 'price_euros']\n",
    "df = pd.DataFrame(result, columns=columns)\n",
    "\n",
    "# Create a Plotly visualization\n",
    "fig = px.bar(df, x='vintage_name', y='ratings_count', color='country_name',\n",
    "             hover_data=['country_name', 'price_euros'],\n",
    "             title='Top 10 Selling Vintages')\n",
    "fig.update_layout(xaxis_title='Vintage', yaxis_title='Ratings Count')\n",
    "fig.show()\n"
   ]
  },
  {
   "cell_type": "code",
   "execution_count": 41,
   "metadata": {},
   "outputs": [
    {
     "data": {
      "application/vnd.plotly.v1+json": {
       "config": {
        "plotlyServerURL": "https://plot.ly"
       },
       "data": [
        {
         "alignmentgroup": "True",
         "customdata": [
          [
           "Afrique du Sud",
           26.9
          ],
          [
           "Afrique du Sud",
           29.95
          ]
         ],
         "hovertemplate": "country_name=%{customdata[0]}<br>vintage_name=%{x}<br>ratings_count=%{y}<br>price_euros=%{customdata[1]}<extra></extra>",
         "legendgroup": "Afrique du Sud",
         "marker": {
          "color": "rgb(102,194,165)",
          "pattern": {
           "shape": ""
          }
         },
         "name": "Afrique du Sud",
         "offsetgroup": "Afrique du Sud",
         "orientation": "v",
         "showlegend": true,
         "textposition": "auto",
         "type": "bar",
         "x": [
          "Waterford Estate Kevin Arnold Shiraz 2016",
          "Taaibosch Estate Crescendo 2019"
         ],
         "xaxis": "x5",
         "y": [
          466,
          301
         ],
         "yaxis": "y5"
        },
        {
         "alignmentgroup": "True",
         "customdata": [
          [
           "Argentine",
           25.99
          ]
         ],
         "hovertemplate": "country_name=%{customdata[0]}<br>vintage_name=%{x}<br>ratings_count=%{y}<br>price_euros=%{customdata[1]}<extra></extra>",
         "legendgroup": "Argentine",
         "marker": {
          "color": "rgb(252,141,98)",
          "pattern": {
           "shape": ""
          }
         },
         "name": "Argentine",
         "offsetgroup": "Argentine",
         "orientation": "v",
         "showlegend": true,
         "textposition": "auto",
         "type": "bar",
         "x": [
          "Rutini Malbec 2019"
         ],
         "xaxis": "x6",
         "y": [
          2567
         ],
         "yaxis": "y6"
        },
        {
         "alignmentgroup": "True",
         "customdata": [
          [
           "Chili",
           29.95
          ],
          [
           "Chili",
           27.98
          ]
         ],
         "hovertemplate": "country_name=%{customdata[0]}<br>vintage_name=%{x}<br>ratings_count=%{y}<br>price_euros=%{customdata[1]}<extra></extra>",
         "legendgroup": "Chili",
         "marker": {
          "color": "rgb(141,160,203)",
          "pattern": {
           "shape": ""
          }
         },
         "name": "Chili",
         "offsetgroup": "Chili",
         "orientation": "v",
         "showlegend": true,
         "textposition": "auto",
         "type": "bar",
         "x": [
          "El Principal Memorias 2018",
          "Von Siebenthal Carabantes Syrah 2020"
         ],
         "xaxis": "x7",
         "y": [
          804,
          227
         ],
         "yaxis": "y7"
        },
        {
         "alignmentgroup": "True",
         "customdata": [
          [
           "France",
           13.95
          ],
          [
           "France",
           29.45
          ]
         ],
         "hovertemplate": "country_name=%{customdata[0]}<br>vintage_name=%{x}<br>ratings_count=%{y}<br>price_euros=%{customdata[1]}<extra></extra>",
         "legendgroup": "France",
         "marker": {
          "color": "rgb(231,138,195)",
          "pattern": {
           "shape": ""
          }
         },
         "name": "France",
         "offsetgroup": "France",
         "orientation": "v",
         "showlegend": true,
         "textposition": "auto",
         "type": "bar",
         "x": [
          "Château Voigny Sauternes 2019",
          "Mas Belles Eaux Carmin 2020"
         ],
         "xaxis": "x8",
         "y": [
          143,
          16
         ],
         "yaxis": "y8"
        },
        {
         "alignmentgroup": "True",
         "customdata": [
          [
           "Italie",
           27.4
          ],
          [
           "Italie",
           24.75
          ],
          [
           "Italie",
           23.95
          ],
          [
           "Italie",
           27.75
          ],
          [
           "Italie",
           20.95
          ],
          [
           "Italie",
           23.9
          ],
          [
           "Italie",
           28.45
          ],
          [
           "Italie",
           25.95
          ],
          [
           "Italie",
           27.3
          ],
          [
           "Italie",
           24.95
          ]
         ],
         "hovertemplate": "country_name=%{customdata[0]}<br>vintage_name=%{x}<br>ratings_count=%{y}<br>price_euros=%{customdata[1]}<extra></extra>",
         "legendgroup": "Italie",
         "marker": {
          "color": "rgb(166,216,84)",
          "pattern": {
           "shape": ""
          }
         },
         "name": "Italie",
         "offsetgroup": "Italie",
         "orientation": "v",
         "showlegend": true,
         "textposition": "auto",
         "type": "bar",
         "x": [
          "Guerrieri Guerriero della Terra 2019",
          "San Marzano 60 Sessantanni Old Vines Primitivo di Manduria 2018",
          "Vigneti del Salento Vigne Vecchie Gold Series Leggenda Primitivo di Manduria 2019",
          "Luccarelli Il Bacca Old Vine Primitivo di Manduria 2019",
          "Luccarelli Old Vines Primitivo di Manduria 2019",
          "Farnese Cinque Autoctoni Collection Limited Release 2020",
          "Cignomoro 50 Old Vines Vecchie Vigne Negroamaro 2019",
          "Guerrieri Guerriero della Terra 2020",
          "Cignomoro 6 Anime Puglia Rosso 2021",
          "Puglia Pop Luminaria Primitivo di Manduria 2021"
         ],
         "xaxis": "x",
         "y": [
          1803,
          1748,
          424,
          276,
          274,
          255,
          200,
          182,
          140,
          71
         ],
         "yaxis": "y"
        },
        {
         "alignmentgroup": "True",
         "customdata": [
          [
           "Moldavie",
           29.29
          ]
         ],
         "hovertemplate": "country_name=%{customdata[0]}<br>vintage_name=%{x}<br>ratings_count=%{y}<br>price_euros=%{customdata[1]}<extra></extra>",
         "legendgroup": "Moldavie",
         "marker": {
          "color": "rgb(255,217,47)",
          "pattern": {
           "shape": ""
          }
         },
         "name": "Moldavie",
         "offsetgroup": "Moldavie",
         "orientation": "v",
         "showlegend": true,
         "textposition": "auto",
         "type": "bar",
         "x": [
          "Gitana Saperavi 2020"
         ],
         "xaxis": "x2",
         "y": [
          22
         ],
         "yaxis": "y2"
        },
        {
         "alignmentgroup": "True",
         "customdata": [
          [
           "Portugal",
           29.95
          ],
          [
           "Portugal",
           29.95
          ]
         ],
         "hovertemplate": "country_name=%{customdata[0]}<br>vintage_name=%{x}<br>ratings_count=%{y}<br>price_euros=%{customdata[1]}<extra></extra>",
         "legendgroup": "Portugal",
         "marker": {
          "color": "rgb(229,196,148)",
          "pattern": {
           "shape": ""
          }
         },
         "name": "Portugal",
         "offsetgroup": "Portugal",
         "orientation": "v",
         "showlegend": true,
         "textposition": "auto",
         "type": "bar",
         "x": [
          "Casa Ermelinda Freitas Dona Ermelinda Grande Reserva 2017",
          "Quinta do Paral Vinhas Velhas Tinto 2019"
         ],
         "xaxis": "x3",
         "y": [
          483,
          181
         ],
         "yaxis": "y3"
        }
       ],
       "layout": {
        "annotations": [
         {
          "font": {},
          "showarrow": false,
          "text": "country_name=Italie",
          "x": 0.1175,
          "xanchor": "center",
          "xref": "paper",
          "y": 0.46499999999999997,
          "yanchor": "bottom",
          "yref": "paper"
         },
         {
          "font": {},
          "showarrow": false,
          "text": "country_name=Moldavie",
          "x": 0.3725,
          "xanchor": "center",
          "xref": "paper",
          "y": 0.46499999999999997,
          "yanchor": "bottom",
          "yref": "paper"
         },
         {
          "font": {},
          "showarrow": false,
          "text": "country_name=Portugal",
          "x": 0.6275,
          "xanchor": "center",
          "xref": "paper",
          "y": 0.46499999999999997,
          "yanchor": "bottom",
          "yref": "paper"
         },
         {
          "font": {},
          "showarrow": false,
          "text": "country_name=Afrique du Sud",
          "x": 0.1175,
          "xanchor": "center",
          "xref": "paper",
          "y": 0.9999999999999999,
          "yanchor": "bottom",
          "yref": "paper"
         },
         {
          "font": {},
          "showarrow": false,
          "text": "country_name=Argentine",
          "x": 0.3725,
          "xanchor": "center",
          "xref": "paper",
          "y": 0.9999999999999999,
          "yanchor": "bottom",
          "yref": "paper"
         },
         {
          "font": {},
          "showarrow": false,
          "text": "country_name=Chili",
          "x": 0.6275,
          "xanchor": "center",
          "xref": "paper",
          "y": 0.9999999999999999,
          "yanchor": "bottom",
          "yref": "paper"
         },
         {
          "font": {},
          "showarrow": false,
          "text": "country_name=France",
          "x": 0.8824999999999998,
          "xanchor": "center",
          "xref": "paper",
          "y": 0.9999999999999999,
          "yanchor": "bottom",
          "yref": "paper"
         }
        ],
        "barmode": "relative",
        "legend": {
         "title": {
          "text": "country_name"
         },
         "tracegroupgap": 0
        },
        "template": {
         "data": {
          "candlestick": [
           {
            "decreasing": {
             "line": {
              "color": "#000033"
             }
            },
            "increasing": {
             "line": {
              "color": "#000032"
             }
            },
            "type": "candlestick"
           }
          ],
          "contour": [
           {
            "colorscale": [
             [
              0,
              "#000011"
             ],
             [
              0.1111111111111111,
              "#000012"
             ],
             [
              0.2222222222222222,
              "#000013"
             ],
             [
              0.3333333333333333,
              "#000014"
             ],
             [
              0.4444444444444444,
              "#000015"
             ],
             [
              0.5555555555555556,
              "#000016"
             ],
             [
              0.6666666666666666,
              "#000017"
             ],
             [
              0.7777777777777778,
              "#000018"
             ],
             [
              0.8888888888888888,
              "#000019"
             ],
             [
              1,
              "#000020"
             ]
            ],
            "type": "contour"
           }
          ],
          "contourcarpet": [
           {
            "colorscale": [
             [
              0,
              "#000011"
             ],
             [
              0.1111111111111111,
              "#000012"
             ],
             [
              0.2222222222222222,
              "#000013"
             ],
             [
              0.3333333333333333,
              "#000014"
             ],
             [
              0.4444444444444444,
              "#000015"
             ],
             [
              0.5555555555555556,
              "#000016"
             ],
             [
              0.6666666666666666,
              "#000017"
             ],
             [
              0.7777777777777778,
              "#000018"
             ],
             [
              0.8888888888888888,
              "#000019"
             ],
             [
              1,
              "#000020"
             ]
            ],
            "type": "contourcarpet"
           }
          ],
          "heatmap": [
           {
            "colorscale": [
             [
              0,
              "#000011"
             ],
             [
              0.1111111111111111,
              "#000012"
             ],
             [
              0.2222222222222222,
              "#000013"
             ],
             [
              0.3333333333333333,
              "#000014"
             ],
             [
              0.4444444444444444,
              "#000015"
             ],
             [
              0.5555555555555556,
              "#000016"
             ],
             [
              0.6666666666666666,
              "#000017"
             ],
             [
              0.7777777777777778,
              "#000018"
             ],
             [
              0.8888888888888888,
              "#000019"
             ],
             [
              1,
              "#000020"
             ]
            ],
            "type": "heatmap"
           }
          ],
          "histogram2d": [
           {
            "colorscale": [
             [
              0,
              "#000011"
             ],
             [
              0.1111111111111111,
              "#000012"
             ],
             [
              0.2222222222222222,
              "#000013"
             ],
             [
              0.3333333333333333,
              "#000014"
             ],
             [
              0.4444444444444444,
              "#000015"
             ],
             [
              0.5555555555555556,
              "#000016"
             ],
             [
              0.6666666666666666,
              "#000017"
             ],
             [
              0.7777777777777778,
              "#000018"
             ],
             [
              0.8888888888888888,
              "#000019"
             ],
             [
              1,
              "#000020"
             ]
            ],
            "type": "histogram2d"
           }
          ],
          "icicle": [
           {
            "textfont": {
             "color": "white"
            },
            "type": "icicle"
           }
          ],
          "sankey": [
           {
            "textfont": {
             "color": "#000036"
            },
            "type": "sankey"
           }
          ],
          "scatter": [
           {
            "marker": {
             "line": {
              "width": 0
             }
            },
            "type": "scatter"
           }
          ],
          "table": [
           {
            "cells": {
             "fill": {
              "color": "#000038"
             },
             "font": {
              "color": "#000037"
             },
             "line": {
              "color": "#000039"
             }
            },
            "header": {
             "fill": {
              "color": "#000040"
             },
             "font": {
              "color": "#000036"
             },
             "line": {
              "color": "#000039"
             }
            },
            "type": "table"
           }
          ],
          "waterfall": [
           {
            "connector": {
             "line": {
              "color": "#000036",
              "width": 2
             }
            },
            "decreasing": {
             "marker": {
              "color": "#000033"
             }
            },
            "increasing": {
             "marker": {
              "color": "#000032"
             }
            },
            "totals": {
             "marker": {
              "color": "#000034"
             }
            },
            "type": "waterfall"
           }
          ]
         },
         "layout": {
          "coloraxis": {
           "colorscale": [
            [
             0,
             "#000011"
            ],
            [
             0.1111111111111111,
             "#000012"
            ],
            [
             0.2222222222222222,
             "#000013"
            ],
            [
             0.3333333333333333,
             "#000014"
            ],
            [
             0.4444444444444444,
             "#000015"
            ],
            [
             0.5555555555555556,
             "#000016"
            ],
            [
             0.6666666666666666,
             "#000017"
            ],
            [
             0.7777777777777778,
             "#000018"
            ],
            [
             0.8888888888888888,
             "#000019"
            ],
            [
             1,
             "#000020"
            ]
           ]
          },
          "colorscale": {
           "diverging": [
            [
             0,
             "#000021"
            ],
            [
             0.1,
             "#000022"
            ],
            [
             0.2,
             "#000023"
            ],
            [
             0.3,
             "#000024"
            ],
            [
             0.4,
             "#000025"
            ],
            [
             0.5,
             "#000026"
            ],
            [
             0.6,
             "#000027"
            ],
            [
             0.7,
             "#000028"
            ],
            [
             0.8,
             "#000029"
            ],
            [
             0.9,
             "#000030"
            ],
            [
             1,
             "#000031"
            ]
           ],
           "sequential": [
            [
             0,
             "#000011"
            ],
            [
             0.1111111111111111,
             "#000012"
            ],
            [
             0.2222222222222222,
             "#000013"
            ],
            [
             0.3333333333333333,
             "#000014"
            ],
            [
             0.4444444444444444,
             "#000015"
            ],
            [
             0.5555555555555556,
             "#000016"
            ],
            [
             0.6666666666666666,
             "#000017"
            ],
            [
             0.7777777777777778,
             "#000018"
            ],
            [
             0.8888888888888888,
             "#000019"
            ],
            [
             1,
             "#000020"
            ]
           ],
           "sequentialminus": [
            [
             0,
             "#000011"
            ],
            [
             0.1111111111111111,
             "#000012"
            ],
            [
             0.2222222222222222,
             "#000013"
            ],
            [
             0.3333333333333333,
             "#000014"
            ],
            [
             0.4444444444444444,
             "#000015"
            ],
            [
             0.5555555555555556,
             "#000016"
            ],
            [
             0.6666666666666666,
             "#000017"
            ],
            [
             0.7777777777777778,
             "#000018"
            ],
            [
             0.8888888888888888,
             "#000019"
            ],
            [
             1,
             "#000020"
            ]
           ]
          },
          "colorway": [
           "#000001",
           "#000002",
           "#000003",
           "#000004",
           "#000005",
           "#000006",
           "#000007",
           "#000008",
           "#000009",
           "#000010"
          ]
         }
        },
        "title": {
         "text": "Top Selling Vintages by Country"
        },
        "xaxis": {
         "anchor": "y",
         "domain": [
          0,
          0.235
         ],
         "title": {
          "text": "Vintage"
         }
        },
        "xaxis2": {
         "anchor": "y2",
         "domain": [
          0.255,
          0.49
         ],
         "matches": "x",
         "title": {
          "text": "vintage_name"
         }
        },
        "xaxis3": {
         "anchor": "y3",
         "domain": [
          0.51,
          0.745
         ],
         "matches": "x",
         "title": {
          "text": "vintage_name"
         }
        },
        "xaxis4": {
         "anchor": "y4",
         "domain": [
          0.7649999999999999,
          0.9999999999999999
         ],
         "matches": "x",
         "title": {
          "text": "vintage_name"
         }
        },
        "xaxis5": {
         "anchor": "y5",
         "domain": [
          0,
          0.235
         ],
         "matches": "x",
         "showticklabels": false
        },
        "xaxis6": {
         "anchor": "y6",
         "domain": [
          0.255,
          0.49
         ],
         "matches": "x",
         "showticklabels": false
        },
        "xaxis7": {
         "anchor": "y7",
         "domain": [
          0.51,
          0.745
         ],
         "matches": "x",
         "showticklabels": false
        },
        "xaxis8": {
         "anchor": "y8",
         "domain": [
          0.7649999999999999,
          0.9999999999999999
         ],
         "matches": "x",
         "showticklabels": false
        },
        "yaxis": {
         "anchor": "x",
         "domain": [
          0,
          0.46499999999999997
         ],
         "title": {
          "text": "Ratings Count"
         }
        },
        "yaxis2": {
         "anchor": "x2",
         "domain": [
          0,
          0.46499999999999997
         ],
         "matches": "y",
         "showticklabels": false
        },
        "yaxis3": {
         "anchor": "x3",
         "domain": [
          0,
          0.46499999999999997
         ],
         "matches": "y",
         "showticklabels": false
        },
        "yaxis4": {
         "anchor": "x4",
         "domain": [
          0,
          0.46499999999999997
         ],
         "matches": "y",
         "showticklabels": false
        },
        "yaxis5": {
         "anchor": "x5",
         "domain": [
          0.5349999999999999,
          0.9999999999999999
         ],
         "matches": "y",
         "title": {
          "text": "ratings_count"
         }
        },
        "yaxis6": {
         "anchor": "x6",
         "domain": [
          0.5349999999999999,
          0.9999999999999999
         ],
         "matches": "y",
         "showticklabels": false
        },
        "yaxis7": {
         "anchor": "x7",
         "domain": [
          0.5349999999999999,
          0.9999999999999999
         ],
         "matches": "y",
         "showticklabels": false
        },
        "yaxis8": {
         "anchor": "x8",
         "domain": [
          0.5349999999999999,
          0.9999999999999999
         ],
         "matches": "y",
         "showticklabels": false
        }
       }
      }
     },
     "metadata": {},
     "output_type": "display_data"
    }
   ],
   "source": [
    "import sqlite3\n",
    "import pandas as pd\n",
    "import plotly.express as px\n",
    "\n",
    "# Connect to the SQLite database\n",
    "conn = sqlite3.connect(r'C:\\Users\\samve\\OneDrive\\0BeCode\\repos\\wine_market_analysis\\data\\vivino.db')\n",
    "\n",
    "# Execute the query and fetch data\n",
    "query = \"\"\"\n",
    "SELECT country_name, vintage_name, ratings_count, price_euros\n",
    "FROM (\n",
    "    SELECT c.name AS country_name, v.name AS vintage_name, v.ratings_count, v.price_euros,\n",
    "           RANK() OVER (PARTITION BY c.code ORDER BY v.ratings_count DESC) AS rank\n",
    "    FROM vintages AS v\n",
    "    JOIN wines AS w ON v.wine_id = w.id\n",
    "    JOIN regions AS r ON w.region_id = r.id\n",
    "    JOIN countries AS c ON r.country_code = c.code\n",
    "    WHERE v.price_euros < 30\n",
    ") ranked\n",
    "WHERE rank <= 10\n",
    "ORDER BY country_name, rank;\n",
    "\"\"\"\n",
    "result = conn.execute(query).fetchall()\n",
    "\n",
    "# Close the database connection\n",
    "conn.close()\n",
    "\n",
    "# Convert the result to a Pandas DataFrame\n",
    "columns = ['country_name', 'vintage_name', 'ratings_count', 'price_euros']\n",
    "df = pd.DataFrame(result, columns=columns)\n",
    "\n",
    "# Create a Plotly visualization\n",
    "fig = px.bar(df, x='vintage_name', y='ratings_count', color='country_name',\n",
    "             facet_col='country_name', facet_col_wrap=4,\n",
    "             hover_data=['country_name', 'price_euros'],\n",
    "             title='Top Selling Vintages by Country')\n",
    "fig.update_layout(xaxis_title='Vintage', yaxis_title='Ratings Count')\n",
    "fig.show()\n"
   ]
  },
  {
   "cell_type": "code",
   "execution_count": 65,
   "metadata": {},
   "outputs": [
    {
     "data": {
      "application/vnd.plotly.v1+json": {
       "config": {
        "plotlyServerURL": "https://plot.ly"
       },
       "data": [
        {
         "alignmentgroup": "True",
         "customdata": [
          [
           2019,
           25.99,
           2567
          ],
          [
           2019,
           27.4,
           1803
          ],
          [
           2018,
           24.75,
           1748
          ]
         ],
         "hovertemplate": "vintage_name=%{x}<br>ratings_average=%{y}<br>year=%{customdata[0]}<br>price_euros=%{customdata[1]}<br>ratings_count=%{customdata[2]}<extra></extra>",
         "legendgroup": "",
         "marker": {
          "color": "#000001",
          "pattern": {
           "shape": ""
          }
         },
         "name": "",
         "offsetgroup": "",
         "orientation": "v",
         "showlegend": false,
         "textposition": "auto",
         "type": "bar",
         "x": [
          "Rutini Malbec 2019",
          "Guerrieri Guerriero della Terra 2019",
          "San Marzano 60 Sessantanni Old Vines Primitivo di Manduria 2018"
         ],
         "xaxis": "x",
         "y": [
          4.4,
          4.4,
          4.4
         ],
         "yaxis": "y"
        }
       ],
       "layout": {
        "barmode": "relative",
        "legend": {
         "tracegroupgap": 0
        },
        "template": {
         "data": {
          "candlestick": [
           {
            "decreasing": {
             "line": {
              "color": "#000033"
             }
            },
            "increasing": {
             "line": {
              "color": "#000032"
             }
            },
            "type": "candlestick"
           }
          ],
          "contour": [
           {
            "colorscale": [
             [
              0,
              "#000011"
             ],
             [
              0.1111111111111111,
              "#000012"
             ],
             [
              0.2222222222222222,
              "#000013"
             ],
             [
              0.3333333333333333,
              "#000014"
             ],
             [
              0.4444444444444444,
              "#000015"
             ],
             [
              0.5555555555555556,
              "#000016"
             ],
             [
              0.6666666666666666,
              "#000017"
             ],
             [
              0.7777777777777778,
              "#000018"
             ],
             [
              0.8888888888888888,
              "#000019"
             ],
             [
              1,
              "#000020"
             ]
            ],
            "type": "contour"
           }
          ],
          "contourcarpet": [
           {
            "colorscale": [
             [
              0,
              "#000011"
             ],
             [
              0.1111111111111111,
              "#000012"
             ],
             [
              0.2222222222222222,
              "#000013"
             ],
             [
              0.3333333333333333,
              "#000014"
             ],
             [
              0.4444444444444444,
              "#000015"
             ],
             [
              0.5555555555555556,
              "#000016"
             ],
             [
              0.6666666666666666,
              "#000017"
             ],
             [
              0.7777777777777778,
              "#000018"
             ],
             [
              0.8888888888888888,
              "#000019"
             ],
             [
              1,
              "#000020"
             ]
            ],
            "type": "contourcarpet"
           }
          ],
          "heatmap": [
           {
            "colorscale": [
             [
              0,
              "#000011"
             ],
             [
              0.1111111111111111,
              "#000012"
             ],
             [
              0.2222222222222222,
              "#000013"
             ],
             [
              0.3333333333333333,
              "#000014"
             ],
             [
              0.4444444444444444,
              "#000015"
             ],
             [
              0.5555555555555556,
              "#000016"
             ],
             [
              0.6666666666666666,
              "#000017"
             ],
             [
              0.7777777777777778,
              "#000018"
             ],
             [
              0.8888888888888888,
              "#000019"
             ],
             [
              1,
              "#000020"
             ]
            ],
            "type": "heatmap"
           }
          ],
          "histogram2d": [
           {
            "colorscale": [
             [
              0,
              "#000011"
             ],
             [
              0.1111111111111111,
              "#000012"
             ],
             [
              0.2222222222222222,
              "#000013"
             ],
             [
              0.3333333333333333,
              "#000014"
             ],
             [
              0.4444444444444444,
              "#000015"
             ],
             [
              0.5555555555555556,
              "#000016"
             ],
             [
              0.6666666666666666,
              "#000017"
             ],
             [
              0.7777777777777778,
              "#000018"
             ],
             [
              0.8888888888888888,
              "#000019"
             ],
             [
              1,
              "#000020"
             ]
            ],
            "type": "histogram2d"
           }
          ],
          "icicle": [
           {
            "textfont": {
             "color": "white"
            },
            "type": "icicle"
           }
          ],
          "sankey": [
           {
            "textfont": {
             "color": "#000036"
            },
            "type": "sankey"
           }
          ],
          "scatter": [
           {
            "marker": {
             "line": {
              "width": 0
             }
            },
            "type": "scatter"
           }
          ],
          "table": [
           {
            "cells": {
             "fill": {
              "color": "#000038"
             },
             "font": {
              "color": "#000037"
             },
             "line": {
              "color": "#000039"
             }
            },
            "header": {
             "fill": {
              "color": "#000040"
             },
             "font": {
              "color": "#000036"
             },
             "line": {
              "color": "#000039"
             }
            },
            "type": "table"
           }
          ],
          "waterfall": [
           {
            "connector": {
             "line": {
              "color": "#000036",
              "width": 2
             }
            },
            "decreasing": {
             "marker": {
              "color": "#000033"
             }
            },
            "increasing": {
             "marker": {
              "color": "#000032"
             }
            },
            "totals": {
             "marker": {
              "color": "#000034"
             }
            },
            "type": "waterfall"
           }
          ]
         },
         "layout": {
          "coloraxis": {
           "colorscale": [
            [
             0,
             "#000011"
            ],
            [
             0.1111111111111111,
             "#000012"
            ],
            [
             0.2222222222222222,
             "#000013"
            ],
            [
             0.3333333333333333,
             "#000014"
            ],
            [
             0.4444444444444444,
             "#000015"
            ],
            [
             0.5555555555555556,
             "#000016"
            ],
            [
             0.6666666666666666,
             "#000017"
            ],
            [
             0.7777777777777778,
             "#000018"
            ],
            [
             0.8888888888888888,
             "#000019"
            ],
            [
             1,
             "#000020"
            ]
           ]
          },
          "colorscale": {
           "diverging": [
            [
             0,
             "#000021"
            ],
            [
             0.1,
             "#000022"
            ],
            [
             0.2,
             "#000023"
            ],
            [
             0.3,
             "#000024"
            ],
            [
             0.4,
             "#000025"
            ],
            [
             0.5,
             "#000026"
            ],
            [
             0.6,
             "#000027"
            ],
            [
             0.7,
             "#000028"
            ],
            [
             0.8,
             "#000029"
            ],
            [
             0.9,
             "#000030"
            ],
            [
             1,
             "#000031"
            ]
           ],
           "sequential": [
            [
             0,
             "#000011"
            ],
            [
             0.1111111111111111,
             "#000012"
            ],
            [
             0.2222222222222222,
             "#000013"
            ],
            [
             0.3333333333333333,
             "#000014"
            ],
            [
             0.4444444444444444,
             "#000015"
            ],
            [
             0.5555555555555556,
             "#000016"
            ],
            [
             0.6666666666666666,
             "#000017"
            ],
            [
             0.7777777777777778,
             "#000018"
            ],
            [
             0.8888888888888888,
             "#000019"
            ],
            [
             1,
             "#000020"
            ]
           ],
           "sequentialminus": [
            [
             0,
             "#000011"
            ],
            [
             0.1111111111111111,
             "#000012"
            ],
            [
             0.2222222222222222,
             "#000013"
            ],
            [
             0.3333333333333333,
             "#000014"
            ],
            [
             0.4444444444444444,
             "#000015"
            ],
            [
             0.5555555555555556,
             "#000016"
            ],
            [
             0.6666666666666666,
             "#000017"
            ],
            [
             0.7777777777777778,
             "#000018"
            ],
            [
             0.8888888888888888,
             "#000019"
            ],
            [
             1,
             "#000020"
            ]
           ]
          },
          "colorway": [
           "#000001",
           "#000002",
           "#000003",
           "#000004",
           "#000005",
           "#000006",
           "#000007",
           "#000008",
           "#000009",
           "#000010"
          ]
         }
        },
        "title": {
         "text": "Most Recent Vintage with Good Rating"
        },
        "xaxis": {
         "anchor": "y",
         "domain": [
          0,
          1
         ],
         "title": {
          "text": "Vintage"
         }
        },
        "yaxis": {
         "anchor": "x",
         "domain": [
          0,
          1
         ],
         "title": {
          "text": "Ratings Average"
         }
        }
       }
      }
     },
     "metadata": {},
     "output_type": "display_data"
    }
   ],
   "source": [
    "import sqlite3\n",
    "import pandas as pd\n",
    "import plotly.express as px\n",
    "\n",
    "# Connect to the SQLite database\n",
    "conn = sqlite3.connect(r'C:\\Users\\samve\\OneDrive\\0BeCode\\repos\\wine_market_analysis\\data\\vivino.db')\n",
    "\n",
    "# Execute the query and fetch data\n",
    "query = \"\"\"\n",
    "SELECT v.name AS vintage_name, v.ratings_average, v.year, v.price_euros, v.ratings_count\n",
    "FROM vintages AS v\n",
    "JOIN wines AS w ON v.wine_id = w.id\n",
    "JOIN regions AS r ON w.region_id = r.id\n",
    "WHERE v.ratings_average >= 4.0 AND v.price_euros < 30 AND v.ratings_count > 1000\n",
    "ORDER BY v.year DESC\n",
    "LIMIT 10;\n",
    "\"\"\"\n",
    "result = conn.execute(query).fetchall()\n",
    "\n",
    "# Close the database connection\n",
    "conn.close()\n",
    "\n",
    "# Convert the result to a Pandas DataFrame\n",
    "columns = ['vintage_name', 'ratings_average', 'year', 'price_euros', 'ratings_count']\n",
    "df = pd.DataFrame(result, columns=columns)\n",
    "\n",
    "# Create a Plotly visualization\n",
    "fig = px.bar(df, x='vintage_name', y='ratings_average',\n",
    "             hover_data=['year', 'price_euros', 'ratings_count'],\n",
    "             title='Most Recent Vintage with Good Rating')\n",
    "fig.update_layout(xaxis_title='Vintage', yaxis_title='Ratings Average')\n",
    "fig.show()\n"
   ]
  },
  {
   "cell_type": "markdown",
   "metadata": {},
   "source": [
    "Find out avg budget for the users in the db"
   ]
  },
  {
   "cell_type": "code",
   "execution_count": 92,
   "metadata": {},
   "outputs": [
    {
     "data": {
      "application/vnd.plotly.v1+json": {
       "config": {
        "plotlyServerURL": "https://plot.ly"
       },
       "data": [
        {
         "alignmentgroup": "True",
         "hovertemplate": "country_name=%{x}<br>avg_wine_rating=%{text}<extra></extra>",
         "legendgroup": "",
         "marker": {
          "color": "rgb(102,194,165)",
          "pattern": {
           "shape": ""
          }
         },
         "name": "",
         "offsetgroup": "",
         "orientation": "v",
         "showlegend": false,
         "text": [
          4.7,
          4.6,
          4.6,
          4.6,
          4.5,
          4.5,
          4.5,
          4.5,
          4.5,
          4.5,
          4.5,
          4.4,
          4.4,
          4.4,
          4.4,
          0,
          0
         ],
         "textposition": "outside",
         "texttemplate": "%{text:.2f}",
         "type": "bar",
         "x": [
          "Australie",
          "États-Unis",
          "Hongrie",
          "Grèce",
          "Roumanie",
          "Portugal",
          "Moldavie",
          "France",
          "Espagne",
          "Chili",
          "Afrique du Sud",
          "Suisse",
          "Italie",
          "Croatie",
          "Argentine",
          "Israël",
          "Allemagne"
         ],
         "xaxis": "x",
         "y": [
          4.7,
          4.6,
          4.6,
          4.6,
          4.5,
          4.5,
          4.5,
          4.5,
          4.5,
          4.5,
          4.5,
          4.4,
          4.4,
          4.4,
          4.4,
          0,
          0
         ],
         "yaxis": "y"
        }
       ],
       "layout": {
        "barmode": "relative",
        "legend": {
         "tracegroupgap": 0
        },
        "template": {
         "data": {
          "candlestick": [
           {
            "decreasing": {
             "line": {
              "color": "#000033"
             }
            },
            "increasing": {
             "line": {
              "color": "#000032"
             }
            },
            "type": "candlestick"
           }
          ],
          "contour": [
           {
            "colorscale": [
             [
              0,
              "#000011"
             ],
             [
              0.1111111111111111,
              "#000012"
             ],
             [
              0.2222222222222222,
              "#000013"
             ],
             [
              0.3333333333333333,
              "#000014"
             ],
             [
              0.4444444444444444,
              "#000015"
             ],
             [
              0.5555555555555556,
              "#000016"
             ],
             [
              0.6666666666666666,
              "#000017"
             ],
             [
              0.7777777777777778,
              "#000018"
             ],
             [
              0.8888888888888888,
              "#000019"
             ],
             [
              1,
              "#000020"
             ]
            ],
            "type": "contour"
           }
          ],
          "contourcarpet": [
           {
            "colorscale": [
             [
              0,
              "#000011"
             ],
             [
              0.1111111111111111,
              "#000012"
             ],
             [
              0.2222222222222222,
              "#000013"
             ],
             [
              0.3333333333333333,
              "#000014"
             ],
             [
              0.4444444444444444,
              "#000015"
             ],
             [
              0.5555555555555556,
              "#000016"
             ],
             [
              0.6666666666666666,
              "#000017"
             ],
             [
              0.7777777777777778,
              "#000018"
             ],
             [
              0.8888888888888888,
              "#000019"
             ],
             [
              1,
              "#000020"
             ]
            ],
            "type": "contourcarpet"
           }
          ],
          "heatmap": [
           {
            "colorscale": [
             [
              0,
              "#000011"
             ],
             [
              0.1111111111111111,
              "#000012"
             ],
             [
              0.2222222222222222,
              "#000013"
             ],
             [
              0.3333333333333333,
              "#000014"
             ],
             [
              0.4444444444444444,
              "#000015"
             ],
             [
              0.5555555555555556,
              "#000016"
             ],
             [
              0.6666666666666666,
              "#000017"
             ],
             [
              0.7777777777777778,
              "#000018"
             ],
             [
              0.8888888888888888,
              "#000019"
             ],
             [
              1,
              "#000020"
             ]
            ],
            "type": "heatmap"
           }
          ],
          "histogram2d": [
           {
            "colorscale": [
             [
              0,
              "#000011"
             ],
             [
              0.1111111111111111,
              "#000012"
             ],
             [
              0.2222222222222222,
              "#000013"
             ],
             [
              0.3333333333333333,
              "#000014"
             ],
             [
              0.4444444444444444,
              "#000015"
             ],
             [
              0.5555555555555556,
              "#000016"
             ],
             [
              0.6666666666666666,
              "#000017"
             ],
             [
              0.7777777777777778,
              "#000018"
             ],
             [
              0.8888888888888888,
              "#000019"
             ],
             [
              1,
              "#000020"
             ]
            ],
            "type": "histogram2d"
           }
          ],
          "icicle": [
           {
            "textfont": {
             "color": "white"
            },
            "type": "icicle"
           }
          ],
          "sankey": [
           {
            "textfont": {
             "color": "#000036"
            },
            "type": "sankey"
           }
          ],
          "scatter": [
           {
            "marker": {
             "line": {
              "width": 0
             }
            },
            "type": "scatter"
           }
          ],
          "table": [
           {
            "cells": {
             "fill": {
              "color": "#000038"
             },
             "font": {
              "color": "#000037"
             },
             "line": {
              "color": "#000039"
             }
            },
            "header": {
             "fill": {
              "color": "#000040"
             },
             "font": {
              "color": "#000036"
             },
             "line": {
              "color": "#000039"
             }
            },
            "type": "table"
           }
          ],
          "waterfall": [
           {
            "connector": {
             "line": {
              "color": "#000036",
              "width": 2
             }
            },
            "decreasing": {
             "marker": {
              "color": "#000033"
             }
            },
            "increasing": {
             "marker": {
              "color": "#000032"
             }
            },
            "totals": {
             "marker": {
              "color": "#000034"
             }
            },
            "type": "waterfall"
           }
          ]
         },
         "layout": {
          "coloraxis": {
           "colorscale": [
            [
             0,
             "#000011"
            ],
            [
             0.1111111111111111,
             "#000012"
            ],
            [
             0.2222222222222222,
             "#000013"
            ],
            [
             0.3333333333333333,
             "#000014"
            ],
            [
             0.4444444444444444,
             "#000015"
            ],
            [
             0.5555555555555556,
             "#000016"
            ],
            [
             0.6666666666666666,
             "#000017"
            ],
            [
             0.7777777777777778,
             "#000018"
            ],
            [
             0.8888888888888888,
             "#000019"
            ],
            [
             1,
             "#000020"
            ]
           ]
          },
          "colorscale": {
           "diverging": [
            [
             0,
             "#000021"
            ],
            [
             0.1,
             "#000022"
            ],
            [
             0.2,
             "#000023"
            ],
            [
             0.3,
             "#000024"
            ],
            [
             0.4,
             "#000025"
            ],
            [
             0.5,
             "#000026"
            ],
            [
             0.6,
             "#000027"
            ],
            [
             0.7,
             "#000028"
            ],
            [
             0.8,
             "#000029"
            ],
            [
             0.9,
             "#000030"
            ],
            [
             1,
             "#000031"
            ]
           ],
           "sequential": [
            [
             0,
             "#000011"
            ],
            [
             0.1111111111111111,
             "#000012"
            ],
            [
             0.2222222222222222,
             "#000013"
            ],
            [
             0.3333333333333333,
             "#000014"
            ],
            [
             0.4444444444444444,
             "#000015"
            ],
            [
             0.5555555555555556,
             "#000016"
            ],
            [
             0.6666666666666666,
             "#000017"
            ],
            [
             0.7777777777777778,
             "#000018"
            ],
            [
             0.8888888888888888,
             "#000019"
            ],
            [
             1,
             "#000020"
            ]
           ],
           "sequentialminus": [
            [
             0,
             "#000011"
            ],
            [
             0.1111111111111111,
             "#000012"
            ],
            [
             0.2222222222222222,
             "#000013"
            ],
            [
             0.3333333333333333,
             "#000014"
            ],
            [
             0.4444444444444444,
             "#000015"
            ],
            [
             0.5555555555555556,
             "#000016"
            ],
            [
             0.6666666666666666,
             "#000017"
            ],
            [
             0.7777777777777778,
             "#000018"
            ],
            [
             0.8888888888888888,
             "#000019"
            ],
            [
             1,
             "#000020"
            ]
           ]
          },
          "colorway": [
           "#000001",
           "#000002",
           "#000003",
           "#000004",
           "#000005",
           "#000006",
           "#000007",
           "#000008",
           "#000009",
           "#000010"
          ]
         }
        },
        "title": {
         "text": "Average Wine Rating by Country"
        },
        "xaxis": {
         "anchor": "y",
         "domain": [
          0,
          1
         ],
         "title": {
          "text": "Country"
         }
        },
        "yaxis": {
         "anchor": "x",
         "domain": [
          0,
          1
         ],
         "title": {
          "text": "Average Wine Rating"
         }
        }
       }
      }
     },
     "metadata": {},
     "output_type": "display_data"
    }
   ],
   "source": [
    "import sqlite3\n",
    "import pandas as pd\n",
    "import plotly.express as px\n",
    "\n",
    "# Connect to the SQLite database\n",
    "conn = sqlite3.connect(r'C:\\Users\\samve\\OneDrive\\0BeCode\\repos\\wine_market_analysis\\data\\vivino.db')\n",
    "\n",
    "# Execute the query and fetch data\n",
    "query = \"\"\"\n",
    "SELECT c.name AS country_name, v.ratings_average AS avg_wine_rating\n",
    "FROM countries AS c\n",
    "JOIN regions AS r ON c.code = r.country_code\n",
    "JOIN wines AS w ON r.id = w.region_id\n",
    "JOIN vintages AS v ON w.id = v.wine_id\n",
    "GROUP BY c.name\n",
    "ORDER BY avg_wine_rating DESC;\n",
    "\"\"\"\n",
    "result = conn.execute(query).fetchall()\n",
    "\n",
    "# Close the database connection\n",
    "conn.close()\n",
    "\n",
    "# Convert the result to a Pandas DataFrame\n",
    "columns = ['country_name', 'avg_wine_rating']\n",
    "df_wine = pd.DataFrame(result, columns=columns)\n",
    "\n",
    "# Create a Plotly visualization for average wine ratings by country\n",
    "fig_wine = px.bar(df_wine, x='country_name', y='avg_wine_rating',\n",
    "                   text='avg_wine_rating', title='Average Wine Rating by Country')\n",
    "fig_wine.update_traces(texttemplate='%{text:.2f}', textposition='outside')\n",
    "fig_wine.update_layout(xaxis_title='Country', yaxis_title='Average Wine Rating')\n",
    "fig_wine.show()"
   ]
  },
  {
   "cell_type": "code",
   "execution_count": 5,
   "metadata": {},
   "outputs": [
    {
     "data": {
      "application/vnd.plotly.v1+json": {
       "config": {
        "plotlyServerURL": "https://plot.ly"
       },
       "data": [
        {
         "alignmentgroup": "True",
         "hovertemplate": "country_name=%{x}<br>avg_vintage_rating=%{text}<extra></extra>",
         "legendgroup": "",
         "marker": {
          "color": "#636efa",
          "pattern": {
           "shape": ""
          }
         },
         "name": "",
         "offsetgroup": "",
         "orientation": "v",
         "showlegend": false,
         "text": [
          4.5,
          4.4,
          4.321428571428572,
          4.120000000000001,
          3.932258064516129,
          3.8714285714285714,
          3.698214285714285,
          3.6562499999999996,
          3.630266075388031,
          3.3809160305343484,
          3.171428571428571,
          3.0650485436893224,
          2.8312500000000003,
          2.3,
          2.2,
          1.6958333333333335,
          0
         ],
         "textposition": "outside",
         "texttemplate": "%{text:.2f}",
         "type": "bar",
         "x": [
          "Roumanie",
          "Croatie",
          "Argentine",
          "Chili",
          "Portugal",
          "Moldavie",
          "États-Unis",
          "Afrique du Sud",
          "Italie",
          "Espagne",
          "Hongrie",
          "France",
          "Australie",
          "Grèce",
          "Suisse",
          "Allemagne",
          "Israël"
         ],
         "xaxis": "x",
         "y": [
          4.5,
          4.4,
          4.321428571428572,
          4.120000000000001,
          3.932258064516129,
          3.8714285714285714,
          3.698214285714285,
          3.6562499999999996,
          3.630266075388031,
          3.3809160305343484,
          3.171428571428571,
          3.0650485436893224,
          2.8312500000000003,
          2.3,
          2.2,
          1.6958333333333335,
          0
         ],
         "yaxis": "y"
        }
       ],
       "layout": {
        "barmode": "relative",
        "legend": {
         "tracegroupgap": 0
        },
        "template": {
         "data": {
          "bar": [
           {
            "error_x": {
             "color": "#2a3f5f"
            },
            "error_y": {
             "color": "#2a3f5f"
            },
            "marker": {
             "line": {
              "color": "#E5ECF6",
              "width": 0.5
             },
             "pattern": {
              "fillmode": "overlay",
              "size": 10,
              "solidity": 0.2
             }
            },
            "type": "bar"
           }
          ],
          "barpolar": [
           {
            "marker": {
             "line": {
              "color": "#E5ECF6",
              "width": 0.5
             },
             "pattern": {
              "fillmode": "overlay",
              "size": 10,
              "solidity": 0.2
             }
            },
            "type": "barpolar"
           }
          ],
          "carpet": [
           {
            "aaxis": {
             "endlinecolor": "#2a3f5f",
             "gridcolor": "white",
             "linecolor": "white",
             "minorgridcolor": "white",
             "startlinecolor": "#2a3f5f"
            },
            "baxis": {
             "endlinecolor": "#2a3f5f",
             "gridcolor": "white",
             "linecolor": "white",
             "minorgridcolor": "white",
             "startlinecolor": "#2a3f5f"
            },
            "type": "carpet"
           }
          ],
          "choropleth": [
           {
            "colorbar": {
             "outlinewidth": 0,
             "ticks": ""
            },
            "type": "choropleth"
           }
          ],
          "contour": [
           {
            "colorbar": {
             "outlinewidth": 0,
             "ticks": ""
            },
            "colorscale": [
             [
              0,
              "#0d0887"
             ],
             [
              0.1111111111111111,
              "#46039f"
             ],
             [
              0.2222222222222222,
              "#7201a8"
             ],
             [
              0.3333333333333333,
              "#9c179e"
             ],
             [
              0.4444444444444444,
              "#bd3786"
             ],
             [
              0.5555555555555556,
              "#d8576b"
             ],
             [
              0.6666666666666666,
              "#ed7953"
             ],
             [
              0.7777777777777778,
              "#fb9f3a"
             ],
             [
              0.8888888888888888,
              "#fdca26"
             ],
             [
              1,
              "#f0f921"
             ]
            ],
            "type": "contour"
           }
          ],
          "contourcarpet": [
           {
            "colorbar": {
             "outlinewidth": 0,
             "ticks": ""
            },
            "type": "contourcarpet"
           }
          ],
          "heatmap": [
           {
            "colorbar": {
             "outlinewidth": 0,
             "ticks": ""
            },
            "colorscale": [
             [
              0,
              "#0d0887"
             ],
             [
              0.1111111111111111,
              "#46039f"
             ],
             [
              0.2222222222222222,
              "#7201a8"
             ],
             [
              0.3333333333333333,
              "#9c179e"
             ],
             [
              0.4444444444444444,
              "#bd3786"
             ],
             [
              0.5555555555555556,
              "#d8576b"
             ],
             [
              0.6666666666666666,
              "#ed7953"
             ],
             [
              0.7777777777777778,
              "#fb9f3a"
             ],
             [
              0.8888888888888888,
              "#fdca26"
             ],
             [
              1,
              "#f0f921"
             ]
            ],
            "type": "heatmap"
           }
          ],
          "heatmapgl": [
           {
            "colorbar": {
             "outlinewidth": 0,
             "ticks": ""
            },
            "colorscale": [
             [
              0,
              "#0d0887"
             ],
             [
              0.1111111111111111,
              "#46039f"
             ],
             [
              0.2222222222222222,
              "#7201a8"
             ],
             [
              0.3333333333333333,
              "#9c179e"
             ],
             [
              0.4444444444444444,
              "#bd3786"
             ],
             [
              0.5555555555555556,
              "#d8576b"
             ],
             [
              0.6666666666666666,
              "#ed7953"
             ],
             [
              0.7777777777777778,
              "#fb9f3a"
             ],
             [
              0.8888888888888888,
              "#fdca26"
             ],
             [
              1,
              "#f0f921"
             ]
            ],
            "type": "heatmapgl"
           }
          ],
          "histogram": [
           {
            "marker": {
             "pattern": {
              "fillmode": "overlay",
              "size": 10,
              "solidity": 0.2
             }
            },
            "type": "histogram"
           }
          ],
          "histogram2d": [
           {
            "colorbar": {
             "outlinewidth": 0,
             "ticks": ""
            },
            "colorscale": [
             [
              0,
              "#0d0887"
             ],
             [
              0.1111111111111111,
              "#46039f"
             ],
             [
              0.2222222222222222,
              "#7201a8"
             ],
             [
              0.3333333333333333,
              "#9c179e"
             ],
             [
              0.4444444444444444,
              "#bd3786"
             ],
             [
              0.5555555555555556,
              "#d8576b"
             ],
             [
              0.6666666666666666,
              "#ed7953"
             ],
             [
              0.7777777777777778,
              "#fb9f3a"
             ],
             [
              0.8888888888888888,
              "#fdca26"
             ],
             [
              1,
              "#f0f921"
             ]
            ],
            "type": "histogram2d"
           }
          ],
          "histogram2dcontour": [
           {
            "colorbar": {
             "outlinewidth": 0,
             "ticks": ""
            },
            "colorscale": [
             [
              0,
              "#0d0887"
             ],
             [
              0.1111111111111111,
              "#46039f"
             ],
             [
              0.2222222222222222,
              "#7201a8"
             ],
             [
              0.3333333333333333,
              "#9c179e"
             ],
             [
              0.4444444444444444,
              "#bd3786"
             ],
             [
              0.5555555555555556,
              "#d8576b"
             ],
             [
              0.6666666666666666,
              "#ed7953"
             ],
             [
              0.7777777777777778,
              "#fb9f3a"
             ],
             [
              0.8888888888888888,
              "#fdca26"
             ],
             [
              1,
              "#f0f921"
             ]
            ],
            "type": "histogram2dcontour"
           }
          ],
          "mesh3d": [
           {
            "colorbar": {
             "outlinewidth": 0,
             "ticks": ""
            },
            "type": "mesh3d"
           }
          ],
          "parcoords": [
           {
            "line": {
             "colorbar": {
              "outlinewidth": 0,
              "ticks": ""
             }
            },
            "type": "parcoords"
           }
          ],
          "pie": [
           {
            "automargin": true,
            "type": "pie"
           }
          ],
          "scatter": [
           {
            "fillpattern": {
             "fillmode": "overlay",
             "size": 10,
             "solidity": 0.2
            },
            "type": "scatter"
           }
          ],
          "scatter3d": [
           {
            "line": {
             "colorbar": {
              "outlinewidth": 0,
              "ticks": ""
             }
            },
            "marker": {
             "colorbar": {
              "outlinewidth": 0,
              "ticks": ""
             }
            },
            "type": "scatter3d"
           }
          ],
          "scattercarpet": [
           {
            "marker": {
             "colorbar": {
              "outlinewidth": 0,
              "ticks": ""
             }
            },
            "type": "scattercarpet"
           }
          ],
          "scattergeo": [
           {
            "marker": {
             "colorbar": {
              "outlinewidth": 0,
              "ticks": ""
             }
            },
            "type": "scattergeo"
           }
          ],
          "scattergl": [
           {
            "marker": {
             "colorbar": {
              "outlinewidth": 0,
              "ticks": ""
             }
            },
            "type": "scattergl"
           }
          ],
          "scattermapbox": [
           {
            "marker": {
             "colorbar": {
              "outlinewidth": 0,
              "ticks": ""
             }
            },
            "type": "scattermapbox"
           }
          ],
          "scatterpolar": [
           {
            "marker": {
             "colorbar": {
              "outlinewidth": 0,
              "ticks": ""
             }
            },
            "type": "scatterpolar"
           }
          ],
          "scatterpolargl": [
           {
            "marker": {
             "colorbar": {
              "outlinewidth": 0,
              "ticks": ""
             }
            },
            "type": "scatterpolargl"
           }
          ],
          "scatterternary": [
           {
            "marker": {
             "colorbar": {
              "outlinewidth": 0,
              "ticks": ""
             }
            },
            "type": "scatterternary"
           }
          ],
          "surface": [
           {
            "colorbar": {
             "outlinewidth": 0,
             "ticks": ""
            },
            "colorscale": [
             [
              0,
              "#0d0887"
             ],
             [
              0.1111111111111111,
              "#46039f"
             ],
             [
              0.2222222222222222,
              "#7201a8"
             ],
             [
              0.3333333333333333,
              "#9c179e"
             ],
             [
              0.4444444444444444,
              "#bd3786"
             ],
             [
              0.5555555555555556,
              "#d8576b"
             ],
             [
              0.6666666666666666,
              "#ed7953"
             ],
             [
              0.7777777777777778,
              "#fb9f3a"
             ],
             [
              0.8888888888888888,
              "#fdca26"
             ],
             [
              1,
              "#f0f921"
             ]
            ],
            "type": "surface"
           }
          ],
          "table": [
           {
            "cells": {
             "fill": {
              "color": "#EBF0F8"
             },
             "line": {
              "color": "white"
             }
            },
            "header": {
             "fill": {
              "color": "#C8D4E3"
             },
             "line": {
              "color": "white"
             }
            },
            "type": "table"
           }
          ]
         },
         "layout": {
          "annotationdefaults": {
           "arrowcolor": "#2a3f5f",
           "arrowhead": 0,
           "arrowwidth": 1
          },
          "autotypenumbers": "strict",
          "coloraxis": {
           "colorbar": {
            "outlinewidth": 0,
            "ticks": ""
           }
          },
          "colorscale": {
           "diverging": [
            [
             0,
             "#8e0152"
            ],
            [
             0.1,
             "#c51b7d"
            ],
            [
             0.2,
             "#de77ae"
            ],
            [
             0.3,
             "#f1b6da"
            ],
            [
             0.4,
             "#fde0ef"
            ],
            [
             0.5,
             "#f7f7f7"
            ],
            [
             0.6,
             "#e6f5d0"
            ],
            [
             0.7,
             "#b8e186"
            ],
            [
             0.8,
             "#7fbc41"
            ],
            [
             0.9,
             "#4d9221"
            ],
            [
             1,
             "#276419"
            ]
           ],
           "sequential": [
            [
             0,
             "#0d0887"
            ],
            [
             0.1111111111111111,
             "#46039f"
            ],
            [
             0.2222222222222222,
             "#7201a8"
            ],
            [
             0.3333333333333333,
             "#9c179e"
            ],
            [
             0.4444444444444444,
             "#bd3786"
            ],
            [
             0.5555555555555556,
             "#d8576b"
            ],
            [
             0.6666666666666666,
             "#ed7953"
            ],
            [
             0.7777777777777778,
             "#fb9f3a"
            ],
            [
             0.8888888888888888,
             "#fdca26"
            ],
            [
             1,
             "#f0f921"
            ]
           ],
           "sequentialminus": [
            [
             0,
             "#0d0887"
            ],
            [
             0.1111111111111111,
             "#46039f"
            ],
            [
             0.2222222222222222,
             "#7201a8"
            ],
            [
             0.3333333333333333,
             "#9c179e"
            ],
            [
             0.4444444444444444,
             "#bd3786"
            ],
            [
             0.5555555555555556,
             "#d8576b"
            ],
            [
             0.6666666666666666,
             "#ed7953"
            ],
            [
             0.7777777777777778,
             "#fb9f3a"
            ],
            [
             0.8888888888888888,
             "#fdca26"
            ],
            [
             1,
             "#f0f921"
            ]
           ]
          },
          "colorway": [
           "#636efa",
           "#EF553B",
           "#00cc96",
           "#ab63fa",
           "#FFA15A",
           "#19d3f3",
           "#FF6692",
           "#B6E880",
           "#FF97FF",
           "#FECB52"
          ],
          "font": {
           "color": "#2a3f5f"
          },
          "geo": {
           "bgcolor": "white",
           "lakecolor": "white",
           "landcolor": "#E5ECF6",
           "showlakes": true,
           "showland": true,
           "subunitcolor": "white"
          },
          "hoverlabel": {
           "align": "left"
          },
          "hovermode": "closest",
          "mapbox": {
           "style": "light"
          },
          "paper_bgcolor": "white",
          "plot_bgcolor": "#E5ECF6",
          "polar": {
           "angularaxis": {
            "gridcolor": "white",
            "linecolor": "white",
            "ticks": ""
           },
           "bgcolor": "#E5ECF6",
           "radialaxis": {
            "gridcolor": "white",
            "linecolor": "white",
            "ticks": ""
           }
          },
          "scene": {
           "xaxis": {
            "backgroundcolor": "#E5ECF6",
            "gridcolor": "white",
            "gridwidth": 2,
            "linecolor": "white",
            "showbackground": true,
            "ticks": "",
            "zerolinecolor": "white"
           },
           "yaxis": {
            "backgroundcolor": "#E5ECF6",
            "gridcolor": "white",
            "gridwidth": 2,
            "linecolor": "white",
            "showbackground": true,
            "ticks": "",
            "zerolinecolor": "white"
           },
           "zaxis": {
            "backgroundcolor": "#E5ECF6",
            "gridcolor": "white",
            "gridwidth": 2,
            "linecolor": "white",
            "showbackground": true,
            "ticks": "",
            "zerolinecolor": "white"
           }
          },
          "shapedefaults": {
           "line": {
            "color": "#2a3f5f"
           }
          },
          "ternary": {
           "aaxis": {
            "gridcolor": "white",
            "linecolor": "white",
            "ticks": ""
           },
           "baxis": {
            "gridcolor": "white",
            "linecolor": "white",
            "ticks": ""
           },
           "bgcolor": "#E5ECF6",
           "caxis": {
            "gridcolor": "white",
            "linecolor": "white",
            "ticks": ""
           }
          },
          "title": {
           "x": 0.05
          },
          "xaxis": {
           "automargin": true,
           "gridcolor": "white",
           "linecolor": "white",
           "ticks": "",
           "title": {
            "standoff": 15
           },
           "zerolinecolor": "white",
           "zerolinewidth": 2
          },
          "yaxis": {
           "automargin": true,
           "gridcolor": "white",
           "linecolor": "white",
           "ticks": "",
           "title": {
            "standoff": 15
           },
           "zerolinecolor": "white",
           "zerolinewidth": 2
          }
         }
        },
        "title": {
         "text": "Average Vintage Rating by Country"
        },
        "xaxis": {
         "anchor": "y",
         "domain": [
          0,
          1
         ],
         "title": {
          "text": "Country"
         }
        },
        "yaxis": {
         "anchor": "x",
         "domain": [
          0,
          1
         ],
         "title": {
          "text": "Average Vintage Rating"
         }
        }
       }
      }
     },
     "metadata": {},
     "output_type": "display_data"
    }
   ],
   "source": [
    "# Connect to the SQLite database\n",
    "conn = sqlite3.connect(r'C:\\Users\\samve\\OneDrive\\0BeCode\\repos\\wine_market_analysis\\data\\vivino.db')\n",
    "\n",
    "# Execute the query and fetch data\n",
    "query = \"\"\"\n",
    "SELECT c.name AS country_name, AVG(v.ratings_average) AS avg_vintage_rating\n",
    "FROM countries AS c\n",
    "JOIN regions AS r ON c.code = r.country_code\n",
    "JOIN wines AS w ON r.id = w.region_id\n",
    "JOIN vintages AS v ON w.id = v.wine_id\n",
    "GROUP BY c.name\n",
    "ORDER BY avg_vintage_rating DESC;\n",
    "\"\"\"\n",
    "result = conn.execute(query).fetchall()\n",
    "\n",
    "# Close the database connection\n",
    "conn.close()\n",
    "\n",
    "# Convert the result to a Pandas DataFrame\n",
    "columns = ['country_name', 'avg_vintage_rating']\n",
    "df_vintage = pd.DataFrame(result, columns=columns)\n",
    "\n",
    "# Create a Plotly visualization for average vintage ratings by country\n",
    "fig_vintage = px.bar(df_vintage, x='country_name', y='avg_vintage_rating',\n",
    "                     text='avg_vintage_rating', title='Average Vintage Rating by Country')\n",
    "fig_vintage.update_traces(texttemplate='%{text:.2f}', textposition='outside')\n",
    "fig_vintage.update_layout(xaxis_title='Country', yaxis_title='Average Vintage Rating')\n",
    "fig_vintage.show()"
   ]
  },
  {
   "cell_type": "code",
   "execution_count": 12,
   "metadata": {},
   "outputs": [
    {
     "data": {
      "application/vnd.plotly.v1+json": {
       "config": {
        "plotlyServerURL": "https://plot.ly"
       },
       "data": [
        {
         "alignmentgroup": "True",
         "hovertemplate": "year=%{x}<br>ratings_count=%{y}<br>vintage_name=%{text}<extra></extra>",
         "legendgroup": "",
         "marker": {
          "color": "#636efa",
          "pattern": {
           "shape": ""
          }
         },
         "name": "",
         "offsetgroup": "",
         "orientation": "v",
         "showlegend": false,
         "text": [
          "Château Margaux Château Margaux (Premier Grand Cru Classé) 2001",
          "Louis Roederer Cristal Brut Champagne (Millésimé) 2002",
          "Antinori Tignanello 2003",
          "Dom Pérignon Brut Champagne 2004",
          "Tenuta San Guido Sassicaia 2005",
          "Dom Pérignon Brut Champagne 2006",
          "Tenuta San Guido Sassicaia 2007",
          "Louis Roederer Cristal Brut Champagne (Millésimé) 2008",
          "Antinori Tignanello 2009",
          "Antinori Tignanello 2010",
          "Antinori Tignanello 2011",
          "Antinori Tignanello 2012",
          "Masi Costasera Amarone della Valpolicella Classico 2013",
          "Tenuta San Guido Sassicaia 2014",
          "Antinori Tignanello 2015",
          "Antinori Tignanello 2016",
          "San Marzano 60 Sessantanni Old Vines Primitivo di Manduria 2017",
          "Matarromera Ribera del Duero Reserva 2018",
          "Caymus Cabernet Sauvignon 2019",
          "Pago de Carraovejas Tinto 2020",
          "Belondrade Belondrade y Lurton 2021",
          "Puglia Pop Triglia Negroamaro Rosato 2022",
          "Laurent-Perrier Brut Cuvée Champagne Rosé"
         ],
         "textposition": "outside",
         "type": "bar",
         "x": [
          2001,
          2002,
          2003,
          2004,
          2005,
          2006,
          2007,
          2008,
          2009,
          2010,
          2011,
          2012,
          2013,
          2014,
          2015,
          2016,
          2017,
          2018,
          2019,
          2020,
          2021,
          2022,
          "N.V."
         ],
         "xaxis": "x",
         "y": [
          1462,
          3475,
          1028,
          14650,
          2896,
          21121,
          3612,
          4757,
          6923,
          8817,
          9926,
          10470,
          9182,
          8182,
          13111,
          13709,
          17090,
          5650,
          15647,
          2129,
          213,
          25,
          36681
         ],
         "yaxis": "y"
        }
       ],
       "layout": {
        "barmode": "relative",
        "legend": {
         "tracegroupgap": 0
        },
        "template": {
         "data": {
          "bar": [
           {
            "error_x": {
             "color": "#2a3f5f"
            },
            "error_y": {
             "color": "#2a3f5f"
            },
            "marker": {
             "line": {
              "color": "#E5ECF6",
              "width": 0.5
             },
             "pattern": {
              "fillmode": "overlay",
              "size": 10,
              "solidity": 0.2
             }
            },
            "type": "bar"
           }
          ],
          "barpolar": [
           {
            "marker": {
             "line": {
              "color": "#E5ECF6",
              "width": 0.5
             },
             "pattern": {
              "fillmode": "overlay",
              "size": 10,
              "solidity": 0.2
             }
            },
            "type": "barpolar"
           }
          ],
          "carpet": [
           {
            "aaxis": {
             "endlinecolor": "#2a3f5f",
             "gridcolor": "white",
             "linecolor": "white",
             "minorgridcolor": "white",
             "startlinecolor": "#2a3f5f"
            },
            "baxis": {
             "endlinecolor": "#2a3f5f",
             "gridcolor": "white",
             "linecolor": "white",
             "minorgridcolor": "white",
             "startlinecolor": "#2a3f5f"
            },
            "type": "carpet"
           }
          ],
          "choropleth": [
           {
            "colorbar": {
             "outlinewidth": 0,
             "ticks": ""
            },
            "type": "choropleth"
           }
          ],
          "contour": [
           {
            "colorbar": {
             "outlinewidth": 0,
             "ticks": ""
            },
            "colorscale": [
             [
              0,
              "#0d0887"
             ],
             [
              0.1111111111111111,
              "#46039f"
             ],
             [
              0.2222222222222222,
              "#7201a8"
             ],
             [
              0.3333333333333333,
              "#9c179e"
             ],
             [
              0.4444444444444444,
              "#bd3786"
             ],
             [
              0.5555555555555556,
              "#d8576b"
             ],
             [
              0.6666666666666666,
              "#ed7953"
             ],
             [
              0.7777777777777778,
              "#fb9f3a"
             ],
             [
              0.8888888888888888,
              "#fdca26"
             ],
             [
              1,
              "#f0f921"
             ]
            ],
            "type": "contour"
           }
          ],
          "contourcarpet": [
           {
            "colorbar": {
             "outlinewidth": 0,
             "ticks": ""
            },
            "type": "contourcarpet"
           }
          ],
          "heatmap": [
           {
            "colorbar": {
             "outlinewidth": 0,
             "ticks": ""
            },
            "colorscale": [
             [
              0,
              "#0d0887"
             ],
             [
              0.1111111111111111,
              "#46039f"
             ],
             [
              0.2222222222222222,
              "#7201a8"
             ],
             [
              0.3333333333333333,
              "#9c179e"
             ],
             [
              0.4444444444444444,
              "#bd3786"
             ],
             [
              0.5555555555555556,
              "#d8576b"
             ],
             [
              0.6666666666666666,
              "#ed7953"
             ],
             [
              0.7777777777777778,
              "#fb9f3a"
             ],
             [
              0.8888888888888888,
              "#fdca26"
             ],
             [
              1,
              "#f0f921"
             ]
            ],
            "type": "heatmap"
           }
          ],
          "heatmapgl": [
           {
            "colorbar": {
             "outlinewidth": 0,
             "ticks": ""
            },
            "colorscale": [
             [
              0,
              "#0d0887"
             ],
             [
              0.1111111111111111,
              "#46039f"
             ],
             [
              0.2222222222222222,
              "#7201a8"
             ],
             [
              0.3333333333333333,
              "#9c179e"
             ],
             [
              0.4444444444444444,
              "#bd3786"
             ],
             [
              0.5555555555555556,
              "#d8576b"
             ],
             [
              0.6666666666666666,
              "#ed7953"
             ],
             [
              0.7777777777777778,
              "#fb9f3a"
             ],
             [
              0.8888888888888888,
              "#fdca26"
             ],
             [
              1,
              "#f0f921"
             ]
            ],
            "type": "heatmapgl"
           }
          ],
          "histogram": [
           {
            "marker": {
             "pattern": {
              "fillmode": "overlay",
              "size": 10,
              "solidity": 0.2
             }
            },
            "type": "histogram"
           }
          ],
          "histogram2d": [
           {
            "colorbar": {
             "outlinewidth": 0,
             "ticks": ""
            },
            "colorscale": [
             [
              0,
              "#0d0887"
             ],
             [
              0.1111111111111111,
              "#46039f"
             ],
             [
              0.2222222222222222,
              "#7201a8"
             ],
             [
              0.3333333333333333,
              "#9c179e"
             ],
             [
              0.4444444444444444,
              "#bd3786"
             ],
             [
              0.5555555555555556,
              "#d8576b"
             ],
             [
              0.6666666666666666,
              "#ed7953"
             ],
             [
              0.7777777777777778,
              "#fb9f3a"
             ],
             [
              0.8888888888888888,
              "#fdca26"
             ],
             [
              1,
              "#f0f921"
             ]
            ],
            "type": "histogram2d"
           }
          ],
          "histogram2dcontour": [
           {
            "colorbar": {
             "outlinewidth": 0,
             "ticks": ""
            },
            "colorscale": [
             [
              0,
              "#0d0887"
             ],
             [
              0.1111111111111111,
              "#46039f"
             ],
             [
              0.2222222222222222,
              "#7201a8"
             ],
             [
              0.3333333333333333,
              "#9c179e"
             ],
             [
              0.4444444444444444,
              "#bd3786"
             ],
             [
              0.5555555555555556,
              "#d8576b"
             ],
             [
              0.6666666666666666,
              "#ed7953"
             ],
             [
              0.7777777777777778,
              "#fb9f3a"
             ],
             [
              0.8888888888888888,
              "#fdca26"
             ],
             [
              1,
              "#f0f921"
             ]
            ],
            "type": "histogram2dcontour"
           }
          ],
          "mesh3d": [
           {
            "colorbar": {
             "outlinewidth": 0,
             "ticks": ""
            },
            "type": "mesh3d"
           }
          ],
          "parcoords": [
           {
            "line": {
             "colorbar": {
              "outlinewidth": 0,
              "ticks": ""
             }
            },
            "type": "parcoords"
           }
          ],
          "pie": [
           {
            "automargin": true,
            "type": "pie"
           }
          ],
          "scatter": [
           {
            "fillpattern": {
             "fillmode": "overlay",
             "size": 10,
             "solidity": 0.2
            },
            "type": "scatter"
           }
          ],
          "scatter3d": [
           {
            "line": {
             "colorbar": {
              "outlinewidth": 0,
              "ticks": ""
             }
            },
            "marker": {
             "colorbar": {
              "outlinewidth": 0,
              "ticks": ""
             }
            },
            "type": "scatter3d"
           }
          ],
          "scattercarpet": [
           {
            "marker": {
             "colorbar": {
              "outlinewidth": 0,
              "ticks": ""
             }
            },
            "type": "scattercarpet"
           }
          ],
          "scattergeo": [
           {
            "marker": {
             "colorbar": {
              "outlinewidth": 0,
              "ticks": ""
             }
            },
            "type": "scattergeo"
           }
          ],
          "scattergl": [
           {
            "marker": {
             "colorbar": {
              "outlinewidth": 0,
              "ticks": ""
             }
            },
            "type": "scattergl"
           }
          ],
          "scattermapbox": [
           {
            "marker": {
             "colorbar": {
              "outlinewidth": 0,
              "ticks": ""
             }
            },
            "type": "scattermapbox"
           }
          ],
          "scatterpolar": [
           {
            "marker": {
             "colorbar": {
              "outlinewidth": 0,
              "ticks": ""
             }
            },
            "type": "scatterpolar"
           }
          ],
          "scatterpolargl": [
           {
            "marker": {
             "colorbar": {
              "outlinewidth": 0,
              "ticks": ""
             }
            },
            "type": "scatterpolargl"
           }
          ],
          "scatterternary": [
           {
            "marker": {
             "colorbar": {
              "outlinewidth": 0,
              "ticks": ""
             }
            },
            "type": "scatterternary"
           }
          ],
          "surface": [
           {
            "colorbar": {
             "outlinewidth": 0,
             "ticks": ""
            },
            "colorscale": [
             [
              0,
              "#0d0887"
             ],
             [
              0.1111111111111111,
              "#46039f"
             ],
             [
              0.2222222222222222,
              "#7201a8"
             ],
             [
              0.3333333333333333,
              "#9c179e"
             ],
             [
              0.4444444444444444,
              "#bd3786"
             ],
             [
              0.5555555555555556,
              "#d8576b"
             ],
             [
              0.6666666666666666,
              "#ed7953"
             ],
             [
              0.7777777777777778,
              "#fb9f3a"
             ],
             [
              0.8888888888888888,
              "#fdca26"
             ],
             [
              1,
              "#f0f921"
             ]
            ],
            "type": "surface"
           }
          ],
          "table": [
           {
            "cells": {
             "fill": {
              "color": "#EBF0F8"
             },
             "line": {
              "color": "white"
             }
            },
            "header": {
             "fill": {
              "color": "#C8D4E3"
             },
             "line": {
              "color": "white"
             }
            },
            "type": "table"
           }
          ]
         },
         "layout": {
          "annotationdefaults": {
           "arrowcolor": "#2a3f5f",
           "arrowhead": 0,
           "arrowwidth": 1
          },
          "autotypenumbers": "strict",
          "coloraxis": {
           "colorbar": {
            "outlinewidth": 0,
            "ticks": ""
           }
          },
          "colorscale": {
           "diverging": [
            [
             0,
             "#8e0152"
            ],
            [
             0.1,
             "#c51b7d"
            ],
            [
             0.2,
             "#de77ae"
            ],
            [
             0.3,
             "#f1b6da"
            ],
            [
             0.4,
             "#fde0ef"
            ],
            [
             0.5,
             "#f7f7f7"
            ],
            [
             0.6,
             "#e6f5d0"
            ],
            [
             0.7,
             "#b8e186"
            ],
            [
             0.8,
             "#7fbc41"
            ],
            [
             0.9,
             "#4d9221"
            ],
            [
             1,
             "#276419"
            ]
           ],
           "sequential": [
            [
             0,
             "#0d0887"
            ],
            [
             0.1111111111111111,
             "#46039f"
            ],
            [
             0.2222222222222222,
             "#7201a8"
            ],
            [
             0.3333333333333333,
             "#9c179e"
            ],
            [
             0.4444444444444444,
             "#bd3786"
            ],
            [
             0.5555555555555556,
             "#d8576b"
            ],
            [
             0.6666666666666666,
             "#ed7953"
            ],
            [
             0.7777777777777778,
             "#fb9f3a"
            ],
            [
             0.8888888888888888,
             "#fdca26"
            ],
            [
             1,
             "#f0f921"
            ]
           ],
           "sequentialminus": [
            [
             0,
             "#0d0887"
            ],
            [
             0.1111111111111111,
             "#46039f"
            ],
            [
             0.2222222222222222,
             "#7201a8"
            ],
            [
             0.3333333333333333,
             "#9c179e"
            ],
            [
             0.4444444444444444,
             "#bd3786"
            ],
            [
             0.5555555555555556,
             "#d8576b"
            ],
            [
             0.6666666666666666,
             "#ed7953"
            ],
            [
             0.7777777777777778,
             "#fb9f3a"
            ],
            [
             0.8888888888888888,
             "#fdca26"
            ],
            [
             1,
             "#f0f921"
            ]
           ]
          },
          "colorway": [
           "#636efa",
           "#EF553B",
           "#00cc96",
           "#ab63fa",
           "#FFA15A",
           "#19d3f3",
           "#FF6692",
           "#B6E880",
           "#FF97FF",
           "#FECB52"
          ],
          "font": {
           "color": "#2a3f5f"
          },
          "geo": {
           "bgcolor": "white",
           "lakecolor": "white",
           "landcolor": "#E5ECF6",
           "showlakes": true,
           "showland": true,
           "subunitcolor": "white"
          },
          "hoverlabel": {
           "align": "left"
          },
          "hovermode": "closest",
          "mapbox": {
           "style": "light"
          },
          "paper_bgcolor": "white",
          "plot_bgcolor": "#E5ECF6",
          "polar": {
           "angularaxis": {
            "gridcolor": "white",
            "linecolor": "white",
            "ticks": ""
           },
           "bgcolor": "#E5ECF6",
           "radialaxis": {
            "gridcolor": "white",
            "linecolor": "white",
            "ticks": ""
           }
          },
          "scene": {
           "xaxis": {
            "backgroundcolor": "#E5ECF6",
            "gridcolor": "white",
            "gridwidth": 2,
            "linecolor": "white",
            "showbackground": true,
            "ticks": "",
            "zerolinecolor": "white"
           },
           "yaxis": {
            "backgroundcolor": "#E5ECF6",
            "gridcolor": "white",
            "gridwidth": 2,
            "linecolor": "white",
            "showbackground": true,
            "ticks": "",
            "zerolinecolor": "white"
           },
           "zaxis": {
            "backgroundcolor": "#E5ECF6",
            "gridcolor": "white",
            "gridwidth": 2,
            "linecolor": "white",
            "showbackground": true,
            "ticks": "",
            "zerolinecolor": "white"
           }
          },
          "shapedefaults": {
           "line": {
            "color": "#2a3f5f"
           }
          },
          "ternary": {
           "aaxis": {
            "gridcolor": "white",
            "linecolor": "white",
            "ticks": ""
           },
           "baxis": {
            "gridcolor": "white",
            "linecolor": "white",
            "ticks": ""
           },
           "bgcolor": "#E5ECF6",
           "caxis": {
            "gridcolor": "white",
            "linecolor": "white",
            "ticks": ""
           }
          },
          "title": {
           "x": 0.05
          },
          "xaxis": {
           "automargin": true,
           "gridcolor": "white",
           "linecolor": "white",
           "ticks": "",
           "title": {
            "standoff": 15
           },
           "zerolinecolor": "white",
           "zerolinewidth": 2
          },
          "yaxis": {
           "automargin": true,
           "gridcolor": "white",
           "linecolor": "white",
           "ticks": "",
           "title": {
            "standoff": 15
           },
           "zerolinecolor": "white",
           "zerolinewidth": 2
          }
         }
        },
        "title": {
         "text": "Top Selling Vintage per Year"
        },
        "xaxis": {
         "anchor": "y",
         "domain": [
          0,
          1
         ],
         "title": {
          "text": "Year"
         }
        },
        "yaxis": {
         "anchor": "x",
         "domain": [
          0,
          1
         ],
         "title": {
          "text": "Ratings Count"
         }
        }
       }
      }
     },
     "metadata": {},
     "output_type": "display_data"
    }
   ],
   "source": [
    "import sqlite3\n",
    "import pandas as pd\n",
    "import plotly.express as px\n",
    "\n",
    "# Connect to the SQLite database\n",
    "conn = sqlite3.connect(r'C:\\Users\\samve\\OneDrive\\0BeCode\\repos\\wine_market_analysis\\data\\vivino.db')\n",
    "\n",
    "# Execute the query and fetch data\n",
    "query = \"\"\"\n",
    "WITH ranked_vintages AS (\n",
    "    SELECT v.id AS vintage_id, v.name AS vintage_name, v.year, v.ratings_count,\n",
    "           RANK() OVER (PARTITION BY v.year ORDER BY v.ratings_count DESC) AS rank\n",
    "    FROM vintages AS v\n",
    ")\n",
    "SELECT year, vintage_name, ratings_count\n",
    "FROM ranked_vintages\n",
    "WHERE rank <= 1 AND year > 2000\n",
    "ORDER BY year;\n",
    "\"\"\"\n",
    "result = conn.execute(query).fetchall()\n",
    "\n",
    "# Close the database connection\n",
    "conn.close()\n",
    "\n",
    "# Convert the result to a Pandas DataFrame\n",
    "columns = ['year', 'vintage_name', 'ratings_count']\n",
    "df = pd.DataFrame(result, columns=columns)\n",
    "\n",
    "# Create a Plotly visualization\n",
    "fig = px.bar(df, x='year', y='ratings_count', text='vintage_name',\n",
    "             title='Top Selling Vintage per Year')\n",
    "fig.update_traces(textposition='outside')\n",
    "fig.update_layout(xaxis_title='Year', yaxis_title='Ratings Count')\n",
    "fig.show()"
   ]
  },
  {
   "cell_type": "code",
   "execution_count": 15,
   "metadata": {},
   "outputs": [
    {
     "data": {
      "text/plain": [
       "[(2, 'Cabernet Sauvignon', 12, 9621012),\n",
       " (10, 'Merlot', 11, 6233909),\n",
       " (5, 'Chardonnay', 6, 3625248)]"
      ]
     },
     "execution_count": 15,
     "metadata": {},
     "output_type": "execute_result"
    }
   ],
   "source": [
    "import sqlite3\n",
    "import pandas as pd\n",
    "import plotly.express as px\n",
    "\n",
    "# Connect to the SQLite database\n",
    "conn = sqlite3.connect(r'C:\\Users\\samve\\OneDrive\\0BeCode\\repos\\wine_market_analysis\\data\\vivino.db')\n",
    "\n",
    "# Execute the query and fetch data\n",
    "query = \"\"\"\n",
    "SELECT g.id, g.name, count(mg.country_code) AS country, sum(mg.wines_count)\n",
    "            FROM grapes g\n",
    "            JOIN most_used_grapes_per_country mg ON mg.grape_id = g.id\n",
    "            GROUP BY g.id, g.name\n",
    "            ORDER BY country desc\n",
    "            LIMIT 3\n",
    "            ;\n",
    "\"\"\"\n",
    "conn.execute(query).fetchall()\n"
   ]
  },
  {
   "cell_type": "code",
   "execution_count": 16,
   "metadata": {},
   "outputs": [
    {
     "name": "stdout",
     "output_type": "stream",
     "text": [
      "   champagne_name  ratings_average  ratings_count  price_euros  year\n",
      "0  Clos du Mesnil              4.8            333      3096.25  2000\n",
      "1  Clos du Mesnil              4.8            235      3522.50  1998\n"
     ]
    }
   ],
   "source": [
    "import sqlite3\n",
    "import pandas as pd\n",
    "import plotly.express as px\n",
    "\n",
    "# Connect to the SQLite database\n",
    "conn = sqlite3.connect(r'C:\\Users\\samve\\OneDrive\\0BeCode\\repos\\wine_market_analysis\\data\\vivino.db')\n",
    "\n",
    "# Execute the query and fetch data\n",
    "query = \"\"\"\n",
    "SELECT w.name AS champagne_name, v.ratings_average, v.ratings_count,\n",
    "       v.price_euros, v.year\n",
    "FROM wines AS w\n",
    "JOIN vintages AS v ON w.id = v.wine_id\n",
    "JOIN regions AS r ON w.region_id = r.id\n",
    "WHERE r.name = 'Champagne' AND v.price_euros < 100 \n",
    "ORDER BY v.ratings_average DESC, v.ratings_count DESC\n",
    "LIMIT 2;\n",
    "\"\"\"\n",
    "result = conn.execute(query).fetchall()\n",
    "\n",
    "# Close the database connection\n",
    "conn.close()\n",
    "\n",
    "# Convert the result to a Pandas DataFrame\n",
    "columns = ['champagne_name', 'ratings_average', 'ratings_count', 'price_euros', 'year']\n",
    "df = pd.DataFrame(result, columns=columns)\n",
    "\n",
    "# Display the selected champagnes\n",
    "print(df)"
   ]
  },
  {
   "cell_type": "code",
   "execution_count": 25,
   "metadata": {},
   "outputs": [
    {
     "name": "stdout",
     "output_type": "stream",
     "text": [
      "['Cabernet Sauvignon', 'Merlot', 'Chardonnay']\n"
     ]
    }
   ],
   "source": [
    "import sqlite3\n",
    "\n",
    "# Connect to the SQLite database\n",
    "conn = sqlite3.connect(r'C:\\Users\\samve\\OneDrive\\0BeCode\\repos\\wine_market_analysis\\data\\vivino.db')\n",
    "\n",
    "# Execute the query and fetch data\n",
    "query = \"\"\"\n",
    "SELECT g.name AS grape_name\n",
    "FROM grapes AS g\n",
    "JOIN most_used_grapes_per_country AS m\n",
    "ON g.id = m.grape_id\n",
    "GROUP BY g.name\n",
    "ORDER BY COUNT(*) DESC\n",
    "LIMIT 3;\n",
    "\"\"\"\n",
    "result = conn.execute(query).fetchall()\n",
    "\n",
    "# Close the database connection\n",
    "conn.close()\n",
    "\n",
    "# Extract the top 3 grape names\n",
    "top_grapes = [row[0] for row in result]\n",
    "print(top_grapes)"
   ]
  },
  {
   "cell_type": "code",
   "execution_count": null,
   "metadata": {},
   "outputs": [],
   "source": [
    "import sqlite3\n",
    "import pandas as pd\n",
    "\n",
    "# Connect to the SQLite database\n",
    "conn = sqlite3.connect(r'C:\\Users\\samve\\OneDrive\\0BeCode\\repos\\wine_market_analysis\\data\\vivino.db')\n",
    "\n",
    "# Get the favorite grape worldwide\n",
    "query_favorite_grape = \"\"\"\n",
    "SELECT g.name AS favorite_grape\n",
    "FROM grapes AS g\n",
    "JOIN most_used_grapes_per_country AS m\n",
    "ON g.id = m.grape_id\n",
    "GROUP BY g.name\n",
    "ORDER BY COUNT(*) DESC\n",
    "LIMIT 1;\n",
    "\"\"\"\n",
    "favorite_grape_result = conn.execute(query_favorite_grape).fetchone()\n",
    "\n",
    "# Extract the favorite grape name\n",
    "favorite_grape = favorite_grape_result[0]\n",
    "\n",
    "# Initialize an empty list to store the query results\n",
    "results = []\n",
    "\n",
    "# Fetch 2 best vintages for the favorite grape\n",
    "query_best_vintages = f\"\"\"\n",
    "SELECT w.name AS wine_name, v.ratings_average, v.year, v.price_euros\n",
    "FROM wines AS w\n",
    "JOIN vintages AS v ON w.id = v.wine_id\n",
    "JOIN wines AS w2 ON v.wine_id = w2.id\n",
    "JOIN most_used_grapes_per_country AS m ON w2.id = m.id\n",
    "JOIN grapes AS g ON m.grape_id = g.id\n",
    "WHERE g.name = '{favorite_grape}'\n",
    "ORDER BY v.ratings_average DESC\n",
    "LIMIT 2;\n",
    "\"\"\"\n",
    "best_vintages_result = conn.execute(query_best_vintages).fetchall()\n",
    "\n",
    "# Close the database connection\n",
    "conn.close()\n",
    "\n",
    "# Create a DataFrame from the results\n",
    "columns = ['grape', 'wine_name', 'ratings_average', 'year', 'price_euros']\n",
    "df = pd.DataFrame([(favorite_grape,) + vintage for vintage in best_vintages_result], columns=columns)\n",
    "\n",
    "# Print the DataFrame\n",
    "print(df)\n"
   ]
  },
  {
   "cell_type": "code",
   "execution_count": 57,
   "metadata": {},
   "outputs": [
    {
     "name": "stdout",
     "output_type": "stream",
     "text": [
      "                                        vintage_name  ratings_average  year  \\\n",
      "0  Château Climens Barsac (Premier Grand Cru Clas...              4.5  2016   \n",
      "1              De Toren Private Cellar Fusion V 2018              4.5  2018   \n",
      "2                     Pago de Carraovejas Tinto 2020              4.5  2020   \n",
      "3         Tenuta Ulisse Limited Edition 10 Vendemmie              4.5  N.V.   \n",
      "\n",
      "   price_euros    group_name  \n",
      "0        38.09  citrus_fruit  \n",
      "1        36.10  citrus_fruit  \n",
      "2        42.95  citrus_fruit  \n",
      "3        34.20       non_oak  \n"
     ]
    }
   ],
   "source": [
    "import sqlite3\n",
    "import pandas as pd\n",
    "\n",
    "# Connect to the SQLite database\n",
    "conn = sqlite3.connect(r'C:\\Users\\samve\\OneDrive\\0BeCode\\repos\\wine_market_analysis\\data\\vivino.db')\n",
    "\n",
    "# Define the primary keywords and the minimum user count\n",
    "primary_keywords = ['coffee', 'toast', 'green apple', 'cream', 'citrus']  # Replace with your primary keywords\n",
    "min_users_count = 100\n",
    "\n",
    "# Create a comma-separated list of primary keywords for the query\n",
    "primary_keywords_str = \", \".join([f\"'{kw}'\" for kw in primary_keywords])\n",
    "\n",
    "# Fetch wines with the specified primary keywords and minimum user count\n",
    "query_vintages_with_keywords = f\"\"\"\n",
    "SELECT DISTINCT v.name AS vintage_name, v.ratings_average, v.year, v.price_euros, kw.group_name\n",
    "FROM vintages AS v\n",
    "JOIN wines AS w ON v.wine_id = w.id\n",
    "JOIN keywords_wine AS kw ON w.id = kw.wine_id\n",
    "JOIN keywords AS k ON kw.keyword_id = k.id\n",
    "WHERE k.name IN ({primary_keywords_str}) AND v.price_euros < 50\n",
    "GROUP BY v.id\n",
    "HAVING SUM(kw.count) >= {min_users_count}\n",
    "ORDER BY v.ratings_average DESC\n",
    "LIMIT 4;\n",
    "\"\"\"\n",
    "vintages_with_keywords_result = conn.execute(query_vintages_with_keywords).fetchall()\n",
    "\n",
    "# Close the database connection\n",
    "conn.close()\n",
    "\n",
    "# Create a DataFrame from the results\n",
    "columns = ['vintage_name', 'ratings_average', 'year', 'price_euros', 'group_name']\n",
    "df_vintages_with_keywords = pd.DataFrame(vintages_with_keywords_result, columns=columns)\n",
    "\n",
    "# Print the DataFrame\n",
    "print(df_vintages_with_keywords)\n"
   ]
  },
  {
   "cell_type": "markdown",
   "metadata": {},
   "source": [
    "['coffee', 'toast', 'green apple', 'cream', 'citrus']"
   ]
  },
  {
   "cell_type": "code",
   "execution_count": 60,
   "metadata": {},
   "outputs": [
    {
     "data": {
      "text/plain": [
       "[(11890,\n",
       "  '60 Sessantanni Old Vines Primitivo di Manduria',\n",
       "  'San Marzano 60 Sessantanni Old Vines Primitivo di Manduria 2018',\n",
       "  4.5,\n",
       "  94289,\n",
       "  24.75,\n",
       "  17),\n",
       " (11890,\n",
       "  '60 Sessantanni Old Vines Primitivo di Manduria',\n",
       "  'San Marzano 60 Sessantanni Old Vines Primitivo di Manduria 2018',\n",
       "  4.5,\n",
       "  94289,\n",
       "  24.75,\n",
       "  1),\n",
       " (11890,\n",
       "  '60 Sessantanni Old Vines Primitivo di Manduria',\n",
       "  'San Marzano 60 Sessantanni Old Vines Primitivo di Manduria 2018',\n",
       "  4.5,\n",
       "  94289,\n",
       "  24.75,\n",
       "  19),\n",
       " (6331780,\n",
       "  'Guerriero della Terra',\n",
       "  'Guerrieri Guerriero della Terra 2019',\n",
       "  4.4,\n",
       "  10185,\n",
       "  27.4,\n",
       "  1),\n",
       " (6023708,\n",
       "  'Dona Ermelinda Grande Reserva',\n",
       "  'Casa Ermelinda Freitas Dona Ermelinda Grande Reserva 2017',\n",
       "  4.4,\n",
       "  933,\n",
       "  29.95,\n",
       "  8),\n",
       " (6023708,\n",
       "  'Dona Ermelinda Grande Reserva',\n",
       "  'Casa Ermelinda Freitas Dona Ermelinda Grande Reserva 2017',\n",
       "  4.4,\n",
       "  933,\n",
       "  29.95,\n",
       "  7),\n",
       " (6023708,\n",
       "  'Dona Ermelinda Grande Reserva',\n",
       "  'Casa Ermelinda Freitas Dona Ermelinda Grande Reserva 2017',\n",
       "  4.4,\n",
       "  933,\n",
       "  29.95,\n",
       "  9),\n",
       " (6023708,\n",
       "  'Dona Ermelinda Grande Reserva',\n",
       "  'Casa Ermelinda Freitas Dona Ermelinda Grande Reserva 2017',\n",
       "  4.4,\n",
       "  933,\n",
       "  29.95,\n",
       "  8),\n",
       " (6139455,\n",
       "  'Limited Edition 10 Vendemmie',\n",
       "  'Tenuta Ulisse Limited Edition 10 Vendemmie',\n",
       "  4.5,\n",
       "  9453,\n",
       "  34.2,\n",
       "  5),\n",
       " (6139455,\n",
       "  'Limited Edition 10 Vendemmie',\n",
       "  'Tenuta Ulisse Limited Edition 10 Vendemmie',\n",
       "  4.5,\n",
       "  9453,\n",
       "  34.2,\n",
       "  15)]"
      ]
     },
     "execution_count": 60,
     "metadata": {},
     "output_type": "execute_result"
    }
   ],
   "source": [
    "import sqlite3\n",
    "import pandas as pd\n",
    "import streamlit as st\n",
    "import sqlite3\n",
    "connexion = sqlite3.connect(r'C:\\Users\\samve\\OneDrive\\0BeCode\\repos\\wine_market_analysis\\data\\vivino.db')\n",
    "cursor = connexion.cursor()\n",
    "cursor.execute(\"\"\"\n",
    "SELECT\n",
    "    w.id AS wine_id,\n",
    "    w.name AS wine_name,\n",
    "    v.name AS vintage_name,\n",
    "    w.ratings_average,\n",
    "    w.ratings_count,\n",
    "    v.price_euros,\n",
    "    vt.rank AS toplist_rank\n",
    "FROM wines w\n",
    "JOIN vintages v ON w.id = v.wine_id\n",
    "LEFT JOIN vintage_toplists_rankings vt ON v.id = vt.vintage_id\n",
    "WHERE toplist_rank >0\n",
    "ORDER BY\n",
    "    v.price_euros ASC,\n",
    "    w.ratings_average DESC,\n",
    "    w.ratings_count DESC\n",
    "LIMIT 10;\n",
    "\"\"\")\n",
    "cursor.fetchall()"
   ]
  },
  {
   "cell_type": "markdown",
   "metadata": {},
   "source": [
    "Recommend 5 wines with the 'Cabarnet Sauvignon' grape for the VIP"
   ]
  },
  {
   "cell_type": "code",
   "execution_count": null,
   "metadata": {},
   "outputs": [],
   "source": [
    "import sqlite3\n",
    "import pandas as pd\n",
    "\n",
    "# Connect to the SQLite database\n",
    "conn = sqlite3.connect(r'C:\\Users\\samve\\OneDrive\\0BeCode\\repos\\wine_market_analysis\\data\\vivino.db')\n",
    "\n",
    "# Define the grape variety for the recommendation\n",
    "grape_variety = 'Cabernet Sauvignon'  # Replace with the desired grape variety\n",
    "\n",
    "# Fetch the top 5 recommended wines with the specified grape variety\n",
    "query_top_recommended_wines = f\"\"\"\n",
    "SELECT w.name AS wine_name, v.ratings_average, v.year, v.price_euros, g.name\n",
    "FROM wines AS w\n",
    "JOIN vintages AS v ON w.id = v.wine_id\n",
    "JOIN regions AS r ON r.id = w.region_id\n",
    "JOIN most_used_grapes_per_country AS m ON m.id = r.country_code\n",
    "JOIN grapes AS g ON m.grape_id = g.id\n",
    "WHERE g.name = '{grape_variety}'\n",
    "ORDER BY v.ratings_average DESC\n",
    "LIMIT 5;\n",
    "\"\"\"\n",
    "top_recommended_wines_result = conn.execute(query_top_recommended_wines).fetchall()\n",
    "\n",
    "# Close the database connection\n",
    "conn.close()\n",
    "\n",
    "# Create a DataFrame from the results\n",
    "columns = ['wine_name', 'ratings_average', 'year', 'price_euros', 'grape']\n",
    "df_top_recommended_wines = pd.DataFrame(top_recommended_wines_result, columns=columns)\n",
    "\n",
    "# Print the DataFrame\n",
    "print(df_top_recommended_wines)\n"
   ]
  }
 ],
 "metadata": {
  "kernelspec": {
   "display_name": ".venv",
   "language": "python",
   "name": "python3"
  },
  "language_info": {
   "codemirror_mode": {
    "name": "ipython",
    "version": 3
   },
   "file_extension": ".py",
   "mimetype": "text/x-python",
   "name": "python",
   "nbconvert_exporter": "python",
   "pygments_lexer": "ipython3",
   "version": "3.11.4"
  },
  "orig_nbformat": 4
 },
 "nbformat": 4,
 "nbformat_minor": 2
}
