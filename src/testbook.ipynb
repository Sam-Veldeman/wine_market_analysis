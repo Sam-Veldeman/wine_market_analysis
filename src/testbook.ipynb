{
 "cells": [
  {
   "cell_type": "code",
   "execution_count": 8,
   "metadata": {},
   "outputs": [
    {
     "name": "stdout",
     "output_type": "stream",
     "text": [
      "The sql extension is already loaded. To reload it, use:\n",
      "  %reload_ext sql\n",
      "<class 'sqlalchemy.engine.base.Engine'>\n"
     ]
    }
   ],
   "source": [
    "from sqlalchemy import create_engine\n",
    "from sqlalchemy import MetaData, Table\n",
    "%load_ext sql\n",
    "engine = create_engine('sqlite:///../data/vivino.db')\n",
    "connection = engine.connect()\n",
    "from sqlalchemy import Column, Integer, String, ForeignKey\n",
    "from sqlalchemy.orm import declarative_base\n",
    "from sqlalchemy.orm import sessionmaker\n",
    "\n",
    "# declarative base class\n",
    "Base = declarative_base()\n",
    "#metadata = MetaData()\n",
    "#vintages = Table('vintages', metadata, autoload=True, autoload_with=engine)\n",
    "\n",
    "# Print the column names\n",
    "#print(vintages.columns.keys())\n",
    "\n",
    "\n",
    "\n",
    "# Print full table metadata\n",
    "#print(repr(metadata.tables['vintages']))\n",
    "print(type(engine))\n"
   ]
  },
  {
   "cell_type": "code",
   "execution_count": null,
   "metadata": {},
   "outputs": [],
   "source": [
    "Base.metadata.bind = engine\n",
    "DBSession = sessionmaker(bind=engine)\n",
    "session = DBSession()"
   ]
  },
  {
   "cell_type": "code",
   "execution_count": null,
   "metadata": {},
   "outputs": [],
   "source": [
    "class Countries(Base):# We inherit from Base\n",
    "    __tablename__ = 'Countries' # Provide the name of the database table\n",
    "\n",
    "    id = Column(Integer, primary_key=True) # Set an id field\n",
    "    title = Column('title', String(32)) # Set a title field\n",
    "    number_of_pages=Column('number_of_pages', Integer) #Set a number of pages field\n",
    "\n",
    "    # This init method that will allow you to easily create a new entry later.\n",
    "    def __init__(self, title: str, number_of_pages: int):\n",
    "        self.title = title\n",
    "        self.number_of_pages = number_of_pages"
   ]
  },
  {
   "cell_type": "code",
   "execution_count": 6,
   "metadata": {},
   "outputs": [
    {
     "name": "stdout",
     "output_type": "stream",
     "text": [
      "['countries', 'flavor_groups', 'grapes', 'keywords', 'keywords_wine', 'most_used_grapes_per_country', 'regions', 'toplists', 'vintage_toplists_rankings', 'vintages', 'wineries', 'wines']\n"
     ]
    }
   ],
   "source": [
    "from sqlalchemy import inspect\n",
    "inspector = inspect(engine)\n",
    "\n",
    "# Get table information\n",
    "print(inspector.get_table_names())"
   ]
  },
  {
   "cell_type": "code",
   "execution_count": 11,
   "metadata": {},
   "outputs": [
    {
     "ename": "NameError",
     "evalue": "name 'countries' is not defined",
     "output_type": "error",
     "traceback": [
      "\u001b[1;31m---------------------------------------------------------------------------\u001b[0m",
      "\u001b[1;31mNameError\u001b[0m                                 Traceback (most recent call last)",
      "Cell \u001b[1;32mIn[11], line 1\u001b[0m\n\u001b[1;32m----> 1\u001b[0m query \u001b[39m=\u001b[39m session\u001b[39m.\u001b[39mquery(countries)\n\u001b[0;32m      2\u001b[0m \u001b[39mfor\u001b[39;00m _row \u001b[39min\u001b[39;00m query\u001b[39m.\u001b[39mall():\n\u001b[0;32m      3\u001b[0m     \u001b[39mprint\u001b[39m(_row\u001b[39m.\u001b[39mcode, _row\u001b[39m.\u001b[39mname, _row\u001b[39m.\u001b[39mregions_count, _row\u001b[39m.\u001b[39musers_count, _row\u001b[39m.\u001b[39mwines_count, _row\u001b[39m.\u001b[39mwineries_count)\n",
      "\u001b[1;31mNameError\u001b[0m: name 'countries' is not defined"
     ]
    }
   ],
   "source": [
    "query = session.query(countries)\n",
    "for _row in query.all():\n",
    "    print(_row.code, _row.name, _row.regions_count, _row.users_count, _row.wines_count, _row.wineries_count)"
   ]
  },
  {
   "cell_type": "code",
   "execution_count": 2,
   "metadata": {},
   "outputs": [],
   "source": [
    "%sql sqlite:///../data/vivino.db"
   ]
  },
  {
   "cell_type": "code",
   "execution_count": 5,
   "metadata": {},
   "outputs": [],
   "source": [
    "# Bind the engine to the metadata of the Base class so that the\n",
    "# declaratives can be accessed through a DBSession instance\n",
    "Base.metadata.bind = engine\n",
    "DBSession = sessionmaker(bind=engine)\n",
    "session = DBSession()"
   ]
  },
  {
   "cell_type": "code",
   "execution_count": 7,
   "metadata": {},
   "outputs": [
    {
     "data": {
      "text/html": [
       "<span style=\"None\">Running query in &#x27;sqlite:///../data/vivino.db&#x27;</span>"
      ],
      "text/plain": [
       "Running query in 'sqlite:///../data/vivino.db'"
      ]
     },
     "metadata": {},
     "output_type": "display_data"
    },
    {
     "data": {
      "text/html": [
       "<table>\n",
       "    <thead>\n",
       "        <tr>\n",
       "            <th>code</th>\n",
       "            <th>name</th>\n",
       "            <th>regions_count</th>\n",
       "            <th>users_count</th>\n",
       "            <th>wines_count</th>\n",
       "            <th>wineries_count</th>\n",
       "        </tr>\n",
       "    </thead>\n",
       "    <tbody>\n",
       "        <tr>\n",
       "            <td>it</td>\n",
       "            <td>Italie</td>\n",
       "            <td>563</td>\n",
       "            <td>4270717</td>\n",
       "            <td>274658</td>\n",
       "            <td>42399</td>\n",
       "        </tr>\n",
       "        <tr>\n",
       "            <td>fr</td>\n",
       "            <td>France</td>\n",
       "            <td>1306</td>\n",
       "            <td>5973301</td>\n",
       "            <td>422503</td>\n",
       "            <td>67553</td>\n",
       "        </tr>\n",
       "        <tr>\n",
       "            <td>us</td>\n",
       "            <td>États-Unis</td>\n",
       "            <td>362</td>\n",
       "            <td>12273684</td>\n",
       "            <td>204060</td>\n",
       "            <td>28145</td>\n",
       "        </tr>\n",
       "        <tr>\n",
       "            <td>es</td>\n",
       "            <td>Espagne</td>\n",
       "            <td>152</td>\n",
       "            <td>2264396</td>\n",
       "            <td>102662</td>\n",
       "            <td>18026</td>\n",
       "        </tr>\n",
       "        <tr>\n",
       "            <td>pt</td>\n",
       "            <td>Portugal</td>\n",
       "            <td>93</td>\n",
       "            <td>1123535</td>\n",
       "            <td>39847</td>\n",
       "            <td>5834</td>\n",
       "        </tr>\n",
       "        <tr>\n",
       "            <td>au</td>\n",
       "            <td>Australie</td>\n",
       "            <td>120</td>\n",
       "            <td>1022965</td>\n",
       "            <td>90954</td>\n",
       "            <td>13946</td>\n",
       "        </tr>\n",
       "        <tr>\n",
       "            <td>hu</td>\n",
       "            <td>Hongrie</td>\n",
       "            <td>29</td>\n",
       "            <td>102235</td>\n",
       "            <td>16605</td>\n",
       "            <td>1923</td>\n",
       "        </tr>\n",
       "        <tr>\n",
       "            <td>za</td>\n",
       "            <td>Afrique du Sud</td>\n",
       "            <td>112</td>\n",
       "            <td>269649</td>\n",
       "            <td>30857</td>\n",
       "            <td>4227</td>\n",
       "        </tr>\n",
       "        <tr>\n",
       "            <td>de</td>\n",
       "            <td>Allemagne</td>\n",
       "            <td>236</td>\n",
       "            <td>2549989</td>\n",
       "            <td>164533</td>\n",
       "            <td>13643</td>\n",
       "        </tr>\n",
       "        <tr>\n",
       "            <td>cl</td>\n",
       "            <td>Chili</td>\n",
       "            <td>41</td>\n",
       "            <td>326757</td>\n",
       "            <td>41191</td>\n",
       "            <td>5785</td>\n",
       "        </tr>\n",
       "    </tbody>\n",
       "</table>\n",
       "<span style=\"font-style:italic;text-align:center;\">Truncated to <a href=\"https://jupysql.ploomber.io/en/latest/api/configuration.html#displaylimit\">displaylimit</a> of 10.</span>"
      ],
      "text/plain": [
       "+------+----------------+---------------+-------------+-------------+----------------+\n",
       "| code |      name      | regions_count | users_count | wines_count | wineries_count |\n",
       "+------+----------------+---------------+-------------+-------------+----------------+\n",
       "|  it  |     Italie     |      563      |   4270717   |    274658   |     42399      |\n",
       "|  fr  |     France     |      1306     |   5973301   |    422503   |     67553      |\n",
       "|  us  |   États-Unis   |      362      |   12273684  |    204060   |     28145      |\n",
       "|  es  |    Espagne     |      152      |   2264396   |    102662   |     18026      |\n",
       "|  pt  |    Portugal    |       93      |   1123535   |    39847    |      5834      |\n",
       "|  au  |   Australie    |      120      |   1022965   |    90954    |     13946      |\n",
       "|  hu  |    Hongrie     |       29      |    102235   |    16605    |      1923      |\n",
       "|  za  | Afrique du Sud |      112      |    269649   |    30857    |      4227      |\n",
       "|  de  |   Allemagne    |      236      |   2549989   |    164533   |     13643      |\n",
       "|  cl  |     Chili      |       41      |    326757   |    41191    |      5785      |\n",
       "+------+----------------+---------------+-------------+-------------+----------------+\n",
       "Truncated to displaylimit of 10."
      ]
     },
     "execution_count": 7,
     "metadata": {},
     "output_type": "execute_result"
    }
   ],
   "source": [
    "%%sql\n",
    "SELECT * FROM countries;"
   ]
  },
  {
   "cell_type": "code",
   "execution_count": 18,
   "metadata": {},
   "outputs": [
    {
     "data": {
      "text/html": [
       "<span style=\"None\">Running query in &#x27;sqlite:///../data/vivino.db&#x27;</span>"
      ],
      "text/plain": [
       "Running query in 'sqlite:///../data/vivino.db'"
      ]
     },
     "metadata": {},
     "output_type": "display_data"
    },
    {
     "data": {
      "text/html": [
       "<table>\n",
       "    <thead>\n",
       "        <tr>\n",
       "            <th>cid</th>\n",
       "            <th>name</th>\n",
       "            <th>type</th>\n",
       "            <th>notnull</th>\n",
       "            <th>dflt_value</th>\n",
       "            <th>pk</th>\n",
       "        </tr>\n",
       "    </thead>\n",
       "    <tbody>\n",
       "        <tr>\n",
       "            <td>0</td>\n",
       "            <td>code</td>\n",
       "            <td>VARCHAR</td>\n",
       "            <td>1</td>\n",
       "            <td>None</td>\n",
       "            <td>1</td>\n",
       "        </tr>\n",
       "        <tr>\n",
       "            <td>1</td>\n",
       "            <td>name</td>\n",
       "            <td>VARCHAR</td>\n",
       "            <td>0</td>\n",
       "            <td>None</td>\n",
       "            <td>0</td>\n",
       "        </tr>\n",
       "        <tr>\n",
       "            <td>2</td>\n",
       "            <td>regions_count</td>\n",
       "            <td>INTEGER</td>\n",
       "            <td>0</td>\n",
       "            <td>None</td>\n",
       "            <td>0</td>\n",
       "        </tr>\n",
       "        <tr>\n",
       "            <td>3</td>\n",
       "            <td>users_count</td>\n",
       "            <td>INTEGER</td>\n",
       "            <td>0</td>\n",
       "            <td>None</td>\n",
       "            <td>0</td>\n",
       "        </tr>\n",
       "        <tr>\n",
       "            <td>4</td>\n",
       "            <td>wines_count</td>\n",
       "            <td>INTEGER</td>\n",
       "            <td>0</td>\n",
       "            <td>None</td>\n",
       "            <td>0</td>\n",
       "        </tr>\n",
       "        <tr>\n",
       "            <td>5</td>\n",
       "            <td>wineries_count</td>\n",
       "            <td>INTEGER</td>\n",
       "            <td>0</td>\n",
       "            <td>None</td>\n",
       "            <td>0</td>\n",
       "        </tr>\n",
       "    </tbody>\n",
       "</table>"
      ],
      "text/plain": [
       "+-----+----------------+---------+---------+------------+----+\n",
       "| cid |      name      |   type  | notnull | dflt_value | pk |\n",
       "+-----+----------------+---------+---------+------------+----+\n",
       "|  0  |      code      | VARCHAR |    1    |    None    | 1  |\n",
       "|  1  |      name      | VARCHAR |    0    |    None    | 0  |\n",
       "|  2  | regions_count  | INTEGER |    0    |    None    | 0  |\n",
       "|  3  |  users_count   | INTEGER |    0    |    None    | 0  |\n",
       "|  4  |  wines_count   | INTEGER |    0    |    None    | 0  |\n",
       "|  5  | wineries_count | INTEGER |    0    |    None    | 0  |\n",
       "+-----+----------------+---------+---------+------------+----+"
      ]
     },
     "execution_count": 18,
     "metadata": {},
     "output_type": "execute_result"
    }
   ],
   "source": [
    "%%sql\n",
    "PRAGMA table_info('countries');"
   ]
  },
  {
   "cell_type": "code",
   "execution_count": 4,
   "metadata": {},
   "outputs": [],
   "source": [
    "Base.metadata.create_all(engine)"
   ]
  },
  {
   "cell_type": "code",
   "execution_count": 19,
   "metadata": {},
   "outputs": [
    {
     "data": {
      "text/html": [
       "<span style=\"None\">Running query in &#x27;sqlite:///../data/vivino.db&#x27;</span>"
      ],
      "text/plain": [
       "Running query in 'sqlite:///../data/vivino.db'"
      ]
     },
     "metadata": {},
     "output_type": "display_data"
    },
    {
     "data": {
      "text/html": [
       "<table>\n",
       "    <thead>\n",
       "        <tr>\n",
       "            <th>ratings_average</th>\n",
       "            <th>name</th>\n",
       "        </tr>\n",
       "    </thead>\n",
       "    <tbody>\n",
       "        <tr>\n",
       "            <td>4.6</td>\n",
       "            <td>Vin Santo di Montepulciano</td>\n",
       "        </tr>\n",
       "        <tr>\n",
       "            <td>4.4</td>\n",
       "            <td>St. Henri Shiraz</td>\n",
       "        </tr>\n",
       "        <tr>\n",
       "            <td>4.4</td>\n",
       "            <td>Siepi</td>\n",
       "        </tr>\n",
       "        <tr>\n",
       "            <td>4.2</td>\n",
       "            <td>Solare Toscana</td>\n",
       "        </tr>\n",
       "        <tr>\n",
       "            <td>4.6</td>\n",
       "            <td>Tenuta Tignanello 'Solaia'</td>\n",
       "        </tr>\n",
       "        <tr>\n",
       "            <td>4.5</td>\n",
       "            <td>Tignanello</td>\n",
       "        </tr>\n",
       "        <tr>\n",
       "            <td>4.5</td>\n",
       "            <td>Tenuta Guado al Tasso Bolgheri Superiore</td>\n",
       "        </tr>\n",
       "        <tr>\n",
       "            <td>4.3</td>\n",
       "            <td>Pian delle Vigne Brunello di Montalcino</td>\n",
       "        </tr>\n",
       "        <tr>\n",
       "            <td>4.4</td>\n",
       "            <td>Castello della Sala Cervaro della Sala</td>\n",
       "        </tr>\n",
       "        <tr>\n",
       "            <td>4.3</td>\n",
       "            <td>Castello della Sala Muffato della Sala</td>\n",
       "        </tr>\n",
       "    </tbody>\n",
       "</table>\n",
       "<span style=\"font-style:italic;text-align:center;\">Truncated to <a href=\"https://jupysql.ploomber.io/en/latest/api/configuration.html#displaylimit\">displaylimit</a> of 10.</span>"
      ],
      "text/plain": [
       "+-----------------+------------------------------------------+\n",
       "| ratings_average |                   name                   |\n",
       "+-----------------+------------------------------------------+\n",
       "|       4.6       |        Vin Santo di Montepulciano        |\n",
       "|       4.4       |             St. Henri Shiraz             |\n",
       "|       4.4       |                  Siepi                   |\n",
       "|       4.2       |              Solare Toscana              |\n",
       "|       4.6       |        Tenuta Tignanello 'Solaia'        |\n",
       "|       4.5       |                Tignanello                |\n",
       "|       4.5       | Tenuta Guado al Tasso Bolgheri Superiore |\n",
       "|       4.3       | Pian delle Vigne Brunello di Montalcino  |\n",
       "|       4.4       |  Castello della Sala Cervaro della Sala  |\n",
       "|       4.3       |  Castello della Sala Muffato della Sala  |\n",
       "+-----------------+------------------------------------------+\n",
       "Truncated to displaylimit of 10."
      ]
     },
     "execution_count": 19,
     "metadata": {},
     "output_type": "execute_result"
    }
   ],
   "source": [
    "%%sql\n",
    "SELECT wines.ratings_average, wines.name\n",
    "FROM wines;"
   ]
  },
  {
   "cell_type": "code",
   "execution_count": 23,
   "metadata": {},
   "outputs": [
    {
     "data": {
      "text/html": [
       "<span style=\"None\">Running query in &#x27;sqlite:///../data/vivino.db&#x27;</span>"
      ],
      "text/plain": [
       "Running query in 'sqlite:///../data/vivino.db'"
      ]
     },
     "metadata": {},
     "output_type": "display_data"
    },
    {
     "data": {
      "text/html": [
       "<table>\n",
       "    <thead>\n",
       "        <tr>\n",
       "            <th>top_list_id</th>\n",
       "        </tr>\n",
       "    </thead>\n",
       "    <tbody>\n",
       "        <tr>\n",
       "            <td>201650</td>\n",
       "        </tr>\n",
       "        <tr>\n",
       "            <td>201850</td>\n",
       "        </tr>\n",
       "        <tr>\n",
       "            <td>201950</td>\n",
       "        </tr>\n",
       "        <tr>\n",
       "            <td>202050</td>\n",
       "        </tr>\n",
       "        <tr>\n",
       "            <td>2019264</td>\n",
       "        </tr>\n",
       "        <tr>\n",
       "            <td>2020264</td>\n",
       "        </tr>\n",
       "        <tr>\n",
       "            <td>2018264</td>\n",
       "        </tr>\n",
       "        <tr>\n",
       "            <td>2020292</td>\n",
       "        </tr>\n",
       "        <tr>\n",
       "            <td>201647</td>\n",
       "        </tr>\n",
       "        <tr>\n",
       "            <td>2019292</td>\n",
       "        </tr>\n",
       "    </tbody>\n",
       "</table>\n",
       "<span style=\"font-style:italic;text-align:center;\">Truncated to <a href=\"https://jupysql.ploomber.io/en/latest/api/configuration.html#displaylimit\">displaylimit</a> of 10.</span>"
      ],
      "text/plain": [
       "+-------------+\n",
       "| top_list_id |\n",
       "+-------------+\n",
       "|    201650   |\n",
       "|    201850   |\n",
       "|    201950   |\n",
       "|    202050   |\n",
       "|   2019264   |\n",
       "|   2020264   |\n",
       "|   2018264   |\n",
       "|   2020292   |\n",
       "|    201647   |\n",
       "|   2019292   |\n",
       "+-------------+\n",
       "Truncated to displaylimit of 10."
      ]
     },
     "execution_count": 23,
     "metadata": {},
     "output_type": "execute_result"
    }
   ],
   "source": [
    "%%sql\n",
    "SELECT DISTINCT vintage_toplists_rankings.top_list_id\n",
    "FROM vintage_toplists_rankings;"
   ]
  }
 ],
 "metadata": {
  "kernelspec": {
   "display_name": ".venv",
   "language": "python",
   "name": "python3"
  },
  "language_info": {
   "codemirror_mode": {
    "name": "ipython",
    "version": 3
   },
   "file_extension": ".py",
   "mimetype": "text/x-python",
   "name": "python",
   "nbconvert_exporter": "python",
   "pygments_lexer": "ipython3",
   "version": "3.11.4"
  },
  "orig_nbformat": 4
 },
 "nbformat": 4,
 "nbformat_minor": 2
}
